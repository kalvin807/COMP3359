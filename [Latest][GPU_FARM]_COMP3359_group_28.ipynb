{
 "cells": [
  {
   "cell_type": "markdown",
   "metadata": {
    "colab_type": "text",
    "id": "GwtOT4QGHQ6-"
   },
   "source": [
    "# COMP3359 Project\n",
    "## Group 28: Classification of Tropical Cyclone Satellite Image by Intensity\n",
    "\n",
    "---\n",
    "\n",
    "### Introduction\n",
    "In this project, we intend to develop a CNN-based model that accepts a satellite image of a tropical cyclone as input and\n",
    "predicts a label the appropriate Dvorak T-number (a measure of tropical cyclone intensity) for it.\n",
    "The T-number is derived using a manual method known as the Dvorak Technique (Dvorak,\n",
    "1975; Dvorak, 1984) and we intend to let an AI model perform it without knowing the exact rules\n",
    "and features to look for.\n",
    "\n",
    "The dataset used is obtained from the website “Digital Typhoon”, a platform that\n",
    "provides historical data (including satellite images) of tropical cyclones, provided by Prof. A. Kitamoto of\n",
    "National Institute of Informatics (Japan), to whom we are highly indebted for his kind permission to use his data.\n",
    "\n",
    "This notebook will be the implementation of our methodology, which is essentially a CNN multi-class image classifier.\n",
    "\n",
    "References used:\n",
    "- Dvorak, V.F. (1975, 5) Tropical Cyclone Intensity Analysis and Forecasting From\n",
    "Satellite Imagery. Monthly Weather Review , Volume 3, pp.420-430.\n",
    "- Dvorak, V.F. (1984) Tropical Cyclone Intensity Analysis Using Satellite Data. National\n",
    "Oceanic and Atmospheric Administration. Washington D.C.: National Oceanic and\n",
    "Atmospheric Administration."
   ]
  },
  {
   "cell_type": "markdown",
   "metadata": {
    "colab_type": "text",
    "id": "i50VmC1eNZ5z"
   },
   "source": [
    "### Table of Content\n",
    "\n",
    "\n",
    "---\n",
    "- Preperation\n",
    "- Prerequisite\n",
    "- Data Exploration and Preprocesssing\n",
    "- [Interim Prototype] Building and Training a Model - Take 1: Pre-trained Net\n",
    "- [Interim Prototype] Building and Training a Model - Take 2: Custom CNN\n",
    "- [Interim Prototype] Conclusions about the two models\n",
    "\n"
   ]
  },
  {
   "cell_type": "markdown",
   "metadata": {
    "colab_type": "text",
    "id": "Y8Vk6w2qjozP"
   },
   "source": [
    "### Preperation\n",
    "\n",
    "> This notebook designs to run un HKU GPU Farm, running it in colab will not work.\n",
    "\n",
    "#### About data format\n",
    "1. Why do we change the raw data to hdf5 file?  \n",
    "    Due to limited size in both colab and HKU gpu farm, we are unable to load all pickel file to VM's disk. Accessing them from google drive also super slow and unstable. Therefore, we merge them into once single hdf5 file with compression, which is 20% of orginial size. Also, hdf5 supports concurrent read which further speed up loading speed.\n",
    "2. Why we compress images from float32 to uint8 images\n",
    "    It also due to the disk limitation and we also found there is no big different in terms of quality."
   ]
  },
  {
   "cell_type": "code",
   "execution_count": 2,
   "metadata": {
    "colab": {},
    "colab_type": "code",
    "id": "HPWpD2pjjozV",
    "outputId": "c0f289af-3257-457c-d9d6-32f333cac6e9"
   },
   "outputs": [
    {
     "data": {
      "text/plain": [
       "' Install correct pytorch version '"
      ]
     },
     "execution_count": 2,
     "metadata": {},
     "output_type": "execute_result"
    }
   ],
   "source": [
    "\"\"\" Install correct pytorch version \"\"\"\n",
    "# Uncomment % ... to see your CUDA version\n",
    "# !/usr/local/cuda/bin/nvcc --version\n",
    "\n",
    "# If you are using CUDA 10.0 (HKU GPU Phrase 1)\n",
    "# !pip install Pillow==6.1\n",
    "# !pip install torch===1.2.0 torchvision===0.4.0 -f https://download.pytorch.org/whl/torch_stable.html\n",
    "\n",
    "# If you have CUDA 10.1\n",
    "# !pip install torch==1.5.0+cu101 torchvision==0.6.0+cu101 -f https://download.pytorch.org/whl/torch_stable.html\n",
    "\n",
    "# If you have CUDA 10.2\n",
    "# !pip install pytorch torchvision"
   ]
  },
  {
   "cell_type": "code",
   "execution_count": 3,
   "metadata": {
    "colab": {},
    "colab_type": "code",
    "id": "yhMi8DIDjozw",
    "outputId": "81212344-267c-48e9-f80d-f3baf8980480"
   },
   "outputs": [
    {
     "data": {
      "text/plain": [
       "' Python packages you might need '"
      ]
     },
     "execution_count": 3,
     "metadata": {},
     "output_type": "execute_result"
    }
   ],
   "source": [
    "\"\"\" Python packages you might need \"\"\"\n",
    "# !pip install h5py opencv-python\n",
    "# !pip install efficientnet-pytorch"
   ]
  },
  {
   "cell_type": "code",
   "execution_count": 4,
   "metadata": {
    "colab": {},
    "colab_type": "code",
    "id": "L8GATHTPjoz-"
   },
   "outputs": [],
   "source": [
    "\"\"\" Import packages \"\"\"\n",
    "import os\n",
    "import sys\n",
    "import numpy as np\n",
    "import pandas as pd\n",
    "import glob\n",
    "import h5py\n",
    "import torch"
   ]
  },
  {
   "cell_type": "code",
   "execution_count": 5,
   "metadata": {
    "colab": {},
    "colab_type": "code",
    "id": "OXlUH1nAJmE0"
   },
   "outputs": [],
   "source": [
    "\"\"\" Set path to data: \"\"\"\n",
    "# WE dumped everything at root, so yeah.\n",
    "dataset_dir = '.'\n",
    "sys.path.append(dataset_dir)\n",
    "IMAGES_H5 = f'{dataset_dir}/compressed_images.hdf5'\n",
    "NPY_FOLDER = f'{dataset_dir}/uint'"
   ]
  },
  {
   "cell_type": "code",
   "execution_count": 6,
   "metadata": {
    "colab": {
     "base_uri": "https://localhost:8080/",
     "height": 34
    },
    "colab_type": "code",
    "id": "UlfyJNu9Y7q6",
    "outputId": "5ba78b59-620d-475c-f33a-e404cb0df2e1"
   },
   "outputs": [
    {
     "name": "stdout",
     "output_type": "stream",
     "text": [
      "GeForce RTX 2080 Ti\n",
      "8\n"
     ]
    }
   ],
   "source": [
    "# Know more about your machine\n",
    "print(torch.cuda.get_device_name() if torch.cuda.is_available() else \"No GPU\")\n",
    "print(os.cpu_count())"
   ]
  },
  {
   "cell_type": "code",
   "execution_count": 7,
   "metadata": {
    "colab": {},
    "colab_type": "code",
    "id": "3s3j8cc_O3P-",
    "outputId": "cb3e715d-2c26-4e64-bb87-f6fb50333ef5"
   },
   "outputs": [
    {
     "data": {
      "text/plain": [
       "163665"
      ]
     },
     "execution_count": 7,
     "metadata": {},
     "output_type": "execute_result"
    }
   ],
   "source": [
    "# Load attribute of images from csv\n",
    "LABELS = pd.read_csv(f\"{dataset_dir}/labels_with_images.csv\")\n",
    "len(LABELS)"
   ]
  },
  {
   "cell_type": "code",
   "execution_count": 8,
   "metadata": {
    "colab": {},
    "colab_type": "code",
    "id": "rHJwKJVBjo0r"
   },
   "outputs": [],
   "source": [
    "# Alternatively you can load a particular image directly from disk (Slow)\n",
    "# Helper function to get a image array from HDF5 file\n",
    "def getImageFromH5(h5, row):\n",
    "        img_name = f\"{row['sequence']}{row['raw_index']}\"\n",
    "        return h5[img_name][()]"
   ]
  },
  {
   "cell_type": "code",
   "execution_count": 9,
   "metadata": {},
   "outputs": [],
   "source": [
    "# Alternative 2: Load it in from npy format(Faster in theory)\n",
    "def getImageFromNPY(row):\n",
    "    img_name = f\"{row['sequence']}{row['raw_index']}\"\n",
    "    return np.load(f\"{NPY_FOLDER}/{img_name}.npy\")"
   ]
  },
  {
   "cell_type": "markdown",
   "metadata": {
    "colab_type": "text",
    "id": "f25gznODIdST"
   },
   "source": [
    "## Data Exploration\n",
    "\n",
    "As mentioned in the proposal, we intend to use the dataset by Prof. A. Kitamoto of the National Institute of Informatics (Japan). Via his website “Digital Typhoon”, a platform that provides historical data (including satellite images) of tropical cyclones, we would likely obtain his research dataset for the use of this project. However Prof. Kitamoto only replied to us on 17 April evening and as a result, we proceeded to obtain training data by means of web scraping, in order to get hands-on experience about how the data would be like. \n",
    "\n",
    "The dataset we obtained consists of over 9000 images. Here are some code to look into the overall statistics of the dataset."
   ]
  },
  {
   "cell_type": "markdown",
   "metadata": {
    "colab_type": "text",
    "id": "3YdGnYb6LNHz"
   },
   "source": [
    "#### Exploring the data [Needs Update]\n",
    "Organisation of dataset folder:\n",
    "\n",
    "\n",
    "```\n",
    "dataset_combined/      #root folder\n",
    "|-- csvs               #contains csv files for each typhoon\n",
    "|-- images             #monstrously huge folder of images\n",
    "|-- typhoon_labels.csv #csv containing paths to images and all other data\n",
    "```\n",
    "\n",
    "Content of the dataset _as of now (15 April, 2020)_:\n",
    "* 9317 images of 260 tropical cyclones (TCs) in the Northwestern Pacific basin between 2009 and 2019 inclusive\n",
    "  * Each image is 512x512 monochrome, already centered on the TC.\n",
    "  * More precisely, they are BD-enhanced (coloured) infrared images, the kind of infrared images human analysts would use to perform the Dvorak Technique.\n",
    "* Other data included for each image: \n",
    "  * an identifier (id): year + number (e.g. 200901) as assigned by the JMA\n",
    "  * name of the tropical cyclone\n",
    "  * date (Y,M,D) and time (hour, 24h system) of the image\n",
    "  * latitude and longitude of the TC in the image\n",
    "  * central pressure (hectopascals/hPa) and wind speed (knots/kt)\n",
    "  * class: intensity of the TC, as classified by the website. Not useful for our cause, as the classification systems are different.\n",
    "  * img: file name of the image in the images folder\n",
    "  * chart: a link to the track chart on the source website\n",
    "\n",
    "Some of the above are going to be unused and would be dropped in due course.\n"
   ]
  },
  {
   "cell_type": "code",
   "execution_count": 10,
   "metadata": {
    "colab": {},
    "colab_type": "code",
    "id": "CTxXtWoiZo9E"
   },
   "outputs": [],
   "source": [
    "# Lets go with import as usual\n",
    "import matplotlib.pyplot as plt\n",
    "import seaborn as sns\n",
    "%matplotlib inline"
   ]
  },
  {
   "cell_type": "code",
   "execution_count": 11,
   "metadata": {
    "colab": {
     "base_uri": "https://localhost:8080/",
     "height": 773
    },
    "colab_type": "code",
    "id": "pTM_QaxU1vwz",
    "outputId": "9250f417-80d1-4081-d279-18011dac183c"
   },
   "outputs": [
    {
     "name": "stdout",
     "output_type": "stream",
     "text": [
      "<class 'pandas.core.frame.DataFrame'>\n",
      "RangeIndex: 163665 entries, 0 to 163664\n",
      "Data columns (total 9 columns):\n",
      " #   Column     Non-Null Count   Dtype  \n",
      "---  ------     --------------   -----  \n",
      " 0   sequence   163665 non-null  int64  \n",
      " 1   raw_index  163665 non-null  int64  \n",
      " 2   datetime   163665 non-null  object \n",
      " 3   class      163665 non-null  int64  \n",
      " 4   latitude   163665 non-null  float64\n",
      " 5   longitude  163665 non-null  float64\n",
      " 6   pressure   163665 non-null  float64\n",
      " 7   TCxETC     163665 non-null  int64  \n",
      " 8   year       163665 non-null  int64  \n",
      "dtypes: float64(3), int64(5), object(1)\n",
      "memory usage: 11.2+ MB\n"
     ]
    }
   ],
   "source": [
    "# Append few extra column of data for later use\n",
    "LABELS = LABELS[['sequence','raw_index','datetime', 'class', 'latitude', 'longitude','pressure', 'TCxETC']]\n",
    "LABELS['year'] = pd.to_datetime(LABELS['datetime'], format='%Y-%m-%d %X').dt.year\n",
    "LABELS.info()"
   ]
  },
  {
   "cell_type": "code",
   "execution_count": 12,
   "metadata": {
    "colab": {
     "base_uri": "https://localhost:8080/",
     "height": 144
    },
    "colab_type": "code",
    "id": "12wI5xPiOnuI",
    "outputId": "0311ce7a-4ffc-4793-91e1-add9516e747b"
   },
   "outputs": [
    {
     "name": "stdout",
     "output_type": "stream",
     "text": [
      "Sample data:\n"
     ]
    },
    {
     "data": {
      "text/plain": [
       "<Figure size 720x720 with 0 Axes>"
      ]
     },
     "metadata": {},
     "output_type": "display_data"
    },
    {
     "data": {
      "image/png": "[encoded data removed]",
      "text/plain": [
       "<Figure size 432x288 with 5 Axes>"
      ]
     },
     "metadata": {
      "needs_background": "light"
     },
     "output_type": "display_data"
    }
   ],
   "source": [
    "# Let's look at some sample images\n",
    "plt.figure(figsize=(10,10))\n",
    "print(\"Sample data:\")\n",
    "fig, ax = plt.subplots(1,5)\n",
    "with h5py.File(IMAGES_H5, 'r') as h5:\n",
    "    for i in range(5):\n",
    "      img = getImageFromH5(h5, LABELS.loc[i])\n",
    "      ax[i].imshow(img, cmap='gray')\n",
    "plt.show()"
   ]
  },
  {
   "cell_type": "code",
   "execution_count": 13,
   "metadata": {},
   "outputs": [
    {
     "name": "stdout",
     "output_type": "stream",
     "text": [
      "Sample data:\n"
     ]
    },
    {
     "data": {
      "text/plain": [
       "<Figure size 720x720 with 0 Axes>"
      ]
     },
     "metadata": {},
     "output_type": "display_data"
    },
    {
     "data": {
      "image/png": "[encoded data removed]",
      "text/plain": [
       "<Figure size 432x288 with 5 Axes>"
      ]
     },
     "metadata": {
      "needs_background": "light"
     },
     "output_type": "display_data"
    }
   ],
   "source": [
    "# If you using npy folder instead of hdf5 \n",
    "plt.figure(figsize=(10,10))\n",
    "print(\"Sample data:\")\n",
    "fig, ax = plt.subplots(1,5)\n",
    "for i in range(5):\n",
    "    img = getImageFromNPY(LABELS.loc[i])\n",
    "    ax[i].imshow(img, cmap='gray')\n",
    "plt.show()"
   ]
  },
  {
   "cell_type": "code",
   "execution_count": 14,
   "metadata": {},
   "outputs": [],
   "source": [
    "sequence = LABELS['sequence'].values\n",
    "raw_index = LABELS['raw_index'].values"
   ]
  },
  {
   "cell_type": "code",
   "execution_count": 15,
   "metadata": {},
   "outputs": [
    {
     "name": "stdout",
     "output_type": "stream",
     "text": [
      "8.93 ms ± 679 µs per loop (mean ± std. dev. of 7 runs, 100 loops each)\n"
     ]
    }
   ],
   "source": [
    "%%timeit\n",
    "for i in range(5):\n",
    "    img = getImageFromNPY(LABELS.iloc[i])"
   ]
  },
  {
   "cell_type": "code",
   "execution_count": 16,
   "metadata": {},
   "outputs": [
    {
     "name": "stdout",
     "output_type": "stream",
     "text": [
      "5.78 ms ± 433 µs per loop (mean ± std. dev. of 7 runs, 100 loops each)\n"
     ]
    }
   ],
   "source": [
    "%%timeit\n",
    "for i in range(5):\n",
    "    img = np.load(f\"{NPY_FOLDER}/{sequence[i]}{raw_index[i]}.npy\")"
   ]
  },
  {
   "cell_type": "code",
   "execution_count": 17,
   "metadata": {},
   "outputs": [
    {
     "name": "stdout",
     "output_type": "stream",
     "text": [
      "78.5 ms ± 1.36 ms per loop (mean ± std. dev. of 7 runs, 10 loops each)\n"
     ]
    }
   ],
   "source": [
    "%%timeit\n",
    "with h5py.File(IMAGES_H5, 'r') as h5:\n",
    "    for i in range(5):\n",
    "        img = getImageFromH5(h5, LABELS.loc[i])"
   ]
  },
  {
   "cell_type": "code",
   "execution_count": 18,
   "metadata": {
    "colab": {
     "base_uri": "https://localhost:8080/",
     "height": 207
    },
    "colab_type": "code",
    "id": "yaLIUuriSLH8",
    "outputId": "5d3e9d7a-75d7-4c8b-dc3a-b9bdd0b12bef"
   },
   "outputs": [
    {
     "data": {
      "text/plain": [
       "['sequence',\n",
       " 'raw_index',\n",
       " 'datetime',\n",
       " 'class',\n",
       " 'latitude',\n",
       " 'longitude',\n",
       " 'pressure',\n",
       " 'TCxETC',\n",
       " 'year']"
      ]
     },
     "execution_count": 18,
     "metadata": {},
     "output_type": "execute_result"
    }
   ],
   "source": [
    "# Labels of each row\n",
    "list(LABELS.columns.values)"
   ]
  },
  {
   "cell_type": "code",
   "execution_count": 19,
   "metadata": {
    "colab": {
     "base_uri": "https://localhost:8080/",
     "height": 438
    },
    "colab_type": "code",
    "id": "qsO_zp6BVmDj",
    "outputId": "be602e9e-4c61-43aa-b699-1d476b656ec1"
   },
   "outputs": [
    {
     "name": "stdout",
     "output_type": "stream",
     "text": [
      "Classes: [0 1 2 3 4 5]\n",
      "Distribution \n",
      "0    42312\n",
      "3    40694\n",
      "1    36358\n",
      "2    25703\n",
      "4    18447\n",
      "5      151\n",
      "Name: class, dtype: int64\n"
     ]
    },
    {
     "data": {
      "text/plain": [
       "<matplotlib.axes._subplots.AxesSubplot at 0x1460689f8150>"
      ]
     },
     "execution_count": 19,
     "metadata": {},
     "output_type": "execute_result"
    },
    {
     "data": {
      "image/png": "[encoded data removed]",
      "text/plain": [
       "<Figure size 432x288 with 1 Axes>"
      ]
     },
     "metadata": {
      "needs_background": "light"
     },
     "output_type": "display_data"
    }
   ],
   "source": [
    "# Class\n",
    "classes = np.sort(LABELS['class'].unique())\n",
    "print(\"Classes:\", classes)\n",
    "print(\"Distribution \")\n",
    "dist = LABELS['class'].value_counts()\n",
    "print(dist)\n",
    "sns.barplot(dist.index, dist)"
   ]
  },
  {
   "cell_type": "code",
   "execution_count": 20,
   "metadata": {
    "colab": {
     "base_uri": "https://localhost:8080/",
     "height": 296
    },
    "colab_type": "code",
    "id": "bKu26ra5XWKJ",
    "outputId": "88b944ec-4653-4878-f11a-8a6d42e8424e"
   },
   "outputs": [
    {
     "data": {
      "text/plain": [
       "<matplotlib.axes._subplots.AxesSubplot at 0x14606bcaaed0>"
      ]
     },
     "execution_count": 20,
     "metadata": {},
     "output_type": "execute_result"
    },
    {
     "data": {
      "image/png": "[encoded data removed]",
      "text/plain": [
       "<Figure size 432x288 with 1 Axes>"
      ]
     },
     "metadata": {
      "needs_background": "light"
     },
     "output_type": "display_data"
    }
   ],
   "source": [
    "# Pressure distribution\n",
    "pressure = LABELS['pressure']\n",
    "sns.distplot(pressure)"
   ]
  },
  {
   "cell_type": "code",
   "execution_count": 21,
   "metadata": {
    "colab": {
     "base_uri": "https://localhost:8080/",
     "height": 415
    },
    "colab_type": "code",
    "id": "2jFhsdc4azSm",
    "outputId": "a0bcfdb8-09fe-4e7e-f79f-b691be4248ef"
   },
   "outputs": [
    {
     "name": "stdout",
     "output_type": "stream",
     "text": [
      "Median of each quantile\n",
      "0.1     950.000000\n",
      "0.2     965.000000\n",
      "0.3     977.000000\n",
      "0.4     985.000000\n",
      "0.5     990.666667\n",
      "0.6     995.000000\n",
      "0.7     998.000000\n",
      "0.8    1002.000000\n",
      "0.9    1004.000000\n",
      "Name: pressure, dtype: float64\n",
      "Number of image in each bin\n"
     ]
    },
    {
     "data": {
      "text/plain": [
       "0    18833\n",
       "1    14951\n",
       "2    15325\n",
       "3    19252\n",
       "4    13710\n",
       "5    16662\n",
       "6    16263\n",
       "7    20964\n",
       "8    12134\n",
       "9    15571\n",
       "Name: pressure, dtype: int64"
      ]
     },
     "execution_count": 21,
     "metadata": {},
     "output_type": "execute_result"
    }
   ],
   "source": [
    "# Pressure decile\n",
    "decile = [.1, .2, .3, .4, .5, .6, .7, .8, .9]\n",
    "cutoff = pressure.quantile(decile)\n",
    "print(\"Median of each quantile\")\n",
    "print(cutoff)\n",
    "qcutted = pd.qcut(pressure, 10, labels=False)\n",
    "print(\"Number of image in each bin\")\n",
    "qcutted.value_counts().sort_index()"
   ]
  },
  {
   "cell_type": "code",
   "execution_count": 22,
   "metadata": {
    "colab": {
     "base_uri": "https://localhost:8080/",
     "height": 214
    },
    "colab_type": "code",
    "id": "r8H6axKqdqwf",
    "outputId": "d2950920-2eff-4952-da21-55a22eebb991"
   },
   "outputs": [
    {
     "data": {
      "text/plain": [
       "<matplotlib.axes._subplots.AxesSubplot at 0x14606bdc85d0>"
      ]
     },
     "execution_count": 22,
     "metadata": {},
     "output_type": "execute_result"
    },
    {
     "data": {
      "image/png": "[encoded data removed]",
      "text/plain": [
       "<Figure size 1296x360 with 1 Axes>"
      ]
     },
     "metadata": {
      "needs_background": "light"
     },
     "output_type": "display_data"
    }
   ],
   "source": [
    "# By Year\n",
    "years = LABELS['year']\n",
    "count_years = years.value_counts()\n",
    "plt.figure(figsize=(18,5))\n",
    "sns.barplot(count_years.index, count_years)"
   ]
  },
  {
   "cell_type": "markdown",
   "metadata": {
    "colab_type": "text",
    "id": "pJUIWmZjRfT5"
   },
   "source": [
    "#### Observations [Needs Update]\n",
    "There are some observations we made about the dataset.\n",
    "* The images do not zoom closely to the TC and sometimes capture a nearby TC.\n",
    "  * This is an issue with the data source.\n",
    "  * We would bear with it for now and observe what is going to happen.\n",
    "* There is a very obvious surplus of images of weaker TCs.\n",
    "  * The weakest class has 1615 images, but the strongest 32 only.\n",
    "  * We would bear with it for now and observe what is going to happen.\n",
    "  * Potential solutions are: **(To be finalized)**\n",
    "    * rotate some images to make up for the numbers, but the images would be similar\n",
    "    * go further back and obtain images from before 2009, until there aren't even such satellite images available\n",
    "    * for these stronger TCs, we include satellite images taken every (for example) 3 hours instead of 6, thereby getting more (but similar) images\n",
    "    * check other sources for images, but the images would have different dimensions/zooming levels or may require other preprocessing"
   ]
  },
  {
   "cell_type": "markdown",
   "metadata": {
    "colab_type": "text",
    "id": "V80v0i6MsTOs"
   },
   "source": [
    "## Preprocessing\n",
    "\n",
    "This part is rather straightforward. Based on the criteria stated above, we drop unnecessary columns and bin the pressure values into labels (just using numbers 1-12 should be ok). Next the dataset is separated into train, dev and test sets. After that each set gets its own PyTorch DataLoader pipeline."
   ]
  },
  {
   "cell_type": "code",
   "execution_count": 23,
   "metadata": {
    "colab": {},
    "colab_type": "code",
    "id": "vLw_gBVgOhPG"
   },
   "outputs": [],
   "source": [
    "# Import \n",
    "from sklearn.model_selection import train_test_split"
   ]
  },
  {
   "cell_type": "code",
   "execution_count": 24,
   "metadata": {
    "colab": {},
    "colab_type": "code",
    "id": "gNQXGL6ug-Ca"
   },
   "outputs": [],
   "source": [
    "# Pick useful label attributes only\n",
    "processed_labels = LABELS[['class','sequence','raw_index','year']]"
   ]
  },
  {
   "cell_type": "code",
   "execution_count": 25,
   "metadata": {
    "colab": {
     "base_uri": "https://localhost:8080/",
     "height": 34
    },
    "colab_type": "code",
    "id": "q8z8GpH2gkkh",
    "outputId": "3a08f84a-23c1-4b95-c028-66ca8d9797c0"
   },
   "outputs": [
    {
     "name": "stdout",
     "output_type": "stream",
     "text": [
      "[Test Size 30738] [Train Size 106341] [Dev Size 26586]\n"
     ]
    }
   ],
   "source": [
    "\"\"\" Group data into Train, Dev, Test set \"\"\"\n",
    "# To prevent Data leak, we seperate test data by year\n",
    "def prepare_dataset(labels, ratio, year):\n",
    "    processed_labels = labels[['class', 'sequence', 'raw_index', 'year']]\n",
    "    test_set = processed_labels[processed_labels['year'] >= year]\n",
    "    traindev_set = processed_labels[processed_labels['year'] < year]\n",
    "    train_set, dev_set = train_test_split(\n",
    "        traindev_set, train_size=ratio)\n",
    "    print(\"[Test Size {}] [Train Size {}] [Dev Size {}]\".format(len(test_set),len(train_set),len(dev_set)))\n",
    "    return {'train': train_set, 'dev': dev_set, 'test': test_set}\n",
    "\n",
    "_ = prepare_dataset(LABELS, 0.8, 2012)"
   ]
  },
  {
   "cell_type": "code",
   "execution_count": 26,
   "metadata": {
    "colab": {},
    "colab_type": "code",
    "id": "sYS2K_H0BziP"
   },
   "outputs": [],
   "source": [
    "# Import pytorch and packages gonna use\n",
    "import torch\n",
    "from torch.utils.data import Dataset, DataLoader\n",
    "from torchvision import transforms\n",
    "import torch.nn as nn\n",
    "import torch.optim as optim\n",
    "from PIL import Image"
   ]
  },
  {
   "cell_type": "code",
   "execution_count": 27,
   "metadata": {
    "colab": {},
    "colab_type": "code",
    "id": "-xjSDA6tr2vu"
   },
   "outputs": [],
   "source": [
    "\"\"\" Custom PyTorch Dataset \"\"\"\n",
    "class TyDataset(Dataset):\n",
    "    def __init__(self, df, transform, channel=1):\n",
    "        self.df = df\n",
    "        self.transform = transform\n",
    "        self.channel = channel\n",
    "        self.sequence = df['sequence'].values\n",
    "        self.raw_index = df['raw_index'].values\n",
    "\n",
    "    def __len__(self):\n",
    "        return len(self.df)\n",
    "\n",
    "    def getImg(self, idx):\n",
    "        # If you are using npy\n",
    "        return np.load(f\"{NPY_FOLDER}/{self.sequence[idx]}{self.raw_index[idx]}.npy\")\n",
    "\n",
    "    # When use against with DenseNet you need to make img_arr to have 3 channels, to do so\n",
    "    # either by PIL convert('RGB') or use numpy stack(, axis=-1)\n",
    "    def __getitem__(self, idx):\n",
    "        img_arr = self.getImg(idx)\n",
    "        if self.channel == 3:\n",
    "            img = Image.fromarray(np.stack((img_arr,)*3, axis=-1))\n",
    "        else:\n",
    "            img = Image.fromarray(img_arr)\n",
    "        image = self.transform(img)\n",
    "        label = self.df.iloc[idx]['class']\n",
    "        return image, label"
   ]
  },
  {
   "cell_type": "code",
   "execution_count": 58,
   "metadata": {},
   "outputs": [
    {
     "name": "stdout",
     "output_type": "stream",
     "text": [
      "Raw -> Stacked -> Transformed\n"
     ]
    },
    {
     "data": {
      "text/plain": [
       "<Figure size 720x720 with 0 Axes>"
      ]
     },
     "metadata": {},
     "output_type": "display_data"
    },
    {
     "data": {
      "image/png": "[encoded data removed]",
      "text/plain": [
       "<Figure size 432x288 with 3 Axes>"
      ]
     },
     "metadata": {
      "needs_background": "light"
     },
     "output_type": "display_data"
    },
    {
     "name": "stdout",
     "output_type": "stream",
     "text": [
      "0.9607843\n"
     ]
    }
   ],
   "source": [
    "# Transformation we going to use\n",
    "# Here is just the demo of transformation, the real transformation will defined right before main training loop for easier editing\n",
    "plt.figure(figsize=(10,10))\n",
    "fig, ax = plt.subplots(1,3)\n",
    "\n",
    "transform = transforms.Compose([\n",
    "                        transforms.RandomResizedCrop(224),\n",
    "                        transforms.ToTensor(),\n",
    "                        transforms.Normalize(mean=[0.5], std=[0.5])\n",
    "                    ])\n",
    "\n",
    "img = getImageFromNPY(LABELS.loc[i])\n",
    "ax[0].imshow(img, cmap='gray')\n",
    "# Pretrained CNN network usually need input to have 3 channels, here we stack our array 3 times to pretend we have it\n",
    "stacked_img = Image.fromarray(np.stack((img,)*3, axis=-1))\n",
    "ax[1].imshow(stacked_img, cmap='gray')\n",
    "transformed_img = transform(stacked_img)\n",
    "ax[2].imshow(transforms.ToPILImage()(transformed_img), cmap='gray')\n",
    "print(\"Raw -> Stacked -> Transformed\")\n",
    "plt.show()"
   ]
  },
  {
   "cell_type": "markdown",
   "metadata": {
    "colab_type": "text",
    "id": "VXuP0J1ErD7l"
   },
   "source": [
    "## Models"
   ]
  },
  {
   "cell_type": "markdown",
   "metadata": {
    "colab_type": "text",
    "id": "qq56ulfPrw31"
   },
   "source": [
    "### Building and Training a Model - Take 1: Pre-trained Net\n",
    "\n",
    "After the preprocessing is complete, a model is developed as baseline.\n",
    "\n",
    "Firstly we try to use a pre-trained CNN \"densenet161\" and see how it performs with our data.\n",
    "\n",
    "For loss function we chose cross entropy loss and optimizer is Adam."
   ]
  },
  {
   "cell_type": "code",
   "execution_count": 27,
   "metadata": {
    "colab": {},
    "colab_type": "code",
    "id": "w3M9Grkos1ex"
   },
   "outputs": [],
   "source": [
    "\"\"\" Pre-trained CNN Model \"\"\"\n",
    "import torchvision.models as models\n",
    "class PretrainNet(nn.Module):\n",
    "    def __init__(self):\n",
    "        super(PretrainNet, self).__init__()\n",
    "        # Define layers\n",
    "        # Input shape: (Batch size, 1, 512, 512)\n",
    "        # Convolution layer(s)\n",
    "        self.conv = self.densenet()\n",
    "        # FC layer(s)\n",
    "        self.fc = nn.Sequential(\n",
    "            # 1000 is the default output size in densenet\n",
    "            nn.Linear(1000, 512),\n",
    "            nn.Dropout(0.2),\n",
    "            nn.ReLU(),\n",
    "            nn.Linear(512, 6)\n",
    "        )\n",
    "\n",
    "    def densenet(self):\n",
    "        model = models.densenet161(pretrained=True)\n",
    "        for param in model.parameters():\n",
    "            param.requires_grad = False\n",
    "        return model\n",
    "\n",
    "    def forward(self, x):\n",
    "        x = self.conv(x)\n",
    "        x = self.fc(x)\n",
    "        return x"
   ]
  },
  {
   "cell_type": "code",
   "execution_count": 59,
   "metadata": {},
   "outputs": [],
   "source": [
    "# We also want to test another state of art cnn model, EfficientNet\n",
    "from efficientnet_pytorch import EfficientNet\n",
    "\n",
    "class EffNet(nn.Module):\n",
    "    def __init__(self):\n",
    "        super(EffNet, self).__init__()\n",
    "\n",
    "        self.conv = EfficientNet.from_pretrained('efficientnet-b0')\n",
    "\n",
    "        self.fc = nn.Sequential(\n",
    "            nn.Flatten(),\n",
    "            nn.Dropout(0.3),\n",
    "            nn.Linear(62720,1024),\n",
    "            nn.Dropout(0.3),\n",
    "            nn.ReLU(),\n",
    "            nn.Linear(1024,6),\n",
    "        )\n",
    "\n",
    "\n",
    "    def forward(self, x):\n",
    "        x = self.conv.extract_features(x)\n",
    "        x = self.fc(x)\n",
    "        return x"
   ]
  },
  {
   "cell_type": "markdown",
   "metadata": {
    "colab_type": "text",
    "id": "vmgzdXdDOlYl"
   },
   "source": [
    "Now with the preparation complete, the following performs the training process."
   ]
  },
  {
   "cell_type": "markdown",
   "metadata": {
    "colab_type": "text",
    "id": "zj5oT67DSfIA"
   },
   "source": [
    "The following are obtained from the first successful (i.e. no runtime error) test run of the said model:\n",
    "\n",
    "||Training|Dev|Test|\n",
    "---|---|---|---\n",
    "Acc:| 0.001 | 0.002 | 0.0018\n",
    "\n",
    "Running time: 1745s = ca. 29 minutes\n",
    "\n",
    "![Image: performance plot](https://drive.google.com/uc?id=1bRPjaNC97slYTRQZ6wNJHt5GdhO9YaMV)\n",
    "\n",
    "The performance is not satisfactory at all. We assumed that the pre-trained model is trained on RGB images of other uses/sources, therefore it does not adapt well, if at all, to this new situation. \n",
    "\n",
    "However, after fixing an issue with accuracy calculation, the performance improved greatly, except we observe overfitting:\n",
    "\n",
    "||Training|Dev|Test|\n",
    "---|---|---|---\n",
    "Acc:| 85.829 | 31.034 | 30.388\n",
    "\n",
    "Running time: 2181s = ca. 36 minutes\n",
    "\n",
    "![alt text](https://drive.google.com/uc?id=14tvApO6KbhSAcDUdzYUD7ZOvtQMQw-Qx)"
   ]
  },
  {
   "cell_type": "markdown",
   "metadata": {
    "colab_type": "text",
    "id": "VjfPVGHEoiDf"
   },
   "source": [
    "### Building and Training a Model - Take 2: Custom CNN [Need Update]\n",
    "\n",
    "This time, we construct our own model from scratch. The structure is as follows:\n",
    "* Conv2D with 16 filters and kernel size 3, followed by a ReLU\n",
    "* Conv2D with 16 filters and kernel size 3, followed by a ReLU, average pooling (kernel size 2) and dropout (0.2)\n",
    "* Conv2D with 16 filters and kernel size 3, followed by a ReLU, average pooling (kernel size 2) and dropout (0.2)\n",
    "* Conv2D with 16 filters and kernel size 3, followed by a ReLU, average pooling (kernel size 2) and dropout (0.2)\n",
    "* Flattening and Linear layer (65536 neurons -> 4096) with ReLU and dropout (0.2)\n",
    "* Linear (4096 -> 1024) with ReLU\n",
    "* Linear (1024 -> 32) with Sigmoid\n",
    "\n",
    "For optimizer and loss function choices, we stick to Adam and Cross Entropy respectively as before."
   ]
  },
  {
   "cell_type": "code",
   "execution_count": 29,
   "metadata": {
    "colab": {},
    "colab_type": "code",
    "id": "ZQH9qgKHqXDV"
   },
   "outputs": [],
   "source": [
    "\"\"\" New Model \"\"\"\n",
    "\n",
    "class CustomNet1(nn.Module):\n",
    "    def __init__(self):\n",
    "        super(CustomNet1, self).__init__()\n",
    "        # CNN Model layers\n",
    "        # Input shape: Batch size B, 1 channel, 512, 512\n",
    "\n",
    "        # conv. layers\n",
    "        # uncomment to use\n",
    "        self.conv = nn.Sequential(\n",
    "            # After 1st conv: (B, 1, 512, 512) -> (B, 16, 512, 512)\n",
    "            nn.Conv2d(1, 16, kernel_size=3, stride=1, padding=1, bias=False),\n",
    "            # After AvgPool2d: (B, 16, 512, 512) -> (B, 16, 128, 128)\n",
    "            nn.AvgPool2d(kernel_size=4),\n",
    "            # After 3rd conv: (B, 16, 128, 128) -> (B, 32, 128, 128)\n",
    "            nn.Conv2d(16, 32, kernel_size=3, stride=1, padding=1),\n",
    "            nn.ReLU(True),\n",
    "            # After AvgPool2d: (B, 32, 128, 128) -> (B, 32, 32, 32)\n",
    "            nn.AvgPool2d(kernel_size=4),\n",
    "            # After 4th conv: (B, 32, 32, 32) -> (B, 64, 32, 32)\n",
    "            nn.Conv2d(32, 64, kernel_size=3, stride=1, padding=1),\n",
    "            nn.ReLU(True),\n",
    "            # After AvgPool2d: (B, 64, 32, 32) -> (B, 64, 16, 16)\n",
    "            nn.AvgPool2d(kernel_size=2),\n",
    "            nn.Conv2d(64, 128, kernel_size=3, stride=1, padding=1),\n",
    "            nn.ReLU(True),\n",
    "            # After AvgPool2d: (B, 128, 32, 32) -> (B, 128, 8, 8)\n",
    "            nn.AvgPool2d(kernel_size=2),\n",
    "            nn.Flatten()\n",
    "        )\n",
    "\n",
    "        # FC layers\n",
    "        self.fc = nn.Sequential(\n",
    "            nn.Linear(128*8*8,1024),\n",
    "            nn.ReLU(True),\n",
    "            nn.Dropout(0.20),\n",
    "            nn.Linear(1024, 128),\n",
    "            nn.Linear(128, 6)\n",
    "        )\n",
    "\n",
    "    def forward(self,x):\n",
    "        x = self.conv(x)\n",
    "        x = self.fc(x)\n",
    "        return x"
   ]
  },
  {
   "cell_type": "markdown",
   "metadata": {
    "colab_type": "text",
    "id": "1a70KVbyvzPZ"
   },
   "source": [
    "The following are obtained from a run on 18th April, without the sigmoid:\n",
    "\n",
    "||Training|Dev|Test|\n",
    "---|---|---|---\n",
    "Acc:| 99.232 | 29.418 | 26.616\n",
    "\n",
    "Running time: 1630s ~= 27 minutes. Below are code to visualize the model's performance. Some plots on 18 April, during the development of an interim prototype are as follows:\n",
    "\n",
    "Accuracy against epoch:\n",
    "\n",
    "![alt text](https://drive.google.com/uc?id=1xzzGNCI5p3CSlL8zr4sj5SCfjF86OqRE)\n",
    "\n",
    "Confusion matrix with training set:\n",
    "\n",
    "![alt text](https://drive.google.com/uc?id=1-_N4JtQRbe4Arwi2jqgs61iAxms1enKA)\n",
    "\n",
    "Confusion matrix with testing set:\n",
    "\n",
    "![alt text](https://drive.google.com/uc?id=1tAYiB30VnzweryEvAHDbfMSmKnFZPH-E)"
   ]
  },
  {
   "cell_type": "markdown",
   "metadata": {
    "colab_type": "text",
    "id": "6rarGHoIjo6K"
   },
   "source": [
    "## Train, Vaildate, Test"
   ]
  },
  {
   "cell_type": "markdown",
   "metadata": {
    "colab_type": "text",
    "id": "HPjQGdbjjo53"
   },
   "source": [
    "### Training Utility Functions"
   ]
  },
  {
   "cell_type": "code",
   "execution_count": 30,
   "metadata": {
    "colab": {},
    "colab_type": "code",
    "id": "J9_7LkyZjo54"
   },
   "outputs": [],
   "source": [
    "class AverageMeter(object):\n",
    "    \"\"\"Computes and stores the average and current value\"\"\"\n",
    "    def __init__(self, name, fmt=':f'):\n",
    "        self.name = name\n",
    "        self.fmt = fmt\n",
    "        self.reset()\n",
    "\n",
    "    def reset(self):\n",
    "        self.val = 0\n",
    "        self.avg = 0\n",
    "        self.sum = 0\n",
    "        self.count = 0\n",
    "\n",
    "    def update(self, val, n=1):\n",
    "        self.val = val\n",
    "        self.sum += val * n\n",
    "        self.count += n\n",
    "        self.avg = self.sum / self.count\n",
    "\n",
    "    def __str__(self):\n",
    "        fmtstr = '{name} {val' + self.fmt + '} ({avg' + self.fmt + '})'\n",
    "        return fmtstr.format(**self.__dict__)"
   ]
  },
  {
   "cell_type": "code",
   "execution_count": 31,
   "metadata": {
    "colab": {},
    "colab_type": "code",
    "id": "WB1uiBc1I_fc"
   },
   "outputs": [],
   "source": [
    "class ProgressMeter(object):\n",
    "    def __init__(self, num_batches, *meters, prefix=\"\"):\n",
    "        self.batch_fmtstr = self._get_batch_fmtstr(num_batches)\n",
    "        self.meters = meters\n",
    "        self.prefix = prefix\n",
    "\n",
    "    def print(self, batch):\n",
    "        entries = [self.prefix + self.batch_fmtstr.format(batch)]\n",
    "        entries += [str(meter) for meter in self.meters]\n",
    "        print('\\t'.join(entries))\n",
    "\n",
    "    def _get_batch_fmtstr(self, num_batches):\n",
    "        num_digits = len(str(num_batches // 1))\n",
    "        fmt = '{:' + str(num_digits) + 'd}'\n",
    "        return '[' + fmt + '/' + fmt.format(num_batches) + ']'"
   ]
  },
  {
   "cell_type": "code",
   "execution_count": 32,
   "metadata": {
    "colab": {},
    "colab_type": "code",
    "id": "XQ3S1oFTI9LI"
   },
   "outputs": [],
   "source": [
    "def adjust_learning_rate(optimizer, epoch, lr):\n",
    "    \"\"\"Sets the learning rate to the initial LR decayed by 10 every 25 epochs\"\"\"\n",
    "    lr = lr * (0.1 ** (epoch // 25))\n",
    "    for param_group in optimizer.param_groups:\n",
    "        param_group['lr'] = lr"
   ]
  },
  {
   "cell_type": "code",
   "execution_count": 33,
   "metadata": {
    "colab": {},
    "colab_type": "code",
    "id": "EsB-tTmDI9Fk"
   },
   "outputs": [],
   "source": [
    "def save_checkpoint(state, is_best, filename='checkpoint.pth.tar'):\n",
    "    torch.save(state, filename)\n",
    "    if is_best:\n",
    "        shutil.copyfile(filename, 'model_best.pth.tar')"
   ]
  },
  {
   "cell_type": "code",
   "execution_count": 34,
   "metadata": {
    "colab": {},
    "colab_type": "code",
    "id": "5d76Dxlrjo5_"
   },
   "outputs": [],
   "source": [
    "def accuracy(output, target):\n",
    "    \"\"\"Computes the accuracy over the top predictions\"\"\"\n",
    "    with torch.no_grad():\n",
    "        batch_size = target.size(0)\n",
    "        \n",
    "        _, preds = torch.max(output.data, 1)\n",
    "        correct = (preds == target).sum().item()\n",
    "\n",
    "        return correct/batch_size"
   ]
  },
  {
   "cell_type": "markdown",
   "metadata": {
    "colab_type": "text",
    "id": "mTCOGsJ1qibN"
   },
   "source": [
    "### Main Training Functions"
   ]
  },
  {
   "cell_type": "code",
   "execution_count": 35,
   "metadata": {
    "colab": {},
    "colab_type": "code",
    "id": "juBC4qOUjo6L"
   },
   "outputs": [],
   "source": [
    "def train(train_loader, model, criterion, optimizer, epoch, freq, gpu):\n",
    "    batch_time = AverageMeter('Time', ':6.3f')\n",
    "    data_time = AverageMeter('Data', ':6.3f')\n",
    "    losses = AverageMeter('Loss', ':.4e')\n",
    "    top1 = AverageMeter('Acc@1', ':6.2f')\n",
    "    progress = ProgressMeter(len(train_loader), batch_time, data_time, losses, top1,\n",
    "                             prefix=\"Epoch: [{}]\".format(epoch))\n",
    "\n",
    "    # switch to train mode\n",
    "    model.train()\n",
    "\n",
    "    end = time.time()\n",
    "    for i, (input, target) in enumerate(train_loader):\n",
    "        # measure data loading time\n",
    "        data_time.update(time.time() - end)\n",
    "\n",
    "        input = input.cuda(gpu, non_blocking=True)\n",
    "        target = target.cuda(gpu, non_blocking=True)\n",
    "\n",
    "        # compute output\n",
    "        output = model(input)\n",
    "        loss = criterion(output, target)\n",
    "        # measure accuracy and record loss\n",
    "        acc1 = accuracy(output, target)\n",
    "        losses.update(loss.item(), input.size(0))\n",
    "        top1.update(acc1, input.size(0))\n",
    "\n",
    "        # compute gradient and do Adam\n",
    "        optimizer.zero_grad()\n",
    "        loss.backward()\n",
    "        optimizer.step()\n",
    "\n",
    "        # measure elapsed time\n",
    "        batch_time.update(time.time() - end)\n",
    "        end = time.time()\n",
    "\n",
    "        if i % freq == 0:\n",
    "            progress.print(i)\n",
    "\n",
    "    return losses.avg"
   ]
  },
  {
   "cell_type": "code",
   "execution_count": 36,
   "metadata": {
    "colab": {},
    "colab_type": "code",
    "id": "fjSa_Frcjo6Y"
   },
   "outputs": [],
   "source": [
    "def validate(val_loader, model, criterion, freq, gpu):\n",
    "    batch_time = AverageMeter('Time', ':6.3f')\n",
    "    losses = AverageMeter('Loss', ':.4e')\n",
    "    top1 = AverageMeter('Acc@1', ':6.2f')\n",
    "    progress = ProgressMeter(len(val_loader), batch_time, losses, top1, prefix='Test: ')\n",
    "\n",
    "    # switch to evaluate mode\n",
    "    model.eval()\n",
    "\n",
    "    with torch.no_grad():\n",
    "        end = time.time()\n",
    "        for i, (input, target) in enumerate(val_loader):\n",
    "            input = input.cuda(gpu, non_blocking=True)\n",
    "            target = target.cuda(gpu, non_blocking=True)\n",
    "\n",
    "            # compute output\n",
    "            output = model(input)\n",
    "            loss = criterion(output, target)\n",
    "\n",
    "            # measure accuracy and record loss\n",
    "            acc1 = accuracy(output, target)\n",
    "            losses.update(loss.item(), input.size(0))\n",
    "            top1.update(acc1, input.size(0))\n",
    "\n",
    "            # measure elapsed time\n",
    "            batch_time.update(time.time() - end)\n",
    "            end = time.time()\n",
    "\n",
    "            if i % freq == 0:\n",
    "                progress.print(i)\n",
    "\n",
    "        print(' * Acc@1 {top1.avg:.3f}'.format(top1=top1))\n",
    "\n",
    "    return top1.avg"
   ]
  },
  {
   "cell_type": "code",
   "execution_count": 37,
   "metadata": {
    "colab": {},
    "colab_type": "code",
    "id": "iboV9xdl9GN-"
   },
   "outputs": [],
   "source": [
    "import time\n",
    "import torch.multiprocessing as mp\n",
    "import torch.distributed as dist\n",
    "from torch.nn.parallel import DistributedDataParallel as DDP"
   ]
  },
  {
   "cell_type": "code",
   "execution_count": 38,
   "metadata": {
    "colab": {},
    "colab_type": "code",
    "id": "ATQXStmIjo6j"
   },
   "outputs": [],
   "source": [
    "def main_worker(gpu, args):\n",
    "    global best_acc1\n",
    "    \n",
    "    print(\"Worker {} starts\".format(gpu))\n",
    "\n",
    "    best_acc1 = 0\n",
    "    ddl = args['ddl']\n",
    "    lr = args['lr']\n",
    "    freq = args['freq']\n",
    "\n",
    "    if ddl:\n",
    "        dist.init_process_group(\n",
    "            backend='nccl',\n",
    "            world_size=args['world_size'],\n",
    "            rank=gpu\n",
    "        )\n",
    "\n",
    "    # define model\n",
    "    torch.cuda.set_device(gpu)\n",
    "    model = args['model']\n",
    "    model.cuda(gpu)\n",
    "\n",
    "    if ddl:\n",
    "        args['batch_size'] = int(args['batch_size']/args['gpus'])\n",
    "        args['worker_size'] = int(\n",
    "            (args['worker_size'] + args['gpus'] - 1) / args['gpus'])\n",
    "        model = DDP(model, device_ids=[gpu])\n",
    "\n",
    "    # define loss function (criterion) and optimizer\n",
    "    criterion = nn.CrossEntropyLoss().cuda(gpu)\n",
    "\n",
    "    optimizer = torch.optim.Adam(model.parameters(), lr)\n",
    "\n",
    "    torch.backends.cudnn.benchmark = True\n",
    "\n",
    "    train_sampler = torch.utils.data.distributed.DistributedSampler(\n",
    "        args['train_set']) if ddl else None\n",
    "\n",
    "    train_loader = DataLoader(args['train_set'],\n",
    "                              batch_size=args['batch_size'],\n",
    "                              num_workers=args['worker_size'],\n",
    "                              pin_memory=args['pin_memory'],\n",
    "                              drop_last=True,\n",
    "                              shuffle=(ddl is False),\n",
    "                              sampler=train_sampler)\n",
    "\n",
    "    dev_loader = DataLoader(args['dev_set'],\n",
    "                            batch_size=args['batch_size'],\n",
    "                            num_workers=args['worker_size'],\n",
    "                            pin_memory=args['pin_memory'],\n",
    "                            drop_last=True,\n",
    "                            shuffle=False)\n",
    "\n",
    "    losses = []\n",
    "    accuracies = []\n",
    "\n",
    "    for epoch in range(0, args['epochs']):\n",
    "        if ddl:\n",
    "            train_sampler.set_epoch(epoch)\n",
    "\n",
    "        adjust_learning_rate(optimizer, epoch, lr)\n",
    "\n",
    "        # train for one epoch\n",
    "        loss = train(train_loader, model, criterion, optimizer, epoch, freq, gpu)\n",
    "        losses.append(loss)\n",
    "        \n",
    "        # evaluate on validation set\n",
    "        acc1 = validate(dev_loader, model, criterion, freq, gpu)\n",
    "        accuracies.appen(acc1)\n",
    "        \n",
    "        # remember best acc@1 and save checkpoint\n",
    "        is_best = acc1 > best_acc1\n",
    "        best_acc1 = max(acc1, best_acc1)\n",
    "        \n",
    "        if not ddl or (ddl and gpu == 0):\n",
    "            save_checkpoint({\n",
    "                'epoch': epoch + 1,\n",
    "                'state_dict': model.state_dict(),\n",
    "                'best_acc1': best_acc1,\n",
    "                'optimizer' : optimizer.state_dict(),\n",
    "                }, is_best)\n",
    "    \n",
    "    # Save stat for analysis usage\n",
    "    print('Loss over epoch :', losses)\n",
    "    print('Acc over epoch :', accuracies)\n",
    "    pd.Dataframe(data={'Loss': losses, 'Accuracy': accuracies}).to_csv(f'{dataset_dir}/train_stats-{gpu}.csv')"
   ]
  },
  {
   "cell_type": "code",
   "execution_count": 39,
   "metadata": {
    "colab": {},
    "colab_type": "code",
    "id": "wU1rNT_QJneT"
   },
   "outputs": [],
   "source": [
    "train_transform = transforms.Compose([\n",
    "                        transforms.RandomResizedCrop(224),\n",
    "                        transforms.ToTensor(),\n",
    "                        transforms.Normalize(mean=[0.5], std=[0.5])\n",
    "                    ])\n",
    "\n",
    "dev_transform = transforms.Compose([\n",
    "                    transforms.Resize(256),\n",
    "                    transforms.CenterCrop(224),\n",
    "                    transforms.ToTensor(),\n",
    "                    transforms.Normalize(mean=[0.5], std=[0.5])\n",
    "                ])"
   ]
  },
  {
   "cell_type": "code",
   "execution_count": 41,
   "metadata": {
    "colab": {},
    "colab_type": "code",
    "id": "vP3udQeX5Opn"
   },
   "outputs": [],
   "source": [
    "\"\"\" \n",
    "Multi GPU will only work in python script(.py), trying to do so in notebook \n",
    "will cause inf hang.\n",
    "\"\"\" \n",
    "def main():\n",
    "  # Define arguments here\n",
    "    args = {\n",
    "        'model': EffNet(),\n",
    "        'epochs': 50,\n",
    "        'lr': 0.01,\n",
    "        'freq': 100,\n",
    "        'batch_size': 64,\n",
    "        'worker_size': 8,\n",
    "        'pin_memory': True,\n",
    "        'ddl': False\n",
    "    }\n",
    "\n",
    "    dataset = prepare_dataset(LABELS, 0.8, 2012)\n",
    "    args['train_set'] = TyDataset(dataset['train'], train_transform, channel=3)\n",
    "    args['dev_set'] = TyDataset(dataset['dev'], dev_transform, channel=3)\n",
    "\n",
    "    if torch.cuda.device_count() > 1:\n",
    "        args['gpus'] = torch.cuda.device_count()\n",
    "        print(\"Distribute work to {} GPU\".format(args['gpus']))\n",
    "        # Planning to use 1 node + multi-GPU only, so world size = GPU count * 1\n",
    "        args['world_size'] = args['gpus']\n",
    "        args['ddl'] = True\n",
    "        # Set up Master node listening port/addr\n",
    "        os.environ['MASTER_ADDR'] = 'localhost'\n",
    "        os.environ['MASTER_PORT'] = '8889'\n",
    "        # Spawn processes according to world_size\n",
    "        mp.spawn(main_worker, nprocs=args['gpus'], args=(args,))\n",
    "    else:\n",
    "        main_worker(0, args)"
   ]
  },
  {
   "cell_type": "code",
   "execution_count": null,
   "metadata": {
    "colab": {},
    "colab_type": "code",
    "id": "2g5BMDf0jo65"
   },
   "outputs": [],
   "source": [
    "# Uncomment to run main training loop\n",
    "main()"
   ]
  },
  {
   "cell_type": "code",
   "execution_count": null,
   "metadata": {},
   "outputs": [],
   "source": []
  },
  {
   "cell_type": "markdown",
   "metadata": {
    "colab_type": "text",
    "id": "6W-lDdYMPYfc"
   },
   "source": [
    "## Error Analysis\n",
    "\n",
    "After obtaining the results above, we decided to start tackling with the issue that there is an outrageously wide gap between train and dev/test accuracies. The first thing we tried was to visualize CNN convolution results."
   ]
  },
  {
   "cell_type": "markdown",
   "metadata": {
    "colab_type": "text",
    "id": "90Fp0Yqhrspm"
   },
   "source": [
    "### Feature map visualization\n",
    "\n",
    "To implement the code that makes visualization work, the model itself has to be edited a bit, such that `torch.nn.Sequential` is not used to wrap the  convolution layers in one and intermediate layers are accessible."
   ]
  },
  {
   "cell_type": "code",
   "execution_count": null,
   "metadata": {
    "colab": {},
    "colab_type": "code",
    "id": "jxKs0FF5PcHr"
   },
   "outputs": [],
   "source": [
    "\"\"\" \n",
    "Visualizing conv feature maps with PyTorch\n",
    "Code modified from https://discuss.pytorch.org/t/visualize-feature-map/29597/2\n",
    "See also: https://github.com/utkuozbulak/pytorch-cnn-visualizations/blob/master/src/cnn_layer_visualization.py\n",
    "\"\"\"\n",
    "\n",
    "# Visualize activations\n",
    "activation = {}\n",
    "def get_activation(name):\n",
    "  def hook(model, input, output):\n",
    "    activation[name] = output.detach()\n",
    "  return hook\n",
    "\n",
    "# access intermediate layers: remove last 4 layers of conv part\n",
    "#module = nn.Sequential(*list(test_model.conv.children())[:-4])\n",
    "\n",
    "test_model.conv.register_forward_hook(get_activation('conv'))\n",
    "data, _ = next(iter(test_loader)) #obtain random image from dataloader\n",
    "data = data[0]\n",
    "data.unsqueeze_(0)\n",
    "model_cpu = test_model.cpu()\n",
    "output = model_cpu(data)  # it handles a batch each time...\n",
    "\n",
    "act = activation['conv'].squeeze() \n",
    "print(act.size(0))\n",
    "fig, axarr = plt.subplots(4,4, figsize=(10,10))\n",
    "for i in range(4):\n",
    "  for j in range(4):\n",
    "    axarr[i][j].imshow(act[i*4+j])"
   ]
  },
  {
   "cell_type": "markdown",
   "metadata": {
    "colab_type": "text",
    "id": "ZXVUNWlhTj6m"
   },
   "source": [
    "### Training-Dev set\n",
    "\n",
    "The second thing we tried was to add a training-dev set and observe the model's behaviour. A bit of L2 regulatization is also introduced at this point."
   ]
  },
  {
   "cell_type": "code",
   "execution_count": null,
   "metadata": {
    "colab": {},
    "colab_type": "code",
    "id": "HsyPDO0AjsNd"
   },
   "outputs": [],
   "source": [
    "\"\"\" Creating four datasets \"\"\"\n",
    "dataset = shuffle(dataset)\n",
    "train_set_ratio = 0.8\n",
    "dev_set_ratio = 0.1\n",
    "test_dev_ratio = 0.1\n",
    "\n",
    "temp, test_set = train_test_split(dataset, test_size = 1 - train_set_ratio)\n",
    "test_set, dev_set = train_test_split(test_set, test_size = dev_set_ratio/(1-train_set_ratio))\n",
    "train_set, train_dev_set = train_test_split(temp, test_size = test_dev_ratio/(train_set_ratio))\n",
    "\n",
    "print(\"train set:\")\n",
    "train_set.info()\n",
    "print(\"train-dev set:\")\n",
    "train_dev_set.info()\n",
    "print(\"dev set:\")\n",
    "dev_set.info()\n",
    "print(\"test set:\")\n",
    "test_set.info()"
   ]
  },
  {
   "cell_type": "code",
   "execution_count": null,
   "metadata": {
    "colab": {},
    "colab_type": "code",
    "id": "TXXVWxeMkERS"
   },
   "outputs": [],
   "source": [
    "\"\"\" Dataset and DataLoader \"\"\"\n",
    "# DataLoader for training set\n",
    "train_batch_size = batch_size\n",
    "train_ds = TyDataset(train_set)\n",
    "train_loader = DataLoader(train_ds, batch_size = train_batch_size, shuffle=True, num_workers=8, drop_last=True)\n",
    "print(\"Training set size (after DataLoader processing):\", len(train_ds))\n",
    "\n",
    "# DataLoader for training-dev set\n",
    "train_dev_batch_size = batch_size\n",
    "train_dev_ds = TyDataset(train_dev_set)\n",
    "train_dev_loader = DataLoader(train_dev_ds, batch_size = train_dev_batch_size, shuffle=True, num_workers=8, drop_last=True)\n",
    "print(\"Training-dev set size (after DataLoader processing):\", len(train_dev_ds))\n",
    "\n",
    "# DataLoader for dev set\n",
    "dev_batch_size = batch_size\n",
    "dev_ds = TyDataset(dev_set)\n",
    "dev_loader = DataLoader(dev_ds, batch_size = dev_batch_size, shuffle=True, num_workers=8, drop_last=True)\n",
    "print(\"Dev set size (after DataLoader processing):\", len(dev_ds))\n",
    "\n",
    "# DataLoader for test set\n",
    "test_batch_size = batch_size\n",
    "test_ds = TyDataset(test_set)\n",
    "test_loader = DataLoader(test_ds, batch_size = test_batch_size, shuffle=True, num_workers=8, drop_last=True)\n",
    "print(\"Training set size (after DataLoader processing):\", len(test_ds))"
   ]
  },
  {
   "cell_type": "code",
   "execution_count": null,
   "metadata": {
    "colab": {},
    "colab_type": "code",
    "id": "_cKIHSfwpATf"
   },
   "outputs": [],
   "source": [
    "\"\"\" Device, Criterion and Other Stuff \"\"\"\n",
    "# Get device\n",
    "device = torch.device('cuda' if torch.cuda.is_available() else 'cpu')\n",
    "print(\"Device:\",device)\n",
    "if not torch.cuda.is_available():\n",
    "  print(\"Suggest you use GPU\")\n",
    "\n",
    "# Get model\n",
    "test_model = interim_prototype_take2()\n",
    "test_model = test_model.to(device)\n",
    "print(test_model)\n",
    "\n",
    "# Criterion and Optimizer\n",
    "L2_decay = 0.001  #set up L2 regularization\n",
    "criterion = nn.CrossEntropyLoss()\n",
    "optimizer = optim.Adam(test_model.parameters(), lr=learning_rate, weight_decay=L2_decay)"
   ]
  },
  {
   "cell_type": "code",
   "execution_count": null,
   "metadata": {
    "colab": {},
    "colab_type": "code",
    "id": "4E6KHMYEkWx5"
   },
   "outputs": [],
   "source": [
    "\"\"\" Modified training loop, with test set evaluation included \"\"\"\n",
    "from time import time\n",
    "\n",
    "all_train_acc, all_td_acc, all_dev_acc = [], [], []\n",
    "begin_time = time()\n",
    "for epoch in range(n_epochs):\n",
    "  print(\"Running epoch \",epoch,\"/\",n_epochs,\":\")\n",
    "  print(\"====================\")\n",
    "\n",
    "  log_dict = train_one_epoch(test_model, device=device, criterion=criterion, optimizer=optimizer, dataloader=train_loader)\n",
    "  train_loss = log_dict['loss'] / len(train_loader)\n",
    "  train_acc = log_dict['acc']\n",
    "  all_train_acc.append(train_acc)\n",
    "\n",
    "  log_dict = eval_one_epoch(test_model, device=device, criterion=criterion, dataloader=train_dev_loader)\n",
    "  td_loss = log_dict['loss'] / len(train_dev_loader)\n",
    "  td_acc = log_dict['acc']\n",
    "  all_td_acc.append(td_acc)\n",
    "\n",
    "  log_dict = eval_one_epoch(test_model, device=device, criterion=criterion, dataloader=dev_loader)\n",
    "  dev_loss = log_dict['loss'] / len(dev_loader)\n",
    "  dev_acc = log_dict['acc']\n",
    "  all_dev_acc.append(dev_acc)\n",
    "\n",
    "  finish_time = time()\n",
    "  print(\"Time: \", finish_time-begin_time)\n",
    "  print(\"---- Training ----\")\n",
    "  print(\"Loss: \", train_loss)\n",
    "  print(\"Acc: \", train_acc)\n",
    "  print(\"---- Training-Dev ----\")\n",
    "  print(\"Loss: \", td_loss)\n",
    "  print(\"Acc: \", td_acc)\n",
    "  print(\"----Dev----\")\n",
    "  print(\"Loss: \", dev_loss)\n",
    "  print(\"Acc: \", dev_acc)\n",
    "  print(\"====================\")"
   ]
  },
  {
   "cell_type": "code",
   "execution_count": null,
   "metadata": {
    "colab": {},
    "colab_type": "code",
    "id": "SWhIWnBnyEM7"
   },
   "outputs": [],
   "source": [
    "log_dict = eval_one_epoch(test_model, device, criterion, dataloader=test_loader)\n",
    "test_loss = log_dict['loss']\n",
    "test_acc = log_dict['acc']\n",
    "print(\"Test results:\")\n",
    "print(\"====================\")\n",
    "print(\"Loss: \", test_loss)\n",
    "print(\"Acc: \", test_acc)\n",
    "print(\"Behold!\")\n",
    "print(\"====================\")"
   ]
  },
  {
   "cell_type": "code",
   "execution_count": null,
   "metadata": {
    "colab": {},
    "colab_type": "code",
    "id": "vO1PTiblrbBW"
   },
   "outputs": [],
   "source": [
    "\"\"\" Visualization: Accuracies against time \"\"\"\n",
    "import matplotlib.pyplot as plt\n",
    "%matplotlib inline\n",
    "\n",
    "fig, ax = plt.subplots()\n",
    "plt.title(\"Interim Prototype Model: Custom CNN Accuracy\")\n",
    "ax.plot(all_train_acc, label=\"Training\")\n",
    "ax.plot(all_td_acc, label=\"Training-Dev\")\n",
    "ax.plot(all_dev_acc, label=\"Dev\")\n",
    "plt.hlines(test_acc, xmin=0, xmax=n_epochs-1, label=\"Test\", linestyles='dashed')\n",
    "\n",
    "plt.grid()\n",
    "plt.xlabel('Epochs')\n",
    "plt.ylabel('Acc')\n",
    "plt.legend(loc='lower right')\n",
    "plt.show()"
   ]
  },
  {
   "cell_type": "markdown",
   "metadata": {
    "colab_type": "text",
    "id": "1JaKfy8msqNE"
   },
   "source": [
    "Results (accuracy scores) from the first run of the above code on 24 April:\n",
    "\n",
    "Training|Training-Dev|Dev|Test\n",
    "---|---|---|---\n",
    "93.657|27.478|25.969|26.077\n",
    "\n",
    "![alt text](https://drive.google.com/uc?id=1WhJoDwZyQIr0m_aC3Y1qbgm7GU70L9GH)\n",
    "\n",
    "Needless to say, this is exact proof that the model is overfitting to the training set, even with a bit of L2 regularization introduced. There are many ways we can handle it, googling for 30 seconds gave us:\n",
    "\n",
    "* **Using more data**: \n",
    "  It happens that Prof. Kitamoto has replied on 23 April, giving us access to his 40GB large dataset. Although the image has a different representation (exact cloud top temperatures instead of colour-enhanced infrared image), this should not be a big deal, as Prof. Kitamoto is also worried that learning BD images might be difficult. Whatever the case, we now have access to a gigantic dataset, so extra data is secured.\n",
    "* **Data augmentation**:\n",
    "  This can be used to add more variation to the images, but we would see whether we can make do with Prof. Kitamoto's dataset first.\n",
    "* **Regularization**:\n",
    "  We have included numerous dropout layers in the model, but the Internet suggests gradually increasing dropout rate as we near the output layer, so it may be worth a try. In addition, regularization rates can be increased. But this latter option might be taken into consideration when we finally figure out how to do grid search.\n"
   ]
  },
  {
   "cell_type": "markdown",
   "metadata": {
    "colab_type": "text",
    "id": "xvIpmKLvkKuU"
   },
   "source": [
    "---"
   ]
  },
  {
   "cell_type": "code",
   "execution_count": null,
   "metadata": {
    "colab": {},
    "colab_type": "code",
    "id": "YKX2DYFSVPCq"
   },
   "outputs": [],
   "source": [
    "\"\"\" For CV later \"\"\"\n",
    "from skorch import NeuralNetClassifier\n",
    "from skorch.dataset import CVSplit\n",
    "from sklearn.model_selection import GridSearchCV, cross_val_score\n",
    "\n",
    "begin_time = time()\n",
    "test_net = NeuralNetClassifier(\n",
    "    # PyTorch model\n",
    "    module = interim_model_1,\n",
    "    max_epochs = n_epochs,\n",
    "    lr = learning_rate,\n",
    "    device = 'cuda',\n",
    "    criterion = nn.CrossEntropyLoss,\n",
    "    optimizer = optim.Adam,\n",
    "    optimizer__lr = learning_rate,\n",
    "    batch_size = batch_size,\n",
    "    # internal train/validation split by skorch\n",
    "    # use pytorch dataset is ok, auto-wrapped\n",
    "    # here validated against dev set\n",
    "    train_split = predefined_split(dev_ds), \n",
    ")\n",
    "\n",
    "# Directly fitting the model\n",
    "test_net.fit(train_ds)\n",
    "finish_time = time()\n",
    "\n",
    "# Test set validate\n",
    "test_score = test_net.score(test_ds)\n",
    "print(\"Raw test accuracy: \", test_score)\n",
    "# 5-fold CV scores\n",
    "cv_scores = cross_val_score(test_net, train_ds, cv=5, scoring='accuracy')\n",
    "print(\"5-Fold CV scores: \", cv_scores)\n",
    "print(\"Mean: \", cv_scores.mean())"
   ]
  },
  {
   "cell_type": "markdown",
   "metadata": {
    "colab_type": "text",
    "id": "ZF5YwvEaZQv4"
   },
   "source": [
    "## Demo of current model\n",
    "\n",
    "Lets give a typhoon picture to our current model to see how the models perform!\n"
   ]
  },
  {
   "cell_type": "code",
   "execution_count": null,
   "metadata": {
    "colab": {},
    "colab_type": "code",
    "id": "QiBGlJzsZn8_"
   },
   "outputs": [],
   "source": [
    "from PIL import Image\n",
    "import requests\n",
    "from io import BytesIO\n",
    "%pylab inline\n",
    "import matplotlib.pyplot as plt\n",
    "import matplotlib.image as mpimg\n",
    "\n",
    "\n",
    "response = requests.get('http://agora.ex.nii.ac.jp/digital-typhoon/wsp/by-name/201822/bd/512x512/HMW818032312.201822.jpg')\n",
    "img = Image.open(BytesIO(response.content))\n",
    "imgplot = plt.imshow(img, cmap='gray')\n",
    "plt.show()"
   ]
  },
  {
   "cell_type": "code",
   "execution_count": null,
   "metadata": {
    "colab": {},
    "colab_type": "code",
    "id": "1xJJIouvmb94"
   },
   "outputs": [],
   "source": [
    "transform = transforms.Compose([\n",
    "    transforms.ToTensor()\n",
    "    ]\n",
    ")\n",
    "t = transform(img).unsqueeze(0).cuda()\n",
    "with torch.no_grad():\n",
    "  outputs = interim_model_1(t)\n",
    "  _, predicted = torch.max(outputs.data, 1)\n",
    "  print(predicted)\n",
    "  "
   ]
  },
  {
   "cell_type": "code",
   "execution_count": null,
   "metadata": {
    "colab": {},
    "colab_type": "code",
    "id": "9l6oHfCZtXG5"
   },
   "outputs": [],
   "source": [
    "transform = transforms.Compose([\n",
    "      transforms.Resize(256),\n",
    "      transforms.CenterCrop(224),  \n",
    "      transforms.ToTensor(),\n",
    "      transforms.Normalize(mean=[0.485, 0.456, 0.406], std=[0.229, 0.224, 0.225])\n",
    "  ])\n",
    "\n",
    "t = transform(img.convert('RGB')).unsqueeze(0).cuda()\n",
    "\n",
    "with torch.no_grad():\n",
    "  outputs = interim_model(t)\n",
    "  _, predicted = torch.max(outputs.data, 1)\n",
    "  print(predicted)"
   ]
  }
 ],
 "metadata": {
  "colab": {
   "collapsed_sections": [],
   "machine_shape": "hm",
   "name": "[Latest][GPU_FARM] COMP3359_group_28.ipynb",
   "provenance": []
  },
  "kernelspec": {
   "display_name": "Python 3",
   "language": "python",
   "name": "python3"
  },
  "language_info": {
   "codemirror_mode": {
    "name": "ipython",
    "version": 3
   },
   "file_extension": ".py",
   "mimetype": "text/x-python",
   "name": "python",
   "nbconvert_exporter": "python",
   "pygments_lexer": "ipython3",
   "version": "3.7.6"
  }
 },
 "nbformat": 4,
 "nbformat_minor": 4
}
