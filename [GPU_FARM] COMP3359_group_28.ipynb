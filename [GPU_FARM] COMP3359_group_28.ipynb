{
 "cells": [
  {
   "cell_type": "markdown",
   "metadata": {
    "colab_type": "text",
    "id": "GwtOT4QGHQ6-"
   },
   "source": [
    "# COMP3359 Project\n",
    "## Group 28: Classification of Tropical Cyclone Satellite Image by Intensity\n",
    "\n",
    "---\n",
    "\n",
    "### Introduction\n",
    "In this project, we intend to develop a CNN-based model that accepts a satellite image of a tropical cyclone as input and\n",
    "predicts a label the appropriate Dvorak T-number (a measure of tropical cyclone intensity) for it.\n",
    "The T-number is derived using a manual method known as the Dvorak Technique (Dvorak,\n",
    "1975; Dvorak, 1984) and we intend to let an AI model perform it without knowing the exact rules\n",
    "and features to look for.\n",
    "\n",
    "The dataset used is obtained from the website “Digital Typhoon”, a platform that\n",
    "provides historical data (including satellite images) of tropical cyclones, provided by Prof. A. Kitamoto of\n",
    "National Institute of Informatics (Japan), to whom we are highly indebted for his kind permission to use his data.\n",
    "\n",
    "This notebook will be the implementation of our methodology, which is essentially a CNN multi-class image classifier.\n",
    "\n",
    "References used:\n",
    "- Dvorak, V.F. (1975, 5) Tropical Cyclone Intensity Analysis and Forecasting From\n",
    "Satellite Imagery. Monthly Weather Review , Volume 3, pp.420-430.\n",
    "- Dvorak, V.F. (1984) Tropical Cyclone Intensity Analysis Using Satellite Data. National\n",
    "Oceanic and Atmospheric Administration. Washington D.C.: National Oceanic and\n",
    "Atmospheric Administration."
   ]
  },
  {
   "cell_type": "markdown",
   "metadata": {
    "colab_type": "text",
    "id": "i50VmC1eNZ5z"
   },
   "source": [
    "### Table of Content\n",
    "\n",
    "\n",
    "---\n",
    "- Prerequisite\n",
    "- Data Exploration and Preprocesssing\n",
    "- [Interim Prototype] Building and Training a Model - Take 1: Pre-trained Net\n",
    "- [Interim Prototype] Building and Training a Model - Take 2: Custom CNN\n",
    "- [Interim Prototype] Conclusions about the two models\n",
    "\n"
   ]
  },
  {
   "cell_type": "code",
   "execution_count": 1,
   "metadata": {},
   "outputs": [],
   "source": [
    "### Prerequisite"
   ]
  },
  {
   "cell_type": "code",
   "execution_count": 1,
   "metadata": {
    "colab": {},
    "colab_type": "code",
    "id": "OXlUH1nAJmE0"
   },
   "outputs": [],
   "source": [
    "\"\"\" Set path to data: \"\"\"\n",
    "# It happens to be a shared folder so the following code may not work for everyone\n",
    "dataset_dir = '.'\n",
    "\n",
    "# Make sure the working directory is correct\n",
    "import sys\n",
    "import os\n",
    "sys.path.append(dataset_dir)"
   ]
  },
  {
   "cell_type": "code",
   "execution_count": 2,
   "metadata": {
    "colab": {},
    "colab_type": "code",
    "id": "FTnGPn81_BX4"
   },
   "outputs": [],
   "source": [
    "\"\"\" Global variables \"\"\"\n",
    "learning_rate = 0.001\n",
    "n_epochs = 20\n",
    "batch_size = 32\n",
    "\n",
    "import random\n",
    "import torch\n",
    "\n",
    "gpu_count = torch.cuda.device_count()\n",
    "RAND_SEED = 20200424\n",
    "random.seed(RAND_SEED)\n",
    "torch.manual_seed(RAND_SEED)\n",
    "raw_data_dir = f\"{dataset_dir}/raw_data/pandas_sequences\""
   ]
  },
  {
   "cell_type": "code",
   "execution_count": 3,
   "metadata": {
    "colab": {
     "base_uri": "https://localhost:8080/",
     "height": 34
    },
    "colab_type": "code",
    "id": "UlfyJNu9Y7q6",
    "outputId": "5ba78b59-620d-475c-f33a-e404cb0df2e1"
   },
   "outputs": [
    {
     "data": {
      "text/plain": [
       "'GeForce GTX 1080 Ti'"
      ]
     },
     "execution_count": 3,
     "metadata": {},
     "output_type": "execute_result"
    }
   ],
   "source": [
    "torch.cuda.get_device_name()"
   ]
  },
  {
   "cell_type": "code",
   "execution_count": 4,
   "metadata": {
    "colab": {},
    "colab_type": "code",
    "id": "f_2jO48KOKiI"
   },
   "outputs": [],
   "source": [
    "# Import required Stuff\n",
    "import numpy as np\n",
    "import pandas as pd\n",
    "import pickle"
   ]
  },
  {
   "cell_type": "markdown",
   "metadata": {
    "colab_type": "text",
    "id": "f25gznODIdST"
   },
   "source": [
    "## Data Exploration and Preprocessing\n",
    "\n",
    "As mentioned in the proposal, we intend to use the dataset by Prof. A. Kitamoto of the National Institute of Informatics (Japan). Via his website “Digital Typhoon”, a platform that provides historical data (including satellite images) of tropical cyclones, we would likely obtain his research dataset for the use of this project. However Prof. Kitamoto only replied to us on 17 April evening and as a result, we proceeded to obtain training data by means of web scraping, in order to get hands-on experience about how the data would be like. \n",
    "\n",
    "The dataset we obtained consists of over 9000 images. Here are some code to look into the overall statistics of the dataset."
   ]
  },
  {
   "cell_type": "code",
   "execution_count": 5,
   "metadata": {},
   "outputs": [
    {
     "name": "stdout",
     "output_type": "stream",
     "text": [
      "Requirement already satisfied: h5py in ./anaconda3/lib/python3.7/site-packages (2.10.0)\n",
      "Requirement already satisfied: opencv-python in ./anaconda3/lib/python3.7/site-packages (4.2.0.34)\n",
      "Requirement already satisfied: six in ./anaconda3/lib/python3.7/site-packages (from h5py) (1.14.0)\n",
      "Requirement already satisfied: numpy>=1.7 in ./anaconda3/lib/python3.7/site-packages (from h5py) (1.18.1)\n"
     ]
    }
   ],
   "source": [
    "!pip install h5py opencv-python"
   ]
  },
  {
   "cell_type": "code",
   "execution_count": 6,
   "metadata": {},
   "outputs": [],
   "source": [
    "# To Img per file\n",
    "import glob\n",
    "import h5py\n",
    "import cv2\n",
    "import os"
   ]
  },
  {
   "cell_type": "code",
   "execution_count": 7,
   "metadata": {
    "colab": {},
    "colab_type": "code",
    "id": "3s3j8cc_O3P-"
   },
   "outputs": [
    {
     "data": {
      "text/plain": [
       "163665"
      ]
     },
     "execution_count": 7,
     "metadata": {},
     "output_type": "execute_result"
    }
   ],
   "source": [
    "# Load filtered df from csv\n",
    "labels = pd.read_csv(f\"{dataset_dir}/labels_with_images.csv\")\n",
    "typhoon = labels.sequence.values\n",
    "raw_index = labels.raw_index.values\n",
    "len(raw_index)"
   ]
  },
  {
   "cell_type": "code",
   "execution_count": 8,
   "metadata": {},
   "outputs": [],
   "source": [
    "def getImageFromH5(row):\n",
    "    with h5py.File(f\"{dataset_dir}/images.hdf5\", 'r') as h5:\n",
    "        img_name = f\"{row['sequence']}{row['raw_index']}\"\n",
    "        return h5[img_name][()]"
   ]
  },
  {
   "cell_type": "code",
   "execution_count": 9,
   "metadata": {},
   "outputs": [
    {
     "name": "stdout",
     "output_type": "stream",
     "text": [
      "40.3 ms ± 3.46 ms per loop (mean ± std. dev. of 7 runs, 10 loops each)\n"
     ]
    }
   ],
   "source": [
    "%%timeit\n",
    "getImageFromH5(labels.iloc[0])"
   ]
  },
  {
   "cell_type": "code",
   "execution_count": 10,
   "metadata": {
    "colab": {
     "base_uri": "https://localhost:8080/",
     "height": 773
    },
    "colab_type": "code",
    "id": "pTM_QaxU1vwz",
    "outputId": "9250f417-80d1-4081-d279-18011dac183c"
   },
   "outputs": [
    {
     "data": {
      "text/html": [
       "<div>\n",
       "<style scoped>\n",
       "    .dataframe tbody tr th:only-of-type {\n",
       "        vertical-align: middle;\n",
       "    }\n",
       "\n",
       "    .dataframe tbody tr th {\n",
       "        vertical-align: top;\n",
       "    }\n",
       "\n",
       "    .dataframe thead th {\n",
       "        text-align: right;\n",
       "    }\n",
       "</style>\n",
       "<table border=\"1\" class=\"dataframe\">\n",
       "  <thead>\n",
       "    <tr style=\"text-align: right;\">\n",
       "      <th></th>\n",
       "      <th>sequence</th>\n",
       "      <th>raw_index</th>\n",
       "      <th>datetime</th>\n",
       "      <th>class</th>\n",
       "      <th>latitude</th>\n",
       "      <th>longitude</th>\n",
       "      <th>pressure</th>\n",
       "      <th>TCxETC</th>\n",
       "      <th>year</th>\n",
       "      <th>month</th>\n",
       "      <th>day</th>\n",
       "    </tr>\n",
       "  </thead>\n",
       "  <tbody>\n",
       "    <tr>\n",
       "      <th>0</th>\n",
       "      <td>197830</td>\n",
       "      <td>132</td>\n",
       "      <td>1978-12-01 00:00:00</td>\n",
       "      <td>4</td>\n",
       "      <td>36.000000</td>\n",
       "      <td>174.000000</td>\n",
       "      <td>996.000000</td>\n",
       "      <td>1</td>\n",
       "      <td>1978</td>\n",
       "      <td>12</td>\n",
       "      <td>1</td>\n",
       "    </tr>\n",
       "    <tr>\n",
       "      <th>1</th>\n",
       "      <td>197830</td>\n",
       "      <td>135</td>\n",
       "      <td>1978-12-01 03:00:00</td>\n",
       "      <td>4</td>\n",
       "      <td>37.459087</td>\n",
       "      <td>176.437846</td>\n",
       "      <td>994.000000</td>\n",
       "      <td>1</td>\n",
       "      <td>1978</td>\n",
       "      <td>12</td>\n",
       "      <td>1</td>\n",
       "    </tr>\n",
       "    <tr>\n",
       "      <th>2</th>\n",
       "      <td>197830</td>\n",
       "      <td>138</td>\n",
       "      <td>1978-12-01 06:00:00</td>\n",
       "      <td>4</td>\n",
       "      <td>39.000000</td>\n",
       "      <td>179.000000</td>\n",
       "      <td>992.000000</td>\n",
       "      <td>1</td>\n",
       "      <td>1978</td>\n",
       "      <td>12</td>\n",
       "      <td>1</td>\n",
       "    </tr>\n",
       "    <tr>\n",
       "      <th>3</th>\n",
       "      <td>197901</td>\n",
       "      <td>0</td>\n",
       "      <td>1978-12-31 12:00:00</td>\n",
       "      <td>0</td>\n",
       "      <td>2.000000</td>\n",
       "      <td>172.000000</td>\n",
       "      <td>1004.000000</td>\n",
       "      <td>0</td>\n",
       "      <td>1978</td>\n",
       "      <td>12</td>\n",
       "      <td>31</td>\n",
       "    </tr>\n",
       "    <tr>\n",
       "      <th>4</th>\n",
       "      <td>197901</td>\n",
       "      <td>4</td>\n",
       "      <td>1978-12-31 16:00:00</td>\n",
       "      <td>0</td>\n",
       "      <td>2.299607</td>\n",
       "      <td>171.805592</td>\n",
       "      <td>1002.666667</td>\n",
       "      <td>0</td>\n",
       "      <td>1978</td>\n",
       "      <td>12</td>\n",
       "      <td>31</td>\n",
       "    </tr>\n",
       "    <tr>\n",
       "      <th>...</th>\n",
       "      <td>...</td>\n",
       "      <td>...</td>\n",
       "      <td>...</td>\n",
       "      <td>...</td>\n",
       "      <td>...</td>\n",
       "      <td>...</td>\n",
       "      <td>...</td>\n",
       "      <td>...</td>\n",
       "      <td>...</td>\n",
       "      <td>...</td>\n",
       "      <td>...</td>\n",
       "    </tr>\n",
       "    <tr>\n",
       "      <th>163660</th>\n",
       "      <td>201727</td>\n",
       "      <td>146</td>\n",
       "      <td>2017-12-26 02:00:00</td>\n",
       "      <td>0</td>\n",
       "      <td>8.446130</td>\n",
       "      <td>104.108717</td>\n",
       "      <td>1008.000000</td>\n",
       "      <td>0</td>\n",
       "      <td>2017</td>\n",
       "      <td>12</td>\n",
       "      <td>26</td>\n",
       "    </tr>\n",
       "    <tr>\n",
       "      <th>163661</th>\n",
       "      <td>201727</td>\n",
       "      <td>147</td>\n",
       "      <td>2017-12-26 03:00:00</td>\n",
       "      <td>0</td>\n",
       "      <td>8.479207</td>\n",
       "      <td>103.975076</td>\n",
       "      <td>1008.000000</td>\n",
       "      <td>0</td>\n",
       "      <td>2017</td>\n",
       "      <td>12</td>\n",
       "      <td>26</td>\n",
       "    </tr>\n",
       "    <tr>\n",
       "      <th>163662</th>\n",
       "      <td>201727</td>\n",
       "      <td>148</td>\n",
       "      <td>2017-12-26 04:00:00</td>\n",
       "      <td>0</td>\n",
       "      <td>8.516904</td>\n",
       "      <td>103.846973</td>\n",
       "      <td>1008.000000</td>\n",
       "      <td>0</td>\n",
       "      <td>2017</td>\n",
       "      <td>12</td>\n",
       "      <td>26</td>\n",
       "    </tr>\n",
       "    <tr>\n",
       "      <th>163663</th>\n",
       "      <td>201727</td>\n",
       "      <td>149</td>\n",
       "      <td>2017-12-26 05:00:00</td>\n",
       "      <td>0</td>\n",
       "      <td>8.557682</td>\n",
       "      <td>103.722564</td>\n",
       "      <td>1008.000000</td>\n",
       "      <td>0</td>\n",
       "      <td>2017</td>\n",
       "      <td>12</td>\n",
       "      <td>26</td>\n",
       "    </tr>\n",
       "    <tr>\n",
       "      <th>163664</th>\n",
       "      <td>201727</td>\n",
       "      <td>150</td>\n",
       "      <td>2017-12-26 06:00:00</td>\n",
       "      <td>0</td>\n",
       "      <td>8.600000</td>\n",
       "      <td>103.600000</td>\n",
       "      <td>1008.000000</td>\n",
       "      <td>0</td>\n",
       "      <td>2017</td>\n",
       "      <td>12</td>\n",
       "      <td>26</td>\n",
       "    </tr>\n",
       "  </tbody>\n",
       "</table>\n",
       "<p>163665 rows × 11 columns</p>\n",
       "</div>"
      ],
      "text/plain": [
       "        sequence  raw_index             datetime  class   latitude  \\\n",
       "0         197830        132  1978-12-01 00:00:00      4  36.000000   \n",
       "1         197830        135  1978-12-01 03:00:00      4  37.459087   \n",
       "2         197830        138  1978-12-01 06:00:00      4  39.000000   \n",
       "3         197901          0  1978-12-31 12:00:00      0   2.000000   \n",
       "4         197901          4  1978-12-31 16:00:00      0   2.299607   \n",
       "...          ...        ...                  ...    ...        ...   \n",
       "163660    201727        146  2017-12-26 02:00:00      0   8.446130   \n",
       "163661    201727        147  2017-12-26 03:00:00      0   8.479207   \n",
       "163662    201727        148  2017-12-26 04:00:00      0   8.516904   \n",
       "163663    201727        149  2017-12-26 05:00:00      0   8.557682   \n",
       "163664    201727        150  2017-12-26 06:00:00      0   8.600000   \n",
       "\n",
       "         longitude     pressure  TCxETC  year  month  day  \n",
       "0       174.000000   996.000000       1  1978     12    1  \n",
       "1       176.437846   994.000000       1  1978     12    1  \n",
       "2       179.000000   992.000000       1  1978     12    1  \n",
       "3       172.000000  1004.000000       0  1978     12   31  \n",
       "4       171.805592  1002.666667       0  1978     12   31  \n",
       "...            ...          ...     ...   ...    ...  ...  \n",
       "163660  104.108717  1008.000000       0  2017     12   26  \n",
       "163661  103.975076  1008.000000       0  2017     12   26  \n",
       "163662  103.846973  1008.000000       0  2017     12   26  \n",
       "163663  103.722564  1008.000000       0  2017     12   26  \n",
       "163664  103.600000  1008.000000       0  2017     12   26  \n",
       "\n",
       "[163665 rows x 11 columns]"
      ]
     },
     "execution_count": 10,
     "metadata": {},
     "output_type": "execute_result"
    }
   ],
   "source": [
    "labels = labels[['sequence','raw_index','datetime', 'class', 'latitude', 'longitude','pressure', 'TCxETC']]\n",
    "labels['year'] = pd.to_datetime(labels['datetime'], format='%Y-%m-%d %X').dt.year\n",
    "labels['month'] = pd.to_datetime(labels['datetime'], format='%Y-%m-%d %X').dt.month\n",
    "labels['day'] = pd.to_datetime(labels['datetime'], format='%Y-%m-%d %X').dt.day\n",
    "labels"
   ]
  },
  {
   "cell_type": "markdown",
   "metadata": {
    "colab_type": "text",
    "id": "3YdGnYb6LNHz"
   },
   "source": [
    "#### Exploring the data\n",
    "Organisation of dataset folder:\n",
    "\n",
    "\n",
    "```\n",
    "dataset_combined/      #root folder\n",
    "|-- csvs               #contains csv files for each typhoon\n",
    "|-- images             #monstrously huge folder of images\n",
    "|-- typhoon_labels.csv #csv containing paths to images and all other data\n",
    "```\n",
    "\n",
    "Content of the dataset _as of now (15 April, 2020)_:\n",
    "* 9317 images of 260 tropical cyclones (TCs) in the Northwestern Pacific basin between 2009 and 2019 inclusive\n",
    "  * Each image is 512x512 monochrome, already centered on the TC.\n",
    "  * More precisely, they are BD-enhanced (coloured) infrared images, the kind of infrared images human analysts would use to perform the Dvorak Technique.\n",
    "* Other data included for each image: \n",
    "  * an identifier (id): year + number (e.g. 200901) as assigned by the JMA\n",
    "  * name of the tropical cyclone\n",
    "  * date (Y,M,D) and time (hour, 24h system) of the image\n",
    "  * latitude and longitude of the TC in the image\n",
    "  * central pressure (hectopascals/hPa) and wind speed (knots/kt)\n",
    "  * class: intensity of the TC, as classified by the website. Not useful for our cause, as the classification systems are different.\n",
    "  * img: file name of the image in the images folder\n",
    "  * chart: a link to the track chart on the source website\n",
    "\n",
    "Some of the above are going to be unused and would be dropped in due course.\n"
   ]
  },
  {
   "cell_type": "code",
   "execution_count": 11,
   "metadata": {
    "colab": {
     "base_uri": "https://localhost:8080/",
     "height": 72
    },
    "colab_type": "code",
    "id": "CTxXtWoiZo9E",
    "outputId": "f6441186-2925-4fa7-d83c-ddfb6a0b020b"
   },
   "outputs": [],
   "source": [
    "# Lets go with import as usual\n",
    "import matplotlib.pyplot as plt\n",
    "import seaborn as sns\n",
    "%matplotlib inline"
   ]
  },
  {
   "cell_type": "code",
   "execution_count": 12,
   "metadata": {
    "colab": {
     "base_uri": "https://localhost:8080/",
     "height": 144
    },
    "colab_type": "code",
    "id": "12wI5xPiOnuI",
    "outputId": "0311ce7a-4ffc-4793-91e1-add9516e747b"
   },
   "outputs": [
    {
     "name": "stdout",
     "output_type": "stream",
     "text": [
      "Sample data:\n"
     ]
    },
    {
     "data": {
      "text/plain": [
       "<Figure size 720x720 with 0 Axes>"
      ]
     },
     "metadata": {},
     "output_type": "display_data"
    },
    {
     "data": {
      "image/png": "[encoded data removed]",
      "text/plain": [
       "<Figure size 432x288 with 5 Axes>"
      ]
     },
     "metadata": {
      "needs_background": "light"
     },
     "output_type": "display_data"
    }
   ],
   "source": [
    "# Let's look at some sample images\n",
    "# Warning: this may take a while initially and is prone to crashing. Execute\n",
    "# at your own risk.\n",
    "\n",
    "plt.figure(figsize=(10,10))\n",
    "print(\"Sample data:\")\n",
    "fig, ax = plt.subplots(1,5)\n",
    "for i in range(5):\n",
    "  img = getImageFromH5(labels.loc[i])\n",
    "  ax[i].imshow(img, cmap='gray')\n",
    "plt.show()"
   ]
  },
  {
   "cell_type": "code",
   "execution_count": 13,
   "metadata": {
    "colab": {
     "base_uri": "https://localhost:8080/",
     "height": 207
    },
    "colab_type": "code",
    "id": "yaLIUuriSLH8",
    "outputId": "5d3e9d7a-75d7-4c8b-dc3a-b9bdd0b12bef"
   },
   "outputs": [
    {
     "data": {
      "text/plain": [
       "['sequence',\n",
       " 'raw_index',\n",
       " 'datetime',\n",
       " 'class',\n",
       " 'latitude',\n",
       " 'longitude',\n",
       " 'pressure',\n",
       " 'TCxETC',\n",
       " 'year',\n",
       " 'month',\n",
       " 'day']"
      ]
     },
     "execution_count": 13,
     "metadata": {},
     "output_type": "execute_result"
    }
   ],
   "source": [
    "# Labels of each row\n",
    "list(labels.columns.values)"
   ]
  },
  {
   "cell_type": "code",
   "execution_count": 14,
   "metadata": {
    "colab": {
     "base_uri": "https://localhost:8080/",
     "height": 438
    },
    "colab_type": "code",
    "id": "qsO_zp6BVmDj",
    "outputId": "be602e9e-4c61-43aa-b699-1d476b656ec1"
   },
   "outputs": [
    {
     "name": "stdout",
     "output_type": "stream",
     "text": [
      "Classes: [0 1 2 3 4 5]\n",
      "Distribution \n",
      "0    42312\n",
      "3    40694\n",
      "1    36358\n",
      "2    25703\n",
      "4    18447\n",
      "5      151\n",
      "Name: class, dtype: int64\n"
     ]
    },
    {
     "data": {
      "text/plain": [
       "<matplotlib.axes._subplots.AxesSubplot at 0x152eb59c3310>"
      ]
     },
     "execution_count": 14,
     "metadata": {},
     "output_type": "execute_result"
    },
    {
     "data": {
      "image/png": "[encoded data removed]",
      "text/plain": [
       "<Figure size 432x288 with 1 Axes>"
      ]
     },
     "metadata": {
      "needs_background": "light"
     },
     "output_type": "display_data"
    }
   ],
   "source": [
    "# Class\n",
    "classes = np.sort(labels['class'].unique())\n",
    "print(\"Classes:\", classes)\n",
    "print(\"Distribution \")\n",
    "dist = labels['class'].value_counts()\n",
    "print(dist)\n",
    "sns.barplot(dist.index, dist)"
   ]
  },
  {
   "cell_type": "code",
   "execution_count": 15,
   "metadata": {
    "colab": {
     "base_uri": "https://localhost:8080/",
     "height": 296
    },
    "colab_type": "code",
    "id": "bKu26ra5XWKJ",
    "outputId": "88b944ec-4653-4878-f11a-8a6d42e8424e"
   },
   "outputs": [
    {
     "data": {
      "text/plain": [
       "<matplotlib.axes._subplots.AxesSubplot at 0x152eb15e9ed0>"
      ]
     },
     "execution_count": 15,
     "metadata": {},
     "output_type": "execute_result"
    },
    {
     "data": {
      "image/png": "[encoded data removed]",
      "text/plain": [
       "<Figure size 432x288 with 1 Axes>"
      ]
     },
     "metadata": {
      "needs_background": "light"
     },
     "output_type": "display_data"
    }
   ],
   "source": [
    "# Pressure distribution\n",
    "pressure = labels['pressure']\n",
    "sns.distplot(pressure)"
   ]
  },
  {
   "cell_type": "code",
   "execution_count": 16,
   "metadata": {
    "colab": {
     "base_uri": "https://localhost:8080/",
     "height": 415
    },
    "colab_type": "code",
    "id": "2jFhsdc4azSm",
    "outputId": "a0bcfdb8-09fe-4e7e-f79f-b691be4248ef"
   },
   "outputs": [
    {
     "name": "stdout",
     "output_type": "stream",
     "text": [
      "Median of each quantile\n",
      "0.1     950.000000\n",
      "0.2     965.000000\n",
      "0.3     977.000000\n",
      "0.4     985.000000\n",
      "0.5     990.666667\n",
      "0.6     995.000000\n",
      "0.7     998.000000\n",
      "0.8    1002.000000\n",
      "0.9    1004.000000\n",
      "Name: pressure, dtype: float64\n",
      "Number of image in each bin\n"
     ]
    },
    {
     "data": {
      "text/plain": [
       "0    18833\n",
       "1    14951\n",
       "2    15325\n",
       "3    19252\n",
       "4    13710\n",
       "5    16662\n",
       "6    16263\n",
       "7    20964\n",
       "8    12134\n",
       "9    15571\n",
       "Name: pressure, dtype: int64"
      ]
     },
     "execution_count": 16,
     "metadata": {},
     "output_type": "execute_result"
    }
   ],
   "source": [
    "# Pressure decile\n",
    "decile = [.1, .2, .3, .4, .5, .6, .7, .8, .9]\n",
    "cutoff = pressure.quantile(decile)\n",
    "print(\"Median of each quantile\")\n",
    "print(cutoff)\n",
    "qcutted = pd.qcut(pressure, 10, labels=False)\n",
    "print(\"Number of image in each bin\")\n",
    "qcutted.value_counts().sort_index()"
   ]
  },
  {
   "cell_type": "code",
   "execution_count": 17,
   "metadata": {
    "colab": {
     "base_uri": "https://localhost:8080/",
     "height": 214
    },
    "colab_type": "code",
    "id": "r8H6axKqdqwf",
    "outputId": "d2950920-2eff-4952-da21-55a22eebb991"
   },
   "outputs": [
    {
     "data": {
      "text/plain": [
       "<matplotlib.axes._subplots.AxesSubplot at 0x152eb149c990>"
      ]
     },
     "execution_count": 17,
     "metadata": {},
     "output_type": "execute_result"
    },
    {
     "data": {
      "image/png": "[encoded data removed]",
      "text/plain": [
       "<Figure size 1296x360 with 1 Axes>"
      ]
     },
     "metadata": {
      "needs_background": "light"
     },
     "output_type": "display_data"
    }
   ],
   "source": [
    "# By Year\n",
    "years = labels['year']\n",
    "count_years = years.value_counts()\n",
    "plt.figure(figsize=(18,5))\n",
    "sns.barplot(count_years.index, count_years)"
   ]
  },
  {
   "cell_type": "markdown",
   "metadata": {
    "colab_type": "text",
    "id": "pJUIWmZjRfT5"
   },
   "source": [
    "#### Observations\n",
    "There are some observations we made about the dataset.\n",
    "* The images do not zoom closely to the TC and sometimes capture a nearby TC.\n",
    "  * This is an issue with the data source.\n",
    "  * We would bear with it for now and observe what is going to happen.\n",
    "* There is a very obvious surplus of images of weaker TCs.\n",
    "  * The weakest class has 1615 images, but the strongest 32 only.\n",
    "  * We would bear with it for now and observe what is going to happen.\n",
    "  * Potential solutions are: **(To be finalized)**\n",
    "    * rotate some images to make up for the numbers, but the images would be similar\n",
    "    * go further back and obtain images from before 2009, until there aren't even such satellite images available\n",
    "    * for these stronger TCs, we include satellite images taken every (for example) 3 hours instead of 6, thereby getting more (but similar) images\n",
    "    * check other sources for images, but the images would have different dimensions/zooming levels or may require other preprocessing"
   ]
  },
  {
   "cell_type": "markdown",
   "metadata": {
    "colab_type": "text",
    "id": "V80v0i6MsTOs"
   },
   "source": [
    "### Preprocessing\n",
    "\n",
    "This part is rather straightforward. Based on the criteria stated above, we drop unnecessary columns and bin the pressure values into labels (just using numbers 1-12 should be ok). Next the dataset is separated into train, dev and test sets. After that each set gets its own PyTorch DataLoader pipeline."
   ]
  },
  {
   "cell_type": "code",
   "execution_count": 18,
   "metadata": {
    "colab": {},
    "colab_type": "code",
    "id": "vLw_gBVgOhPG"
   },
   "outputs": [],
   "source": [
    "# Import \n",
    "from sklearn.model_selection import train_test_split"
   ]
  },
  {
   "cell_type": "code",
   "execution_count": 19,
   "metadata": {
    "colab": {},
    "colab_type": "code",
    "id": "gNQXGL6ug-Ca"
   },
   "outputs": [],
   "source": [
    "# Pick useful label attributes only\n",
    "processed_labels = labels[['class','sequence','raw_index','year']]"
   ]
  },
  {
   "cell_type": "code",
   "execution_count": 20,
   "metadata": {
    "colab": {
     "base_uri": "https://localhost:8080/",
     "height": 34
    },
    "colab_type": "code",
    "id": "q8z8GpH2gkkh",
    "outputId": "3a08f84a-23c1-4b95-c028-66ca8d9797c0"
   },
   "outputs": [
    {
     "name": "stdout",
     "output_type": "stream",
     "text": [
      "30738 106341 26586\n"
     ]
    }
   ],
   "source": [
    "# To prevent Data leak, we seperate test data by year\n",
    "train_ratio = 0.8\n",
    "test_after_year = 2012\n",
    "test_set = processed_labels[processed_labels['year'] >= 2012]\n",
    "traindev_set = processed_labels[processed_labels['year'] < 2012]\n",
    "train_set, dev_set = train_test_split(traindev_set, train_size=train_ratio, shuffle=True)\n",
    "print(len(test_set),\n",
    "len(train_set),\n",
    "len(dev_set),)"
   ]
  },
  {
   "cell_type": "code",
   "execution_count": 21,
   "metadata": {
    "colab": {},
    "colab_type": "code",
    "id": "sYS2K_H0BziP"
   },
   "outputs": [],
   "source": [
    "# Import pytorch and packages gonna use\n",
    "import torch\n",
    "from torch.utils.data import Dataset, DataLoader\n",
    "from torchvision import transforms\n",
    "import torch.nn as nn\n",
    "import torch.optim as optim\n",
    "from PIL import Image"
   ]
  },
  {
   "cell_type": "code",
   "execution_count": 37,
   "metadata": {
    "colab": {},
    "colab_type": "code",
    "id": "-xjSDA6tr2vu"
   },
   "outputs": [],
   "source": [
    "\"\"\" Custom PyTorch Dataset \"\"\"\n",
    "class TyDataset(Dataset):\n",
    "  def __init__(self, df, is_pretrain=False):\n",
    "    self.df = df\n",
    "    self.transform = transforms.Compose([\n",
    "      transforms.Resize(224),      #This is for pre-trained model use\n",
    "      transforms.CenterCrop(224),  \n",
    "      transforms.ToTensor(),\n",
    "      transforms.Normalize(mean=[0.5], std=[0.5])\n",
    "  ])\n",
    "  \n",
    "  def __len__(self):\n",
    "    return len(self.df)\n",
    "  \n",
    "  def __getitem__(self, idx):\n",
    "    img = getImageFromH5(self.df.iloc[idx])\n",
    "    img = Image.fromarray(img).convert('RGB')\n",
    "    label = self.df.iloc[idx]['class']\n",
    "    image = self.transform(img)\n",
    "    return image, label"
   ]
  },
  {
   "cell_type": "markdown",
   "metadata": {
    "colab_type": "text",
    "id": "qq56ulfPrw31"
   },
   "source": [
    "### [Interim Prototype] Building and Training a Model - Take 1: Pre-trained Net\n",
    "\n",
    "After the preprocessing is complete, a model is developed as baseline.\n",
    "\n",
    "Firstly we try to use a pre-trained CNN \"densenet161\" and see how it performs with our data.\n",
    "\n",
    "For loss function we chose cross entropy loss and optimizer is Adam."
   ]
  },
  {
   "cell_type": "code",
   "execution_count": 60,
   "metadata": {
    "colab": {
     "base_uri": "https://localhost:8080/",
     "height": 69
    },
    "colab_type": "code",
    "id": "wLzDLW_Iv1iU",
    "outputId": "0c5ba09b-4c00-4a68-fefb-0b7e69a5123a"
   },
   "outputs": [
    {
     "name": "stdout",
     "output_type": "stream",
     "text": [
      "Training set size (after DataLoader processing): 106341\n",
      "Dev set size (after DataLoader processing): 26586\n",
      "Training set size (after DataLoader processing): 30738\n"
     ]
    }
   ],
   "source": [
    "\"\"\" Creating DataLoader instances \"\"\"\n",
    "# DataLoader for training set\n",
    "train_batch_size = batch_size\n",
    "train_ds = TyDataset(train_set)\n",
    "train_loader = DataLoader(train_ds, batch_size = train_batch_size, shuffle=True, num_workers=16, drop_last=True, pin_memory=True)\n",
    "print(\"Training set size (after DataLoader processing):\", len(train_ds))\n",
    "\n",
    "# DataLoader for dev set\n",
    "dev_batch_size = batch_size\n",
    "dev_ds = TyDataset(dev_set)\n",
    "dev_loader = DataLoader(dev_ds, batch_size = dev_batch_size, shuffle=True, num_workers=16, drop_last=True, pin_memory=True)\n",
    "print(\"Dev set size (after DataLoader processing):\", len(dev_ds))\n",
    "\n",
    "# DataLoader for test set\n",
    "test_batch_size = batch_size\n",
    "test_ds = TyDataset(test_set)\n",
    "test_loader = DataLoader(test_ds, batch_size = test_batch_size, shuffle=True, num_workers=16, drop_last=True, pin_memory=True)\n",
    "print(\"Training set size (after DataLoader processing):\", len(test_ds))"
   ]
  },
  {
   "cell_type": "code",
   "execution_count": 61,
   "metadata": {
    "colab": {},
    "colab_type": "code",
    "id": "93hS1TxRlVPk"
   },
   "outputs": [],
   "source": [
    "# DEBUG: Get one batch\n",
    "# next(iter(train_loader))"
   ]
  },
  {
   "cell_type": "code",
   "execution_count": 62,
   "metadata": {
    "colab": {},
    "colab_type": "code",
    "id": "ioWO1eZDEZEW"
   },
   "outputs": [],
   "source": [
    "class data_prefetcher():\n",
    "    def __init__(self, loader):\n",
    "        self.loader = iter(loader)\n",
    "        self.stream = torch.cuda.Stream()\n",
    "        self.mean = torch.tensor([0.485 * 255, 0.456 * 255, 0.406 * 255]).cuda().view(1,3,1,1)\n",
    "        self.std = torch.tensor([0.229 * 255, 0.224 * 255, 0.225 * 255]).cuda().view(1,3,1,1)\n",
    "        # With Amp, it isn't necessary to manually convert data to half.\n",
    "        # if args.fp16:\n",
    "        #     self.mean = self.mean.half()\n",
    "        #     self.std = self.std.half()\n",
    "        self.preload()\n",
    "\n",
    "    def preload(self):\n",
    "        try:\n",
    "            self.next_input, self.next_target = next(self.loader)\n",
    "        except StopIteration:\n",
    "            self.next_input = None\n",
    "            self.next_target = None\n",
    "            return\n",
    "        with torch.cuda.stream(self.stream):\n",
    "            self.next_input = self.next_input.cuda(non_blocking=True)\n",
    "            self.next_target = self.next_target.cuda(non_blocking=True)\n",
    "            # With Amp, it isn't necessary to manually convert data to half.\n",
    "            # if args.fp16:\n",
    "            #     self.next_input = self.next_input.half()\n",
    "            # else:\n",
    "            \n",
    "    def next(self):\n",
    "        torch.cuda.current_stream().wait_stream(self.stream)\n",
    "        input = self.next_input\n",
    "        target = self.next_target\n",
    "        self.preload()\n",
    "        return input, target"
   ]
  },
  {
   "cell_type": "code",
   "execution_count": 63,
   "metadata": {
    "colab": {
     "base_uri": "https://localhost:8080/",
     "height": 34
    },
    "colab_type": "code",
    "id": "wu0WZHMOsAkO",
    "outputId": "2d224387-ee5b-4cef-f47c-0f4f7a3edf15"
   },
   "outputs": [
    {
     "name": "stdout",
     "output_type": "stream",
     "text": [
      "Device: cuda\n"
     ]
    }
   ],
   "source": [
    "# Get device\n",
    "device = torch.device('cuda' if torch.cuda.is_available() else 'cpu')\n",
    "print(\"Device:\",device)\n",
    "if not torch.cuda.is_available():\n",
    "  print(\"Suggest you use GPU\")"
   ]
  },
  {
   "cell_type": "code",
   "execution_count": 64,
   "metadata": {
    "colab": {},
    "colab_type": "code",
    "id": "w3M9Grkos1ex"
   },
   "outputs": [],
   "source": [
    "\"\"\" Pre-trained CNN Model \"\"\"\n",
    "import torchvision.models as models\n",
    "\n",
    "class interim_prototype_take1(nn.Module):\n",
    "  def __init__(self):\n",
    "    super(interim_prototype_take1, self).__init__()\n",
    "    ## Define layers\n",
    "    # Input shape: (Batch size, 1, 512, 512)\n",
    "    # Convolution layer(s)\n",
    "    self.conv = self.pretrained_model()\n",
    "    # FC layer(s)\n",
    "    self.fc = nn.Sequential(\n",
    "          nn.Linear(1000, 512), # 1000 is the default output size in densenet\n",
    "          nn.ReLU(),\n",
    "          nn.Dropout(0.2),\n",
    "          nn.Linear(512, 12)\n",
    "        )\n",
    "  \n",
    "  def pretrained_model(self):\n",
    "    model = models.densenet161(pretrained=True) \n",
    "    for param in model.parameters():\n",
    "      param.requires_grad = False\n",
    "    return model\n",
    "\n",
    "  def forward(self, x):\n",
    "    x = self.conv(x)\n",
    "    x = self.fc(x)\n",
    "    return x\n",
    "\n",
    "# construct and pass to device\n",
    "interim_model = interim_prototype_take1()\n",
    "interim_model = interim_model.to(device)\n",
    "# print(\"Interim prototype model structure: \")\n",
    "# print(interim_model) "
   ]
  },
  {
   "cell_type": "code",
   "execution_count": 65,
   "metadata": {
    "colab": {},
    "colab_type": "code",
    "id": "UkRO7UiSvHF4"
   },
   "outputs": [],
   "source": [
    "# Loss function\n",
    "criterion = nn.CrossEntropyLoss()\n",
    "\n",
    "# Optimizer\n",
    "optimizer = optim.Adam(interim_model.parameters(), lr=learning_rate)"
   ]
  },
  {
   "cell_type": "markdown",
   "metadata": {
    "colab_type": "text",
    "id": "vmgzdXdDOlYl"
   },
   "source": [
    "Now with the preparation complete, the following performs the training process."
   ]
  },
  {
   "cell_type": "code",
   "execution_count": 66,
   "metadata": {
    "colab": {},
    "colab_type": "code",
    "id": "G-sBNpoPOyN5"
   },
   "outputs": [],
   "source": [
    "# Function to train one epoch, adopted from Module 3 materials\n",
    "def train_one_epoch(model, device, criterion, optimizer, dataloader):\n",
    "  model.train()\n",
    "  epoch_loss = 0.0\n",
    "  correct_preds, total_preds = 0, 0\n",
    "\n",
    "  for i, (images, target) in enumerate(dataloader):\n",
    "    images = images.cuda(non_blocking=True)\n",
    "    target = target.cuda(non_blocking=True)\n",
    "    \n",
    "    outputs = model.forward(images)\n",
    "    \n",
    "    loss = criterion(outputs, target)\n",
    "    optimizer.zero_grad()\n",
    "    loss.backward()\n",
    "    optimizer.step()\n",
    "\n",
    "    _, preds = torch.max(outputs.data, 1)\n",
    "    correct_preds += (preds == target).sum().item()\n",
    "    total_preds += target.size(0)\n",
    "    epoch_loss += loss.item()\n",
    "\n",
    "    if (i%20 == 0):\n",
    "      print(\"# Batches Processed: \",i,\"/\",len(dataloader))\n",
    "\n",
    "  log_dict = {}\n",
    "  log_dict['loss'] = epoch_loss\n",
    "  log_dict['acc'] = (100 * correct_preds/total_preds) #Fixed acc calculation here\n",
    "  return log_dict"
   ]
  },
  {
   "cell_type": "code",
   "execution_count": 67,
   "metadata": {
    "colab": {},
    "colab_type": "code",
    "id": "_gn7dZwdRBrX"
   },
   "outputs": [],
   "source": [
    "# Function for evaluation, modified from Module 3 materials\n",
    "def eval_one_epoch(model, device, criterion, dataloader):\n",
    "  model.eval()\n",
    "  epoch_loss = 0.0\n",
    "  correct_preds, total_preds = 0.0, 0.0\n",
    "\n",
    "  for i, (images, labels) in enumerate(dataloader):\n",
    "    images = images.to(device, non_blocking=True)\n",
    "    labels = labels.to(device, non_blocking=True)\n",
    "    with torch.no_grad():\n",
    "      outputs = model(images)\n",
    "    loss = criterion(outputs, labels)\n",
    "    _, preds = torch.max(outputs.data, 1)\n",
    "    correct_preds += (preds == labels).sum().item()\n",
    "    total_preds += labels.size(0)\n",
    "    epoch_loss += loss.item()\n",
    "  \n",
    "  log_dict = {}\n",
    "  log_dict['loss'] = epoch_loss\n",
    "  log_dict['acc'] = (100 * correct_preds/total_preds) #fixed\n",
    "  return log_dict"
   ]
  },
  {
   "cell_type": "code",
   "execution_count": null,
   "metadata": {
    "colab": {
     "base_uri": "https://localhost:8080/",
     "height": 52
    },
    "colab_type": "code",
    "id": "NQ_op7K2Qqdv",
    "outputId": "e98f8696-d13b-4ea0-edbb-e0812b9f8cbe"
   },
   "outputs": [
    {
     "name": "stdout",
     "output_type": "stream",
     "text": [
      "Running epoch  0 / 20 :\n",
      "====================\n",
      "# Batches Processed:  0 / 3323\n",
      "# Batches Processed:  20 / 3323\n",
      "# Batches Processed:  40 / 3323\n",
      "# Batches Processed:  60 / 3323\n",
      "# Batches Processed:  80 / 3323\n",
      "# Batches Processed:  100 / 3323\n",
      "# Batches Processed:  120 / 3323\n",
      "# Batches Processed:  140 / 3323\n"
     ]
    }
   ],
   "source": [
    "# Main training loop ahead\n",
    "from time import time\n",
    "\n",
    "all_train_acc, all_dev_acc = [], []\n",
    "begin_time = time()\n",
    "for epoch in range(n_epochs):\n",
    "  print(\"Running epoch \",epoch,\"/\",n_epochs,\":\")\n",
    "  print(\"====================\")\n",
    "\n",
    "  log_dict = train_one_epoch(interim_model, device=device, criterion=criterion, optimizer=optimizer, dataloader=train_loader)\n",
    "  train_loss = log_dict['loss'] / len(train_loader)\n",
    "  train_acc = log_dict['acc']\n",
    "  all_train_acc.append(train_acc)\n",
    "\n",
    "  log_dict = eval_one_epoch(interim_model, device=device, criterion=criterion, dataloader=dev_loader)\n",
    "  dev_loss = log_dict['loss'] / len(dev_loader)\n",
    "  dev_acc = log_dict['acc']\n",
    "  all_dev_acc.append(dev_acc)\n",
    "\n",
    "  finish_time = time()\n",
    "  print(\"Time: \", finish_time-begin_time)\n",
    "  print(\"----Training----\")\n",
    "  print(\"Loss: \", train_loss)\n",
    "  print(\"Acc: \", train_acc)\n",
    "  print(\"----Dev----\")\n",
    "  print(\"Loss: \", dev_loss)\n",
    "  print(\"Acc: \", dev_acc)\n",
    "  print(\"====================\")"
   ]
  },
  {
   "cell_type": "code",
   "execution_count": null,
   "metadata": {
    "colab": {
     "base_uri": "https://localhost:8080/",
     "height": 121
    },
    "colab_type": "code",
    "id": "pS_ot2NSSGi5",
    "outputId": "6a2e11ca-8c56-425b-ff09-593b4c325444"
   },
   "outputs": [
    {
     "name": "stdout",
     "output_type": "stream",
     "text": [
      "Test results:\n",
      "====================\n",
      "Loss:  103.57962131500244\n",
      "Acc:  28.879310344827587\n",
      "Try harder!\n",
      "====================\n"
     ]
    }
   ],
   "source": [
    "# Model evaluation: benchmarking with test\n",
    "log_dict = eval_one_epoch(interim_model, device, criterion, dataloader=test_loader)\n",
    "test_loss = log_dict['loss']\n",
    "test_acc = log_dict['acc']\n",
    "print(\"Test results:\")\n",
    "print(\"====================\")\n",
    "print(\"Loss: \", test_loss)\n",
    "print(\"Acc: \", test_acc)\n",
    "print(\"Try harder!\")\n",
    "print(\"====================\")"
   ]
  },
  {
   "cell_type": "code",
   "execution_count": null,
   "metadata": {
    "colab": {
     "base_uri": "https://localhost:8080/",
     "height": 295
    },
    "colab_type": "code",
    "id": "IOaR2lLLTGIn",
    "outputId": "e62ad678-d89f-4645-d5f7-0c518cb00b98"
   },
   "outputs": [
    {
     "data": {
      "image/png": "[encoded data removed]",
      "text/plain": [
       "<Figure size 432x288 with 1 Axes>"
      ]
     },
     "metadata": {
      "needs_background": "light",
      "tags": []
     },
     "output_type": "display_data"
    }
   ],
   "source": [
    "# Some visualization code\n",
    "fig, ax = plt.subplots()\n",
    "plt.title(\"Interim Prototype Model: Pre-trained CNN Accuracy\")\n",
    "ax.plot(all_train_acc, label=\"Training\")\n",
    "ax.plot(all_dev_acc, label=\"Dev\")\n",
    "plt.hlines(test_acc, xmin=0, xmax=n_epochs-1, label=\"Test\", linestyles='dashed')\n",
    "\n",
    "plt.grid()\n",
    "plt.xlabel('Epochs')\n",
    "plt.ylabel('Acc')\n",
    "plt.legend(loc='upper left')\n",
    "plt.show()"
   ]
  },
  {
   "cell_type": "markdown",
   "metadata": {
    "colab_type": "text",
    "id": "zj5oT67DSfIA"
   },
   "source": [
    "The following are obtained from the first successful (i.e. no runtime error) test run of the said model:\n",
    "\n",
    "||Training|Dev|Test|\n",
    "---|---|---|---\n",
    "Acc:| 0.001 | 0.002 | 0.0018\n",
    "\n",
    "Running time: 1745s = ca. 29 minutes\n",
    "\n",
    "![Image: performance plot](https://drive.google.com/uc?id=1bRPjaNC97slYTRQZ6wNJHt5GdhO9YaMV)\n",
    "\n",
    "The performance is not satisfactory at all. We assumed that the pre-trained model is trained on RGB images of other uses/sources, therefore it does not adapt well, if at all, to this new situation. \n",
    "\n",
    "However, after fixing an issue with accuracy calculation, the performance improved greatly, except we observe overfitting:\n",
    "\n",
    "||Training|Dev|Test|\n",
    "---|---|---|---\n",
    "Acc:| 85.829 | 31.034 | 30.388\n",
    "\n",
    "Running time: 2181s = ca. 36 minutes\n",
    "\n",
    "![alt text](https://drive.google.com/uc?id=14tvApO6KbhSAcDUdzYUD7ZOvtQMQw-Qx)"
   ]
  },
  {
   "cell_type": "code",
   "execution_count": null,
   "metadata": {
    "colab": {
     "base_uri": "https://localhost:8080/",
     "height": 755
    },
    "colab_type": "code",
    "id": "_sH6t2xrd19G",
    "outputId": "6f045073-6b19-4060-c279-10b2c11d8f3d"
   },
   "outputs": [
    {
     "name": "stderr",
     "output_type": "stream",
     "text": [
      "/usr/local/lib/python3.6/dist-packages/statsmodels/tools/_testing.py:19: FutureWarning: pandas.util.testing is deprecated. Use the functions in the public API at pandas.testing instead.\n",
      "  import pandas.util.testing as tm\n"
     ]
    },
    {
     "name": "stdout",
     "output_type": "stream",
     "text": [
      "# Batches evaluated:  0 / 232\n",
      "# Batches evaluated:  20 / 232\n",
      "# Batches evaluated:  40 / 232\n",
      "# Batches evaluated:  60 / 232\n",
      "# Batches evaluated:  80 / 232\n",
      "# Batches evaluated:  100 / 232\n",
      "# Batches evaluated:  120 / 232\n",
      "# Batches evaluated:  140 / 232\n",
      "# Batches evaluated:  160 / 232\n",
      "# Batches evaluated:  180 / 232\n",
      "# Batches evaluated:  200 / 232\n",
      "# Batches evaluated:  220 / 232\n",
      "Shapes: torch.Size([7424]) ; torch.Size([7424])\n"
     ]
    },
    {
     "data": {
      "text/plain": [
       "<matplotlib.axes._subplots.AxesSubplot at 0x7fccb34994a8>"
      ]
     },
     "execution_count": 26,
     "metadata": {
      "tags": []
     },
     "output_type": "execute_result"
    },
    {
     "data": {
      "image/png": "[encoded data removed]",
      "text/plain": [
       "<Figure size 720x504 with 2 Axes>"
      ]
     },
     "metadata": {
      "needs_background": "light",
      "tags": []
     },
     "output_type": "display_data"
    }
   ],
   "source": [
    "\"\"\" Visualization: Confusion Matrix with training data \"\"\"\n",
    "import seaborn as sn\n",
    "from sklearn.metrics import confusion_matrix\n",
    "\n",
    "def get_all_preds(model, loader, device):\n",
    "  all_preds = []\n",
    "  all_labels = []\n",
    "  with torch.no_grad():\n",
    "    for i, (images, labels) in enumerate(loader):\n",
    "      images, labels = images.to(device), labels.to(device)\n",
    "      output = model(images)\n",
    "      preds = torch.argmax(output.data, 1)\n",
    "      all_preds.extend(preds) #torch.cat((all_preds, preds), dim=0)\n",
    "      all_labels.extend(labels)# = torch.cat((all_labels, labels), dim=0)\n",
    "      if (i%20 == 0):\n",
    "        print(\"# Batches evaluated: \",i,\"/\",len(loader))\n",
    "  return all_preds, all_labels\n",
    "\n",
    "train_preds, train_truth = get_all_preds(interim_model, train_loader, device)\n",
    "train_preds, train_truth = torch.FloatTensor(train_preds), torch.FloatTensor(train_truth)\n",
    "print(\"Shapes:\",train_preds.size(),\";\",train_truth.size())\n",
    "data = confusion_matrix(train_truth, train_preds)\n",
    "df_cm = pd.DataFrame(data, columns=np.unique(train_truth), index = np.unique(train_truth))\n",
    "df_cm.index.name = 'Actual'\n",
    "df_cm.columns.name = 'Predicted'\n",
    "plt.figure(figsize = (10,7))\n",
    "sn.set(font_scale=1.4)\n",
    "sn.heatmap(df_cm, cmap=\"Blues\", annot=True,annot_kws={\"size\": 16}, fmt='d')"
   ]
  },
  {
   "cell_type": "code",
   "execution_count": null,
   "metadata": {
    "colab": {
     "base_uri": "https://localhost:8080/",
     "height": 531
    },
    "colab_type": "code",
    "id": "8MqiSLGHolHe",
    "outputId": "dda0922b-7747-403e-bc46-dda2d5f46d38"
   },
   "outputs": [
    {
     "name": "stdout",
     "output_type": "stream",
     "text": [
      "# Batches evaluated:  0 / 29\n",
      "# Batches evaluated:  20 / 29\n",
      "Shapes: torch.Size([928]) ; torch.Size([928])\n"
     ]
    },
    {
     "data": {
      "text/plain": [
       "<matplotlib.axes._subplots.AxesSubplot at 0x7f42438492e8>"
      ]
     },
     "execution_count": 36,
     "metadata": {
      "tags": []
     },
     "output_type": "execute_result"
    },
    {
     "data": {
      "image/png": "[encoded data removed]",
      "text/plain": [
       "<Figure size 720x504 with 2 Axes>"
      ]
     },
     "metadata": {
      "tags": []
     },
     "output_type": "display_data"
    }
   ],
   "source": [
    "\"\"\" Visualization: Confusion Matrix with Test Set\"\"\"\n",
    "test_preds, test_truth = get_all_preds(interim_model, test_loader, device)\n",
    "test_preds, test_truth = torch.FloatTensor(test_preds), torch.FloatTensor(test_truth)\n",
    "print(\"Shapes:\",test_preds.size(),\";\",test_truth.size())\n",
    "data = confusion_matrix(test_truth, test_preds)\n",
    "df_cm = pd.DataFrame(data, columns=np.unique(test_truth), index = np.unique(test_truth))\n",
    "df_cm.index.name = 'Actual'\n",
    "df_cm.columns.name = 'Predicted'\n",
    "plt.figure(figsize = (10,7))\n",
    "sn.set(font_scale=1.4)\n",
    "sn.heatmap(df_cm, cmap=\"Blues\", annot=True,annot_kws={\"size\": 16}, fmt='d')"
   ]
  },
  {
   "cell_type": "markdown",
   "metadata": {
    "colab_type": "text",
    "id": "VjfPVGHEoiDf"
   },
   "source": [
    "### [Interim Prototype] Building and Training a Model - Take 2: Custom CNN\n",
    "\n",
    "This time, we construct our own model from scratch. The structure is as follows:\n",
    "* Conv2D with 16 filters and kernel size 3, followed by a ReLU\n",
    "* Conv2D with 16 filters and kernel size 3, followed by a ReLU, average pooling (kernel size 2) and dropout (0.2)\n",
    "* Conv2D with 16 filters and kernel size 3, followed by a ReLU, average pooling (kernel size 2) and dropout (0.2)\n",
    "* Conv2D with 16 filters and kernel size 3, followed by a ReLU, average pooling (kernel size 2) and dropout (0.2)\n",
    "* Flattening and Linear layer (65536 neurons -> 4096) with ReLU and dropout (0.2)\n",
    "* Linear (4096 -> 1024) with ReLU\n",
    "* Linear (1024 -> 32) with Sigmoid\n",
    "\n",
    "For optimizer and loss function choices, we stick to Adam and Cross Entropy respectively as before."
   ]
  },
  {
   "cell_type": "code",
   "execution_count": null,
   "metadata": {
    "colab": {
     "base_uri": "https://localhost:8080/",
     "height": 35
    },
    "colab_type": "code",
    "id": "lMMFuixZoyOO",
    "outputId": "e92826d1-db7e-40ca-e15b-30ceba45bc97"
   },
   "outputs": [
    {
     "name": "stdout",
     "output_type": "stream",
     "text": [
      "Device: cuda\n"
     ]
    }
   ],
   "source": [
    "\"\"\" Reused code \"\"\"\n",
    "# Get device\n",
    "device = torch.device('cuda' if torch.cuda.is_available() else 'cpu')\n",
    "print(\"Device:\",device)\n",
    "if not torch.cuda.is_available():\n",
    "  print(\"Suggest you use GPU\")"
   ]
  },
  {
   "cell_type": "code",
   "execution_count": null,
   "metadata": {
    "colab": {
     "base_uri": "https://localhost:8080/",
     "height": 72
    },
    "colab_type": "code",
    "id": "aoBsFd7Qs0wY",
    "outputId": "78283ef5-b333-4390-f513-11bae61321d5"
   },
   "outputs": [
    {
     "name": "stdout",
     "output_type": "stream",
     "text": [
      "Training set size (after DataLoader processing): 7453\n",
      "Dev set size (after DataLoader processing): 933\n",
      "Training set size (after DataLoader processing): 931\n"
     ]
    }
   ],
   "source": [
    "# DataLoader for training set\n",
    "train_batch_size = batch_size\n",
    "train_ds = TyDataset(train_set)\n",
    "train_loader = DataLoader(train_ds, batch_size = train_batch_size, shuffle=True, num_workers=8, drop_last=True)\n",
    "print(\"Training set size (after DataLoader processing):\", len(train_ds))\n",
    "\n",
    "# DataLoader for dev set\n",
    "dev_batch_size = batch_size\n",
    "dev_ds = TyDataset(dev_set)\n",
    "dev_loader = DataLoader(dev_ds, batch_size = dev_batch_size, shuffle=True, num_workers=8, drop_last=True)\n",
    "print(\"Dev set size (after DataLoader processing):\", len(dev_ds))\n",
    "\n",
    "# DataLoader for test set\n",
    "test_batch_size = batch_size\n",
    "test_ds = TyDataset(test_set)\n",
    "test_loader = DataLoader(test_ds, batch_size = test_batch_size, shuffle=True, num_workers=8, drop_last=True)\n",
    "print(\"Training set size (after DataLoader processing):\", len(test_ds))"
   ]
  },
  {
   "cell_type": "code",
   "execution_count": null,
   "metadata": {
    "colab": {
     "base_uri": "https://localhost:8080/",
     "height": 489
    },
    "colab_type": "code",
    "id": "ZQH9qgKHqXDV",
    "outputId": "75cc3876-9168-4b5d-aba4-5c079a3abac3"
   },
   "outputs": [
    {
     "name": "stdout",
     "output_type": "stream",
     "text": [
      "New model structure:\n",
      "interim_prototype_take2(\n",
      "  (conv): Sequential(\n",
      "    (0): Conv2d(1, 16, kernel_size=(3, 3), stride=(1, 1), padding=(1, 1), bias=False)\n",
      "    (1): ReLU(inplace=True)\n",
      "    (2): Conv2d(16, 16, kernel_size=(3, 3), stride=(1, 1), padding=(1, 1), bias=False)\n",
      "    (3): ReLU(inplace=True)\n",
      "    (4): AvgPool2d(kernel_size=2, stride=2, padding=0)\n",
      "    (5): Dropout(p=0.2, inplace=False)\n",
      "    (6): Conv2d(16, 16, kernel_size=(3, 3), stride=(1, 1), padding=(1, 1), bias=False)\n",
      "    (7): ReLU(inplace=True)\n",
      "    (8): AvgPool2d(kernel_size=2, stride=2, padding=0)\n",
      "    (9): Dropout(p=0.2, inplace=False)\n",
      "    (10): Conv2d(16, 16, kernel_size=(3, 3), stride=(1, 1), padding=(1, 1), bias=False)\n",
      "    (11): ReLU(inplace=True)\n",
      "    (12): AvgPool2d(kernel_size=2, stride=2, padding=0)\n",
      "    (13): Dropout(p=0.2, inplace=False)\n",
      "  )\n",
      "  (fc): Sequential(\n",
      "    (0): Flatten()\n",
      "    (1): Linear(in_features=65536, out_features=1024, bias=True)\n",
      "    (2): ReLU(inplace=True)\n",
      "    (3): Dropout(p=0.2, inplace=False)\n",
      "    (4): Linear(in_features=1024, out_features=12, bias=True)\n",
      "  )\n",
      ")\n"
     ]
    }
   ],
   "source": [
    "\"\"\" New Model \"\"\"\n",
    "\n",
    "class interim_prototype_take2(nn.Module):\n",
    "  def __init__(self):\n",
    "    super(interim_prototype_take2, self).__init__()\n",
    "    # CNN Model layers\n",
    "    # Input shape: Batch size B, 1 channel, 512, 512\n",
    "    \n",
    "    # conv. layers\n",
    "    # uncomment to use\n",
    "    self.conv = nn.Sequential(\n",
    "        # After 1st conv: (B, 1, 512, 512) -> (B, 16, 512, 512)\n",
    "        nn.Conv2d(1, 16, kernel_size=3, stride=1, padding=1, bias=False),\n",
    "        nn.ReLU(True),\n",
    "        # After 2nd conv: (B, 16, 512, 512) -> (B, 16, 512, 512)\n",
    "        nn.Conv2d(16, 16, kernel_size=3, stride=1, padding=1, bias=False),\n",
    "        nn.ReLU(True),\n",
    "        # After AvgPool2d: (B, 16, 512, 512) -> (B, 16, 256, 256)\n",
    "        nn.AvgPool2d(kernel_size=2),  #stride = 1?\n",
    "        nn.Dropout(0.20),\n",
    "        # After 3rd conv: (B, 16, 256, 256) -> (B, 16, 256, 256)\n",
    "        nn.Conv2d(16, 16, kernel_size=3, stride=1, padding=1, bias=False),\n",
    "        nn.ReLU(True),\n",
    "        # After AvgPool2d: (B, 16, 256, 256) -> (B, 16, 128, 128)\n",
    "        nn.AvgPool2d(kernel_size=2),\n",
    "        nn.Dropout(0.20),\n",
    "        # After 4th conv: (B, 16, 128, 128) -> (B, 16, 128, 128)\n",
    "        nn.Conv2d(16, 16, kernel_size=3, stride=1, padding=1, bias=False),\n",
    "        nn.ReLU(True),\n",
    "        # After AvgPool2d: (B, 16, 128, 128) -> (B, 16, 64, 64)\n",
    "        nn.AvgPool2d(kernel_size=2),\n",
    "        nn.Dropout(0.20),\n",
    "    )\n",
    "\n",
    "    # The following is the version of the conv. layers used to ease visualization\n",
    "    # and is essentially identical as above. However, this somehow crashes the accuracy.\n",
    "    '''self.conv1 = nn.Sequential(\n",
    "        nn.Conv2d(1, 16, kernel_size=3, stride=1, padding=1, bias=False),\n",
    "        nn.ReLU(True),\n",
    "    )\n",
    "    self.conv2 = nn.Sequential(\n",
    "        nn.Conv2d(16, 16, kernel_size=3, stride=1, padding=1, bias=False),\n",
    "        nn.ReLU(True),\n",
    "        nn.AvgPool2d(kernel_size=2),\n",
    "        nn.Dropout(0.20),\n",
    "    )\n",
    "    self.conv3 = nn.Sequential(\n",
    "        nn.Conv2d(16, 16, kernel_size=3, stride=1, padding=1, bias=False),\n",
    "        nn.ReLU(True),\n",
    "        nn.AvgPool2d(kernel_size=2),\n",
    "        nn.Dropout(0.20),\n",
    "    )\n",
    "    self.conv4 = nn.Sequential(\n",
    "        nn.Conv2d(16, 16, kernel_size=3, stride=1, padding=1, bias=False),\n",
    "        nn.ReLU(True),\n",
    "        nn.AvgPool2d(kernel_size=2),\n",
    "        nn.Dropout(0.20),\n",
    "    )'''\n",
    "\n",
    "    # FC layers\n",
    "    self.fc = nn.Sequential(\n",
    "        # After flattening: (B, 16, 64, 64) -> (B, 16*64*64) (65,536 neurons)\n",
    "        nn.Flatten(),\n",
    "        nn.Linear(16*64*64,1024),\n",
    "        nn.ReLU(True),\n",
    "        nn.Dropout(0.20),\n",
    "        nn.Linear(1024, 12), #fix output shape to (B, B)\n",
    "        #nn.Sigmoid(), #potentially problematic\n",
    "    )\n",
    "  \n",
    "  def forward(self,x):\n",
    "    x = self.conv(x)\n",
    "    '''self.x1 = self.conv1(x)       #added code to save intermediate result\n",
    "    self.x2 = self.conv2(self.x1)\n",
    "    self.x3 = self.conv3(self.x2)\n",
    "    self.x4 = self.conv4(self.x3)\n",
    "    self.x5 = self.fc(self.x4)'''\n",
    "    x = self.fc(x)\n",
    "    return x\n",
    "\n",
    "interim_model_1 = interim_prototype_take2()\n",
    "interim_model_1 = interim_model_1.to(device)\n",
    "print(\"New model structure:\")\n",
    "print(interim_model_1)"
   ]
  },
  {
   "cell_type": "code",
   "execution_count": null,
   "metadata": {
    "colab": {},
    "colab_type": "code",
    "id": "9w8L_HxAvBVm"
   },
   "outputs": [],
   "source": [
    "\"\"\" Reused \"\"\"\n",
    "# Loss function\n",
    "criterion = nn.CrossEntropyLoss()\n",
    "\n",
    "# Optimizer\n",
    "optimizer = optim.Adam(interim_model_1.parameters(), lr=learning_rate)"
   ]
  },
  {
   "cell_type": "code",
   "execution_count": null,
   "metadata": {
    "colab": {},
    "colab_type": "code",
    "id": "0CkY4atrxZRe"
   },
   "outputs": [],
   "source": [
    "\"\"\" Slightly adjusted train_one_epoch code\"\"\"\n",
    "def train_one_epoch(model, device, criterion, optimizer, dataloader):\n",
    "  model.train()\n",
    "  epoch_loss = 0.0\n",
    "  correct_preds, total_preds = 0.0, 0.0\n",
    "\n",
    "  for i, (images, labels) in enumerate(dataloader):\n",
    "    images, labels = images.to(device), labels.to(device)\n",
    "    optimizer.zero_grad()\n",
    "    outputs = model.forward(images)\n",
    "    loss = criterion(outputs, labels)\n",
    "    loss.backward()\n",
    "    optimizer.step()\n",
    "    _, preds = torch.max(outputs.data, 1)\n",
    "    correct_preds += (preds == labels).sum().item()\n",
    "    total_preds += labels.size(0)\n",
    "    epoch_loss += loss.item()\n",
    "    if (i%20 == 0):\n",
    "      print(\"# Batches Processed: \",i,\"/\",len(dataloader))\n",
    "  \n",
    "  log_dict = {}\n",
    "  log_dict['loss'] = epoch_loss\n",
    "  log_dict['acc'] = (100 * correct_preds/total_preds)\n",
    "  return log_dict\n",
    "\n",
    "  \"\"\" Do execute the cell containing eval_one_epoch again \"\"\""
   ]
  },
  {
   "cell_type": "code",
   "execution_count": null,
   "metadata": {
    "colab": {
     "base_uri": "https://localhost:8080/",
     "height": 1000
    },
    "colab_type": "code",
    "id": "rosiOk2vvU0v",
    "outputId": "0195ccb9-500e-4e0b-ccc7-c819f8cd23db"
   },
   "outputs": [
    {
     "name": "stdout",
     "output_type": "stream",
     "text": [
      "Running epoch  0 / 20 :\n",
      "====================\n",
      "# Batches Processed:  0 / 232\n",
      "# Batches Processed:  20 / 232\n",
      "# Batches Processed:  40 / 232\n",
      "# Batches Processed:  60 / 232\n",
      "# Batches Processed:  80 / 232\n",
      "# Batches Processed:  100 / 232\n",
      "# Batches Processed:  120 / 232\n",
      "# Batches Processed:  140 / 232\n",
      "# Batches Processed:  160 / 232\n",
      "# Batches Processed:  180 / 232\n",
      "# Batches Processed:  200 / 232\n",
      "# Batches Processed:  220 / 232\n",
      "Time:  52.94151592254639\n",
      "----Training----\n",
      "Loss:  2.4837571947739043\n",
      "Acc:  14.601293103448276\n",
      "----Dev----\n",
      "Loss:  2.484197057526687\n",
      "Acc:  14.224137931034482\n",
      "====================\n",
      "Running epoch  1 / 20 :\n",
      "====================\n",
      "# Batches Processed:  0 / 232\n",
      "# Batches Processed:  20 / 232\n",
      "# Batches Processed:  40 / 232\n",
      "# Batches Processed:  60 / 232\n",
      "# Batches Processed:  80 / 232\n",
      "# Batches Processed:  100 / 232\n",
      "# Batches Processed:  120 / 232\n",
      "# Batches Processed:  140 / 232\n",
      "# Batches Processed:  160 / 232\n",
      "# Batches Processed:  180 / 232\n",
      "# Batches Processed:  200 / 232\n",
      "# Batches Processed:  220 / 232\n",
      "Time:  105.83424210548401\n",
      "----Training----\n",
      "Loss:  2.4837424015176706\n",
      "Acc:  14.614762931034482\n",
      "----Dev----\n",
      "Loss:  2.4842047115852095\n",
      "Acc:  14.224137931034482\n",
      "====================\n",
      "Running epoch  2 / 20 :\n",
      "====================\n",
      "# Batches Processed:  0 / 232\n",
      "# Batches Processed:  20 / 232\n",
      "# Batches Processed:  40 / 232\n",
      "# Batches Processed:  60 / 232\n",
      "# Batches Processed:  80 / 232\n",
      "# Batches Processed:  100 / 232\n",
      "# Batches Processed:  120 / 232\n",
      "# Batches Processed:  140 / 232\n",
      "# Batches Processed:  160 / 232\n",
      "# Batches Processed:  180 / 232\n",
      "# Batches Processed:  200 / 232\n",
      "# Batches Processed:  220 / 232\n",
      "Time:  158.52167892456055\n",
      "----Training----\n",
      "Loss:  2.483741200175779\n",
      "Acc:  14.614762931034482\n",
      "----Dev----\n",
      "Loss:  2.484223620644931\n",
      "Acc:  14.224137931034482\n",
      "====================\n",
      "Running epoch  3 / 20 :\n",
      "====================\n",
      "# Batches Processed:  0 / 232\n",
      "# Batches Processed:  20 / 232\n",
      "# Batches Processed:  40 / 232\n",
      "# Batches Processed:  60 / 232\n",
      "# Batches Processed:  80 / 232\n",
      "# Batches Processed:  100 / 232\n",
      "# Batches Processed:  120 / 232\n",
      "# Batches Processed:  140 / 232\n",
      "# Batches Processed:  160 / 232\n",
      "# Batches Processed:  180 / 232\n",
      "# Batches Processed:  200 / 232\n",
      "# Batches Processed:  220 / 232\n",
      "Time:  211.0519983768463\n",
      "----Training----\n",
      "Loss:  2.4837681959415305\n",
      "Acc:  14.58782327586207\n",
      "----Dev----\n",
      "Loss:  2.4842317926472632\n",
      "Acc:  14.116379310344827\n",
      "====================\n",
      "Running epoch  4 / 20 :\n",
      "====================\n",
      "# Batches Processed:  0 / 232\n",
      "# Batches Processed:  20 / 232\n",
      "# Batches Processed:  40 / 232\n",
      "# Batches Processed:  60 / 232\n",
      "# Batches Processed:  80 / 232\n",
      "# Batches Processed:  100 / 232\n",
      "# Batches Processed:  120 / 232\n",
      "# Batches Processed:  140 / 232\n",
      "# Batches Processed:  160 / 232\n",
      "# Batches Processed:  180 / 232\n",
      "# Batches Processed:  200 / 232\n",
      "# Batches Processed:  220 / 232\n",
      "Time:  263.96928238868713\n",
      "----Training----\n",
      "Loss:  2.4837558742227226\n",
      "Acc:  14.601293103448276\n",
      "----Dev----\n",
      "Loss:  2.484189247262889\n",
      "Acc:  14.331896551724139\n",
      "====================\n",
      "Running epoch  5 / 20 :\n",
      "====================\n",
      "# Batches Processed:  0 / 232\n",
      "# Batches Processed:  20 / 232\n",
      "# Batches Processed:  40 / 232\n",
      "# Batches Processed:  60 / 232\n",
      "# Batches Processed:  80 / 232\n",
      "# Batches Processed:  100 / 232\n",
      "# Batches Processed:  120 / 232\n",
      "# Batches Processed:  140 / 232\n",
      "# Batches Processed:  160 / 232\n",
      "# Batches Processed:  180 / 232\n",
      "# Batches Processed:  200 / 232\n",
      "# Batches Processed:  220 / 232\n",
      "Time:  316.80087780952454\n",
      "----Training----\n",
      "Loss:  2.483735343505596\n",
      "Acc:  14.58782327586207\n",
      "----Dev----\n",
      "Loss:  2.48421678049811\n",
      "Acc:  14.116379310344827\n",
      "====================\n",
      "Running epoch  6 / 20 :\n",
      "====================\n",
      "# Batches Processed:  0 / 232\n",
      "# Batches Processed:  20 / 232\n",
      "# Batches Processed:  40 / 232\n",
      "# Batches Processed:  60 / 232\n",
      "# Batches Processed:  80 / 232\n",
      "# Batches Processed:  100 / 232\n",
      "# Batches Processed:  120 / 232\n",
      "# Batches Processed:  140 / 232\n",
      "# Batches Processed:  160 / 232\n",
      "# Batches Processed:  180 / 232\n",
      "# Batches Processed:  200 / 232\n",
      "# Batches Processed:  220 / 232\n",
      "Time:  369.42394638061523\n",
      "----Training----\n",
      "Loss:  2.483734428882599\n",
      "Acc:  14.601293103448276\n",
      "----Dev----\n",
      "Loss:  2.4842273531288934\n",
      "Acc:  14.116379310344827\n",
      "====================\n",
      "Running epoch  7 / 20 :\n",
      "====================\n",
      "# Batches Processed:  0 / 232\n",
      "# Batches Processed:  20 / 232\n",
      "# Batches Processed:  40 / 232\n",
      "# Batches Processed:  60 / 232\n",
      "# Batches Processed:  80 / 232\n",
      "# Batches Processed:  100 / 232\n",
      "# Batches Processed:  120 / 232\n",
      "# Batches Processed:  140 / 232\n",
      "# Batches Processed:  160 / 232\n",
      "# Batches Processed:  180 / 232\n",
      "# Batches Processed:  200 / 232\n",
      "# Batches Processed:  220 / 232\n",
      "Time:  422.05641746520996\n",
      "----Training----\n",
      "Loss:  2.4837556995194534\n",
      "Acc:  14.58782327586207\n",
      "----Dev----\n",
      "Loss:  2.484238188842247\n",
      "Acc:  14.116379310344827\n",
      "====================\n",
      "Running epoch  8 / 20 :\n",
      "====================\n",
      "# Batches Processed:  0 / 232\n",
      "# Batches Processed:  20 / 232\n",
      "# Batches Processed:  40 / 232\n",
      "# Batches Processed:  60 / 232\n",
      "# Batches Processed:  80 / 232\n",
      "# Batches Processed:  100 / 232\n",
      "# Batches Processed:  120 / 232\n",
      "# Batches Processed:  140 / 232\n",
      "# Batches Processed:  160 / 232\n",
      "# Batches Processed:  180 / 232\n",
      "# Batches Processed:  200 / 232\n",
      "# Batches Processed:  220 / 232\n",
      "Time:  474.5801115036011\n",
      "----Training----\n",
      "Loss:  2.4837558844993852\n",
      "Acc:  14.560883620689655\n",
      "----Dev----\n",
      "Loss:  2.484203914116169\n",
      "Acc:  14.331896551724139\n",
      "====================\n",
      "Running epoch  9 / 20 :\n",
      "====================\n",
      "# Batches Processed:  0 / 232\n",
      "# Batches Processed:  20 / 232\n",
      "# Batches Processed:  40 / 232\n",
      "# Batches Processed:  60 / 232\n",
      "# Batches Processed:  80 / 232\n",
      "# Batches Processed:  100 / 232\n",
      "# Batches Processed:  120 / 232\n",
      "# Batches Processed:  140 / 232\n",
      "# Batches Processed:  160 / 232\n",
      "# Batches Processed:  180 / 232\n",
      "# Batches Processed:  200 / 232\n",
      "# Batches Processed:  220 / 232\n",
      "Time:  527.5703537464142\n",
      "----Training----\n",
      "Loss:  2.483752592884261\n",
      "Acc:  14.58782327586207\n",
      "----Dev----\n",
      "Loss:  2.4841364745436043\n",
      "Acc:  14.331896551724139\n",
      "====================\n",
      "Running epoch  10 / 20 :\n",
      "====================\n",
      "# Batches Processed:  0 / 232\n",
      "# Batches Processed:  20 / 232\n",
      "# Batches Processed:  40 / 232\n",
      "# Batches Processed:  60 / 232\n",
      "# Batches Processed:  80 / 232\n",
      "# Batches Processed:  100 / 232\n",
      "# Batches Processed:  120 / 232\n",
      "# Batches Processed:  140 / 232\n",
      "# Batches Processed:  160 / 232\n",
      "# Batches Processed:  180 / 232\n",
      "# Batches Processed:  200 / 232\n",
      "# Batches Processed:  220 / 232\n",
      "Time:  580.0362377166748\n",
      "----Training----\n",
      "Loss:  2.483710179041172\n",
      "Acc:  14.614762931034482\n",
      "----Dev----\n",
      "Loss:  2.4841396397557753\n",
      "Acc:  14.331896551724139\n",
      "====================\n",
      "Running epoch  11 / 20 :\n",
      "====================\n",
      "# Batches Processed:  0 / 232\n",
      "# Batches Processed:  20 / 232\n",
      "# Batches Processed:  40 / 232\n",
      "# Batches Processed:  60 / 232\n",
      "# Batches Processed:  80 / 232\n",
      "# Batches Processed:  100 / 232\n",
      "# Batches Processed:  120 / 232\n",
      "# Batches Processed:  140 / 232\n",
      "# Batches Processed:  160 / 232\n",
      "# Batches Processed:  180 / 232\n",
      "# Batches Processed:  200 / 232\n",
      "# Batches Processed:  220 / 232\n",
      "Time:  632.5936391353607\n",
      "----Training----\n",
      "Loss:  2.4837239888207665\n",
      "Acc:  14.614762931034482\n",
      "----Dev----\n",
      "Loss:  2.48415207862854\n",
      "Acc:  14.331896551724139\n",
      "====================\n",
      "Running epoch  12 / 20 :\n",
      "====================\n",
      "# Batches Processed:  0 / 232\n",
      "# Batches Processed:  20 / 232\n",
      "# Batches Processed:  40 / 232\n",
      "# Batches Processed:  60 / 232\n",
      "# Batches Processed:  80 / 232\n",
      "# Batches Processed:  100 / 232\n",
      "# Batches Processed:  120 / 232\n",
      "# Batches Processed:  140 / 232\n",
      "# Batches Processed:  160 / 232\n",
      "# Batches Processed:  180 / 232\n",
      "# Batches Processed:  200 / 232\n",
      "# Batches Processed:  220 / 232\n",
      "Time:  685.1031773090363\n",
      "----Training----\n",
      "Loss:  2.4837685402097374\n",
      "Acc:  14.601293103448276\n",
      "----Dev----\n",
      "Loss:  2.4841416868670234\n",
      "Acc:  14.224137931034482\n",
      "====================\n",
      "Running epoch  13 / 20 :\n",
      "====================\n",
      "# Batches Processed:  0 / 232\n",
      "# Batches Processed:  20 / 232\n",
      "# Batches Processed:  40 / 232\n",
      "# Batches Processed:  60 / 232\n",
      "# Batches Processed:  80 / 232\n",
      "# Batches Processed:  100 / 232\n",
      "# Batches Processed:  120 / 232\n",
      "# Batches Processed:  140 / 232\n",
      "# Batches Processed:  160 / 232\n",
      "# Batches Processed:  180 / 232\n",
      "# Batches Processed:  200 / 232\n",
      "# Batches Processed:  220 / 232\n",
      "Time:  737.68896317482\n",
      "----Training----\n",
      "Loss:  2.483772035302787\n",
      "Acc:  14.560883620689655\n",
      "----Dev----\n",
      "Loss:  2.484207473952195\n",
      "Acc:  14.224137931034482\n",
      "====================\n",
      "Running epoch  14 / 20 :\n",
      "====================\n",
      "# Batches Processed:  0 / 232\n",
      "# Batches Processed:  20 / 232\n",
      "# Batches Processed:  40 / 232\n",
      "# Batches Processed:  60 / 232\n",
      "# Batches Processed:  80 / 232\n",
      "# Batches Processed:  100 / 232\n",
      "# Batches Processed:  120 / 232\n",
      "# Batches Processed:  140 / 232\n",
      "# Batches Processed:  160 / 232\n",
      "# Batches Processed:  180 / 232\n",
      "# Batches Processed:  200 / 232\n",
      "# Batches Processed:  220 / 232\n",
      "Time:  790.1160895824432\n",
      "----Training----\n",
      "Loss:  2.483731717898928\n",
      "Acc:  14.574353448275861\n",
      "----Dev----\n",
      "Loss:  2.48427519304999\n",
      "Acc:  14.008620689655173\n",
      "====================\n",
      "Running epoch  15 / 20 :\n",
      "====================\n",
      "# Batches Processed:  0 / 232\n",
      "# Batches Processed:  20 / 232\n",
      "# Batches Processed:  40 / 232\n",
      "# Batches Processed:  60 / 232\n",
      "# Batches Processed:  80 / 232\n",
      "# Batches Processed:  100 / 232\n",
      "# Batches Processed:  120 / 232\n",
      "# Batches Processed:  140 / 232\n",
      "# Batches Processed:  160 / 232\n",
      "# Batches Processed:  180 / 232\n",
      "# Batches Processed:  200 / 232\n",
      "# Batches Processed:  220 / 232\n",
      "Time:  842.8325691223145\n",
      "----Training----\n",
      "Loss:  2.483744878193428\n",
      "Acc:  14.574353448275861\n",
      "----Dev----\n",
      "Loss:  2.4841864848959037\n",
      "Acc:  14.224137931034482\n",
      "====================\n",
      "Running epoch  16 / 20 :\n",
      "====================\n",
      "# Batches Processed:  0 / 232\n",
      "# Batches Processed:  20 / 232\n",
      "# Batches Processed:  40 / 232\n",
      "# Batches Processed:  60 / 232\n",
      "# Batches Processed:  80 / 232\n",
      "# Batches Processed:  100 / 232\n",
      "# Batches Processed:  120 / 232\n",
      "# Batches Processed:  140 / 232\n",
      "# Batches Processed:  160 / 232\n",
      "# Batches Processed:  180 / 232\n",
      "# Batches Processed:  200 / 232\n",
      "# Batches Processed:  220 / 232\n",
      "Time:  895.7596850395203\n",
      "----Training----\n",
      "Loss:  2.4837485541557442\n",
      "Acc:  14.601293103448276\n",
      "----Dev----\n",
      "Loss:  2.484214519632274\n",
      "Acc:  14.224137931034482\n",
      "====================\n",
      "Running epoch  17 / 20 :\n",
      "====================\n",
      "# Batches Processed:  0 / 232\n",
      "# Batches Processed:  20 / 232\n",
      "# Batches Processed:  40 / 232\n",
      "# Batches Processed:  60 / 232\n",
      "# Batches Processed:  80 / 232\n",
      "# Batches Processed:  100 / 232\n",
      "# Batches Processed:  120 / 232\n",
      "# Batches Processed:  140 / 232\n",
      "# Batches Processed:  160 / 232\n",
      "# Batches Processed:  180 / 232\n",
      "# Batches Processed:  200 / 232\n",
      "# Batches Processed:  220 / 232\n",
      "Time:  948.2063801288605\n",
      "----Training----\n",
      "Loss:  2.4837370031866532\n",
      "Acc:  14.641702586206897\n",
      "----Dev----\n",
      "Loss:  2.484275324591275\n",
      "Acc:  14.008620689655173\n",
      "====================\n",
      "Running epoch  18 / 20 :\n",
      "====================\n",
      "# Batches Processed:  0 / 232\n",
      "# Batches Processed:  20 / 232\n",
      "# Batches Processed:  40 / 232\n",
      "# Batches Processed:  60 / 232\n",
      "# Batches Processed:  80 / 232\n",
      "# Batches Processed:  100 / 232\n",
      "# Batches Processed:  120 / 232\n",
      "# Batches Processed:  140 / 232\n",
      "# Batches Processed:  160 / 232\n",
      "# Batches Processed:  180 / 232\n",
      "# Batches Processed:  200 / 232\n",
      "# Batches Processed:  220 / 232\n",
      "Time:  1000.6736829280853\n",
      "----Training----\n",
      "Loss:  2.4837323324433687\n",
      "Acc:  14.614762931034482\n",
      "----Dev----\n",
      "Loss:  2.4841505165757805\n",
      "Acc:  14.331896551724139\n",
      "====================\n",
      "Running epoch  19 / 20 :\n",
      "====================\n",
      "# Batches Processed:  0 / 232\n",
      "# Batches Processed:  20 / 232\n",
      "# Batches Processed:  40 / 232\n",
      "# Batches Processed:  60 / 232\n",
      "# Batches Processed:  80 / 232\n",
      "# Batches Processed:  100 / 232\n",
      "# Batches Processed:  120 / 232\n",
      "# Batches Processed:  140 / 232\n",
      "# Batches Processed:  160 / 232\n",
      "# Batches Processed:  180 / 232\n",
      "# Batches Processed:  200 / 232\n",
      "# Batches Processed:  220 / 232\n",
      "Time:  1053.4125015735626\n",
      "----Training----\n",
      "Loss:  2.4837453252282637\n",
      "Acc:  14.62823275862069\n",
      "----Dev----\n",
      "Loss:  2.484204966446449\n",
      "Acc:  14.116379310344827\n",
      "====================\n"
     ]
    }
   ],
   "source": [
    "\"\"\" Reused: Training loop \"\"\"\n",
    "from time import time\n",
    "\n",
    "all_train_acc, all_dev_acc = [], []\n",
    "begin_time = time()\n",
    "for epoch in range(n_epochs):\n",
    "  print(\"Running epoch \",epoch,\"/\",n_epochs,\":\")\n",
    "  print(\"====================\")\n",
    "\n",
    "  log_dict = train_one_epoch(interim_model_1, device=device, criterion=criterion, optimizer=optimizer, dataloader=train_loader)\n",
    "  train_loss = log_dict['loss'] / len(train_loader)\n",
    "  train_acc = log_dict['acc']\n",
    "  all_train_acc.append(train_acc)\n",
    "\n",
    "  log_dict = eval_one_epoch(interim_model_1, device=device, criterion=criterion, dataloader=dev_loader)\n",
    "  dev_loss = log_dict['loss'] / len(dev_loader)\n",
    "  dev_acc = log_dict['acc']\n",
    "  all_dev_acc.append(dev_acc)\n",
    "\n",
    "  finish_time = time()\n",
    "  print(\"Time: \", finish_time-begin_time)\n",
    "  print(\"----Training----\")\n",
    "  print(\"Loss: \", train_loss)\n",
    "  print(\"Acc: \", train_acc)\n",
    "  print(\"----Dev----\")\n",
    "  print(\"Loss: \", dev_loss)\n",
    "  print(\"Acc: \", dev_acc)\n",
    "  print(\"====================\")"
   ]
  },
  {
   "cell_type": "code",
   "execution_count": null,
   "metadata": {
    "colab": {},
    "colab_type": "code",
    "id": "3j0GkvXjvfP-"
   },
   "outputs": [],
   "source": [
    "\"\"\" Reused: Evaluation \"\"\"\n",
    "log_dict = eval_one_epoch(interim_model_1, device, criterion, dataloader=test_loader)\n",
    "test_loss = log_dict['loss']\n",
    "test_acc = log_dict['acc']\n",
    "print(\"Test results:\")\n",
    "print(\"====================\")\n",
    "print(\"Loss: \", test_loss)\n",
    "print(\"Acc: \", test_acc)\n",
    "print(\"Is this better than before?\")\n",
    "print(\"====================\")"
   ]
  },
  {
   "cell_type": "markdown",
   "metadata": {
    "colab_type": "text",
    "id": "1a70KVbyvzPZ"
   },
   "source": [
    "The following are obtained from a run on 18th April, without the sigmoid:\n",
    "\n",
    "||Training|Dev|Test|\n",
    "---|---|---|---\n",
    "Acc:| 99.232 | 29.418 | 26.616\n",
    "\n",
    "Running time: 1630s ~= 27 minutes. Below are code to visualize the model's performance. Some plots on 18 April, during the development of an interim prototype are as follows:\n",
    "\n",
    "Accuracy against epoch:\n",
    "\n",
    "![alt text](https://drive.google.com/uc?id=1xzzGNCI5p3CSlL8zr4sj5SCfjF86OqRE)\n",
    "\n",
    "Confusion matrix with training set:\n",
    "\n",
    "![alt text](https://drive.google.com/uc?id=1-_N4JtQRbe4Arwi2jqgs61iAxms1enKA)\n",
    "\n",
    "Confusion matrix with testing set:\n",
    "\n",
    "![alt text](https://drive.google.com/uc?id=1tAYiB30VnzweryEvAHDbfMSmKnFZPH-E)"
   ]
  },
  {
   "cell_type": "code",
   "execution_count": null,
   "metadata": {
    "colab": {
     "base_uri": "https://localhost:8080/",
     "height": 315
    },
    "colab_type": "code",
    "id": "riu4PdqTvkWg",
    "outputId": "eefbd862-7f46-48fd-f759-9c107e1daa06"
   },
   "outputs": [
    {
     "data": {
      "image/png": "[encoded data removed]",
      "text/plain": [
       "<Figure size 432x288 with 1 Axes>"
      ]
     },
     "metadata": {
      "needs_background": "light",
      "tags": []
     },
     "output_type": "display_data"
    }
   ],
   "source": [
    "\"\"\" Visualization: Accuracy over epoch graph \"\"\"\n",
    "import matplotlib.pyplot as plt\n",
    "%matplotlib inline\n",
    "\n",
    "fig, ax = plt.subplots()\n",
    "plt.title(\"Interim Prototype Model: Custom CNN Accuracy\")\n",
    "ax.plot(all_train_acc, label=\"Training\")\n",
    "ax.plot(all_dev_acc, label=\"Dev\")\n",
    "plt.hlines(test_acc, xmin=0, xmax=n_epochs-1, label=\"Test\", linestyles='dashed')\n",
    "\n",
    "plt.grid()\n",
    "plt.xlabel('Epochs')\n",
    "plt.ylabel('Acc')\n",
    "plt.legend(loc='upper left')\n",
    "plt.show()"
   ]
  },
  {
   "cell_type": "code",
   "execution_count": null,
   "metadata": {
    "colab": {
     "base_uri": "https://localhost:8080/",
     "height": 749
    },
    "colab_type": "code",
    "id": "Szb0En_Iy-YJ",
    "outputId": "996ad35f-fc13-4314-80eb-6408b3df0e7c"
   },
   "outputs": [
    {
     "name": "stderr",
     "output_type": "stream",
     "text": [
      "/usr/local/lib/python3.6/dist-packages/statsmodels/tools/_testing.py:19: FutureWarning: pandas.util.testing is deprecated. Use the functions in the public API at pandas.testing instead.\n",
      "  import pandas.util.testing as tm\n"
     ]
    },
    {
     "name": "stdout",
     "output_type": "stream",
     "text": [
      "# Batches evaluated:  0 / 232\n",
      "# Batches evaluated:  20 / 232\n",
      "# Batches evaluated:  40 / 232\n",
      "# Batches evaluated:  60 / 232\n",
      "# Batches evaluated:  80 / 232\n",
      "# Batches evaluated:  100 / 232\n",
      "# Batches evaluated:  120 / 232\n",
      "# Batches evaluated:  140 / 232\n",
      "# Batches evaluated:  160 / 232\n",
      "# Batches evaluated:  180 / 232\n",
      "# Batches evaluated:  200 / 232\n",
      "# Batches evaluated:  220 / 232\n",
      "Shapes: torch.Size([7424]) ; torch.Size([7424])\n"
     ]
    },
    {
     "data": {
      "text/plain": [
       "<matplotlib.axes._subplots.AxesSubplot at 0x7ff3336dfe48>"
      ]
     },
     "execution_count": 23,
     "metadata": {
      "tags": []
     },
     "output_type": "execute_result"
    },
    {
     "data": {
      "image/png": "[encoded data removed]",
      "text/plain": [
       "<Figure size 720x504 with 2 Axes>"
      ]
     },
     "metadata": {
      "needs_background": "light",
      "tags": []
     },
     "output_type": "display_data"
    }
   ],
   "source": [
    "\"\"\" Visualization: Confusion Matrix with training data \"\"\"\n",
    "# Adapted from https://www.kaggle.com/agungor2/various-confusion-matrix-plots\n",
    "import seaborn as sn\n",
    "from sklearn.metrics import confusion_matrix\n",
    "\n",
    "def get_all_preds(model, loader, device):\n",
    "  all_preds = []\n",
    "  all_labels = []\n",
    "  model.eval()\n",
    "  with torch.no_grad():\n",
    "    for i, (images, labels) in enumerate(loader):\n",
    "      images, labels = images.to(device), labels.to(device)\n",
    "      output = model(images)\n",
    "      preds = torch.argmax(output.data, 1)\n",
    "      all_preds.extend(preds) #torch.cat((all_preds, preds), dim=0)\n",
    "      all_labels.extend(labels)# = torch.cat((all_labels, labels), dim=0)\n",
    "      if (i%20 == 0):\n",
    "        print(\"# Batches evaluated: \",i,\"/\",len(loader))\n",
    "  return all_preds, all_labels\n",
    "\n",
    "train_preds, train_truth = get_all_preds(interim_model_1, train_loader, device)\n",
    "train_preds, train_truth = torch.FloatTensor(train_preds), torch.FloatTensor(train_truth)\n",
    "print(\"Shapes:\",train_preds.size(),\";\",train_truth.size())\n",
    "data = confusion_matrix(train_truth, train_preds)\n",
    "df_cm = pd.DataFrame(data, columns=np.unique(train_truth), index = np.unique(train_truth))\n",
    "df_cm.index.name = 'Actual'\n",
    "df_cm.columns.name = 'Predicted'\n",
    "plt.figure(figsize = (10,7))\n",
    "sn.set(font_scale=1.4)\n",
    "sn.heatmap(df_cm, cmap=\"Blues\", annot=True,annot_kws={\"size\": 16}, fmt='d')"
   ]
  },
  {
   "cell_type": "code",
   "execution_count": null,
   "metadata": {
    "colab": {
     "base_uri": "https://localhost:8080/",
     "height": 531
    },
    "colab_type": "code",
    "id": "W-6SNhu4uGVj",
    "outputId": "6d020464-8147-4b5f-a6de-d0151be0c9f3"
   },
   "outputs": [
    {
     "name": "stdout",
     "output_type": "stream",
     "text": [
      "# Batches evaluated:  0 / 29\n",
      "# Batches evaluated:  20 / 29\n",
      "Shapes: torch.Size([928]) ; torch.Size([928])\n"
     ]
    },
    {
     "data": {
      "text/plain": [
       "<matplotlib.axes._subplots.AxesSubplot at 0x7ff33ad7d2b0>"
      ]
     },
     "execution_count": 24,
     "metadata": {
      "tags": []
     },
     "output_type": "execute_result"
    },
    {
     "data": {
      "image/png": "[encoded data removed]",
      "text/plain": [
       "<Figure size 720x504 with 2 Axes>"
      ]
     },
     "metadata": {
      "tags": []
     },
     "output_type": "display_data"
    }
   ],
   "source": [
    "\"\"\" Visualization: Confusion Matrix with Test Set\"\"\"\n",
    "test_preds, test_truth = get_all_preds(interim_model_1, test_loader, device)\n",
    "test_preds, test_truth = torch.FloatTensor(test_preds), torch.FloatTensor(test_truth)\n",
    "print(\"Shapes:\",test_preds.size(),\";\",test_truth.size())\n",
    "data = confusion_matrix(test_truth, test_preds)\n",
    "df_cm = pd.DataFrame(data, columns=np.unique(test_truth), index = np.unique(test_truth))\n",
    "df_cm.index.name = 'Actual'\n",
    "df_cm.columns.name = 'Predicted'\n",
    "plt.figure(figsize = (10,7))\n",
    "sn.set(font_scale=1.4)\n",
    "sn.heatmap(df_cm, cmap=\"Blues\", annot=True,annot_kws={\"size\": 16}, fmt='d')"
   ]
  },
  {
   "cell_type": "markdown",
   "metadata": {
    "colab_type": "text",
    "id": "RjLp0SZy1faS"
   },
   "source": [
    "### [Interim Prototype] Conclusions about the two models\n",
    "\n",
    "Both models have shown overfitting to the training data and yielded similar results when they were evaluated with the test set. We hypothesize that they have overfitted and failed to extract the key features from the images, leading to ridiculous results.\n",
    "\n",
    "There are many ways that we can improve the outcome. In the upcoming week (since 20 April), we would soon be granted access to Prof. Kitamoto's dataset, which may provide useful insights; in addition thereto, visualizing the convolution network weights, introducing cross validation and modifying model architecture (esp. its depth, dropout rate and choice of activation functions) are also viable ways to improve."
   ]
  },
  {
   "cell_type": "markdown",
   "metadata": {
    "colab_type": "text",
    "id": "ZF5YwvEaZQv4"
   },
   "source": [
    "### Demo of current model\n",
    "\n",
    "Lets give a typhoon picture to our current model to see how the models perform!\n"
   ]
  },
  {
   "cell_type": "code",
   "execution_count": null,
   "metadata": {
    "colab": {
     "base_uri": "https://localhost:8080/",
     "height": 348
    },
    "colab_type": "code",
    "id": "QiBGlJzsZn8_",
    "outputId": "ad178192-05a8-412f-df9d-920fcc684f94"
   },
   "outputs": [
    {
     "name": "stdout",
     "output_type": "stream",
     "text": [
      "Populating the interactive namespace from numpy and matplotlib\n"
     ]
    },
    {
     "name": "stderr",
     "output_type": "stream",
     "text": [
      "/usr/local/lib/python3.6/dist-packages/IPython/core/magics/pylab.py:161: UserWarning: pylab import has clobbered these variables: ['shuffle', 'time']\n",
      "`%matplotlib` prevents importing * from pylab and numpy\n",
      "  \"\\n`%matplotlib` prevents importing * from pylab and numpy\"\n"
     ]
    },
    {
     "data": {
      "image/png": "[encoded data removed]",
      "text/plain": [
       "<Figure size 432x288 with 1 Axes>"
      ]
     },
     "metadata": {
      "needs_background": "light",
      "tags": []
     },
     "output_type": "display_data"
    }
   ],
   "source": [
    "from PIL import Image\n",
    "import requests\n",
    "from io import BytesIO\n",
    "%pylab inline\n",
    "import matplotlib.pyplot as plt\n",
    "import matplotlib.image as mpimg\n",
    "\n",
    "\n",
    "response = requests.get('http://agora.ex.nii.ac.jp/digital-typhoon/wsp/by-name/201822/bd/512x512/HMW818032312.201822.jpg')\n",
    "img = Image.open(BytesIO(response.content))\n",
    "imgplot = plt.imshow(img, cmap='gray')\n",
    "plt.show()"
   ]
  },
  {
   "cell_type": "code",
   "execution_count": null,
   "metadata": {
    "colab": {
     "base_uri": "https://localhost:8080/",
     "height": 34
    },
    "colab_type": "code",
    "id": "1xJJIouvmb94",
    "outputId": "84d8af80-c387-4855-c366-47e208a98600"
   },
   "outputs": [
    {
     "name": "stdout",
     "output_type": "stream",
     "text": [
      "tensor([11], device='cuda:0')\n"
     ]
    }
   ],
   "source": [
    "transform = transforms.Compose([\n",
    "    transforms.ToTensor()\n",
    "    ]\n",
    ")\n",
    "t = transform(img).unsqueeze(0).cuda()\n",
    "with torch.no_grad():\n",
    "  outputs = interim_model_1(t)\n",
    "  _, predicted = torch.max(outputs.data, 1)\n",
    "  print(predicted)\n",
    "  "
   ]
  },
  {
   "cell_type": "code",
   "execution_count": null,
   "metadata": {
    "colab": {
     "base_uri": "https://localhost:8080/",
     "height": 34
    },
    "colab_type": "code",
    "id": "9l6oHfCZtXG5",
    "outputId": "e42be220-0ee8-47ab-af5d-73d92791d743"
   },
   "outputs": [
    {
     "name": "stdout",
     "output_type": "stream",
     "text": [
      "tensor([1], device='cuda:0')\n"
     ]
    }
   ],
   "source": [
    "transform = transforms.Compose([\n",
    "      transforms.Resize(256),\n",
    "      transforms.CenterCrop(224),  \n",
    "      transforms.ToTensor(),\n",
    "      transforms.Normalize(mean=[0.485, 0.456, 0.406], std=[0.229, 0.224, 0.225])\n",
    "  ])\n",
    "\n",
    "t = transform(img.convert('RGB')).unsqueeze(0).cuda()\n",
    "\n",
    "with torch.no_grad():\n",
    "  outputs = interim_model(t)\n",
    "  _, predicted = torch.max(outputs.data, 1)\n",
    "  print(predicted)"
   ]
  },
  {
   "cell_type": "markdown",
   "metadata": {
    "colab_type": "text",
    "id": "6W-lDdYMPYfc"
   },
   "source": [
    "## Error Analysis\n",
    "\n",
    "After obtaining the results above, we decided to start tackling with the issue that there is an outrageously wide gap between train and dev/test accuracies. The first thing we tried was to visualize CNN convolution results."
   ]
  },
  {
   "cell_type": "markdown",
   "metadata": {
    "colab_type": "text",
    "id": "90Fp0Yqhrspm"
   },
   "source": [
    "### Feature map visualization\n",
    "\n",
    "To implement the code that makes visualization work, the model itself has to be edited a bit, such that `torch.nn.Sequential` is not used to wrap the  convolution layers in one and intermediate layers are accessible."
   ]
  },
  {
   "cell_type": "code",
   "execution_count": null,
   "metadata": {
    "colab": {
     "base_uri": "https://localhost:8080/",
     "height": 613
    },
    "colab_type": "code",
    "id": "jxKs0FF5PcHr",
    "outputId": "7f2b666c-7d32-4bd4-df22-d0828a30d4e9"
   },
   "outputs": [
    {
     "name": "stdout",
     "output_type": "stream",
     "text": [
      "16\n"
     ]
    },
    {
     "data": {
      "image/png": "[encoded data removed]",
      "text/plain": [
       "<Figure size 720x720 with 16 Axes>"
      ]
     },
     "metadata": {
      "needs_background": "light",
      "tags": []
     },
     "output_type": "display_data"
    }
   ],
   "source": [
    "\"\"\" \n",
    "Visualizing conv feature maps with PyTorch\n",
    "Code modified from https://discuss.pytorch.org/t/visualize-feature-map/29597/2\n",
    "See also: https://github.com/utkuozbulak/pytorch-cnn-visualizations/blob/master/src/cnn_layer_visualization.py\n",
    "\"\"\"\n",
    "\n",
    "# Visualize activations\n",
    "activation = {}\n",
    "def get_activation(name):\n",
    "  def hook(model, input, output):\n",
    "    activation[name] = output.detach()\n",
    "  return hook\n",
    "\n",
    "# access intermediate layers: remove last 4 layers of conv part\n",
    "#module = nn.Sequential(*list(test_model.conv.children())[:-4])\n",
    "\n",
    "test_model.conv.register_forward_hook(get_activation('conv'))\n",
    "data, _ = next(iter(test_loader)) #obtain random image from dataloader\n",
    "data = data[0]\n",
    "data.unsqueeze_(0)\n",
    "model_cpu = test_model.cpu()\n",
    "output = model_cpu(data)  # it handles a batch each time...\n",
    "\n",
    "act = activation['conv'].squeeze() \n",
    "print(act.size(0))\n",
    "fig, axarr = plt.subplots(4,4, figsize=(10,10))\n",
    "for i in range(4):\n",
    "  for j in range(4):\n",
    "    axarr[i][j].imshow(act[i*4+j])"
   ]
  },
  {
   "cell_type": "markdown",
   "metadata": {
    "colab_type": "text",
    "id": "ZXVUNWlhTj6m"
   },
   "source": [
    "### Training-Dev set\n",
    "\n",
    "The second thing we tried was to add a training-dev set and observe the model's behaviour. A bit of L2 regulatization is also introduced at this point."
   ]
  },
  {
   "cell_type": "code",
   "execution_count": null,
   "metadata": {
    "colab": {
     "base_uri": "https://localhost:8080/",
     "height": 744
    },
    "colab_type": "code",
    "id": "HsyPDO0AjsNd",
    "outputId": "6763b029-0c7e-4598-e255-5534b8cd1a9c"
   },
   "outputs": [
    {
     "name": "stdout",
     "output_type": "stream",
     "text": [
      "train set:\n",
      "<class 'pandas.core.frame.DataFrame'>\n",
      "Int64Index: 6521 entries, 5876 to 6441\n",
      "Data columns (total 2 columns):\n",
      " #   Column  Non-Null Count  Dtype   \n",
      "---  ------  --------------  -----   \n",
      " 0   img     6521 non-null   object  \n",
      " 1   labels  6521 non-null   category\n",
      "dtypes: category(1), object(1)\n",
      "memory usage: 108.7+ KB\n",
      "train-dev set:\n",
      "<class 'pandas.core.frame.DataFrame'>\n",
      "Int64Index: 932 entries, 8968 to 6014\n",
      "Data columns (total 2 columns):\n",
      " #   Column  Non-Null Count  Dtype   \n",
      "---  ------  --------------  -----   \n",
      " 0   img     932 non-null    object  \n",
      " 1   labels  932 non-null    category\n",
      "dtypes: category(1), object(1)\n",
      "memory usage: 15.9+ KB\n",
      "dev set:\n",
      "<class 'pandas.core.frame.DataFrame'>\n",
      "Int64Index: 933 entries, 1953 to 917\n",
      "Data columns (total 2 columns):\n",
      " #   Column  Non-Null Count  Dtype   \n",
      "---  ------  --------------  -----   \n",
      " 0   img     933 non-null    object  \n",
      " 1   labels  933 non-null    category\n",
      "dtypes: category(1), object(1)\n",
      "memory usage: 15.9+ KB\n",
      "test set:\n",
      "<class 'pandas.core.frame.DataFrame'>\n",
      "Int64Index: 931 entries, 132 to 2150\n",
      "Data columns (total 2 columns):\n",
      " #   Column  Non-Null Count  Dtype   \n",
      "---  ------  --------------  -----   \n",
      " 0   img     931 non-null    object  \n",
      " 1   labels  931 non-null    category\n",
      "dtypes: category(1), object(1)\n",
      "memory usage: 15.9+ KB\n"
     ]
    }
   ],
   "source": [
    "\"\"\" Creating four datasets \"\"\"\n",
    "dataset = shuffle(dataset)\n",
    "train_set_ratio = 0.8\n",
    "dev_set_ratio = 0.1\n",
    "test_dev_ratio = 0.1\n",
    "\n",
    "temp, test_set = train_test_split(dataset, test_size = 1 - train_set_ratio)\n",
    "test_set, dev_set = train_test_split(test_set, test_size = dev_set_ratio/(1-train_set_ratio))\n",
    "train_set, train_dev_set = train_test_split(temp, test_size = test_dev_ratio/(train_set_ratio))\n",
    "\n",
    "print(\"train set:\")\n",
    "train_set.info()\n",
    "print(\"train-dev set:\")\n",
    "train_dev_set.info()\n",
    "print(\"dev set:\")\n",
    "dev_set.info()\n",
    "print(\"test set:\")\n",
    "test_set.info()"
   ]
  },
  {
   "cell_type": "code",
   "execution_count": null,
   "metadata": {
    "colab": {
     "base_uri": "https://localhost:8080/",
     "height": 90
    },
    "colab_type": "code",
    "id": "TXXVWxeMkERS",
    "outputId": "8edc0ae5-14a5-4466-bc7a-5dbf8d14995e"
   },
   "outputs": [
    {
     "name": "stdout",
     "output_type": "stream",
     "text": [
      "Training set size (after DataLoader processing): 6521\n",
      "Training-dev set size (after DataLoader processing): 932\n",
      "Dev set size (after DataLoader processing): 933\n",
      "Training set size (after DataLoader processing): 931\n"
     ]
    }
   ],
   "source": [
    "\"\"\" Dataset and DataLoader \"\"\"\n",
    "# DataLoader for training set\n",
    "train_batch_size = batch_size\n",
    "train_ds = TyDataset(train_set)\n",
    "train_loader = DataLoader(train_ds, batch_size = train_batch_size, shuffle=True, num_workers=8, drop_last=True)\n",
    "print(\"Training set size (after DataLoader processing):\", len(train_ds))\n",
    "\n",
    "# DataLoader for training-dev set\n",
    "train_dev_batch_size = batch_size\n",
    "train_dev_ds = TyDataset(train_dev_set)\n",
    "train_dev_loader = DataLoader(train_dev_ds, batch_size = train_dev_batch_size, shuffle=True, num_workers=8, drop_last=True)\n",
    "print(\"Training-dev set size (after DataLoader processing):\", len(train_dev_ds))\n",
    "\n",
    "# DataLoader for dev set\n",
    "dev_batch_size = batch_size\n",
    "dev_ds = TyDataset(dev_set)\n",
    "dev_loader = DataLoader(dev_ds, batch_size = dev_batch_size, shuffle=True, num_workers=8, drop_last=True)\n",
    "print(\"Dev set size (after DataLoader processing):\", len(dev_ds))\n",
    "\n",
    "# DataLoader for test set\n",
    "test_batch_size = batch_size\n",
    "test_ds = TyDataset(test_set)\n",
    "test_loader = DataLoader(test_ds, batch_size = test_batch_size, shuffle=True, num_workers=8, drop_last=True)\n",
    "print(\"Training set size (after DataLoader processing):\", len(test_ds))"
   ]
  },
  {
   "cell_type": "code",
   "execution_count": null,
   "metadata": {
    "colab": {
     "base_uri": "https://localhost:8080/",
     "height": 489
    },
    "colab_type": "code",
    "id": "_cKIHSfwpATf",
    "outputId": "15a794da-dead-477b-ba31-e1a675408790"
   },
   "outputs": [
    {
     "name": "stdout",
     "output_type": "stream",
     "text": [
      "Device: cuda\n",
      "interim_prototype_take2(\n",
      "  (conv): Sequential(\n",
      "    (0): Conv2d(1, 16, kernel_size=(3, 3), stride=(1, 1), padding=(1, 1), bias=False)\n",
      "    (1): ReLU(inplace=True)\n",
      "    (2): Conv2d(16, 16, kernel_size=(3, 3), stride=(1, 1), padding=(1, 1), bias=False)\n",
      "    (3): ReLU(inplace=True)\n",
      "    (4): AvgPool2d(kernel_size=2, stride=2, padding=0)\n",
      "    (5): Dropout(p=0.2, inplace=False)\n",
      "    (6): Conv2d(16, 16, kernel_size=(3, 3), stride=(1, 1), padding=(1, 1), bias=False)\n",
      "    (7): ReLU(inplace=True)\n",
      "    (8): AvgPool2d(kernel_size=2, stride=2, padding=0)\n",
      "    (9): Dropout(p=0.2, inplace=False)\n",
      "    (10): Conv2d(16, 16, kernel_size=(3, 3), stride=(1, 1), padding=(1, 1), bias=False)\n",
      "    (11): ReLU(inplace=True)\n",
      "    (12): AvgPool2d(kernel_size=2, stride=2, padding=0)\n",
      "    (13): Dropout(p=0.2, inplace=False)\n",
      "  )\n",
      "  (fc): Sequential(\n",
      "    (0): Flatten()\n",
      "    (1): Linear(in_features=65536, out_features=1024, bias=True)\n",
      "    (2): ReLU(inplace=True)\n",
      "    (3): Dropout(p=0.2, inplace=False)\n",
      "    (4): Linear(in_features=1024, out_features=12, bias=True)\n",
      "  )\n",
      ")\n"
     ]
    }
   ],
   "source": [
    "\"\"\" Device, Criterion and Other Stuff \"\"\"\n",
    "# Get device\n",
    "device = torch.device('cuda' if torch.cuda.is_available() else 'cpu')\n",
    "print(\"Device:\",device)\n",
    "if not torch.cuda.is_available():\n",
    "  print(\"Suggest you use GPU\")\n",
    "\n",
    "# Get model\n",
    "test_model = interim_prototype_take2()\n",
    "test_model = test_model.to(device)\n",
    "print(test_model)\n",
    "\n",
    "# Criterion and Optimizer\n",
    "L2_decay = 0.001  #set up L2 regularization\n",
    "criterion = nn.CrossEntropyLoss()\n",
    "optimizer = optim.Adam(test_model.parameters(), lr=learning_rate, weight_decay=L2_decay)"
   ]
  },
  {
   "cell_type": "code",
   "execution_count": null,
   "metadata": {
    "colab": {
     "base_uri": "https://localhost:8080/",
     "height": 1000
    },
    "colab_type": "code",
    "id": "4E6KHMYEkWx5",
    "outputId": "766747b2-617c-44bd-e3f1-00862ab4e5a6"
   },
   "outputs": [
    {
     "name": "stdout",
     "output_type": "stream",
     "text": [
      "Running epoch  0 / 20 :\n",
      "====================\n",
      "# Batches Processed:  0 / 203\n",
      "# Batches Processed:  20 / 203\n",
      "# Batches Processed:  40 / 203\n",
      "# Batches Processed:  60 / 203\n",
      "# Batches Processed:  80 / 203\n",
      "# Batches Processed:  100 / 203\n",
      "# Batches Processed:  120 / 203\n",
      "# Batches Processed:  140 / 203\n",
      "# Batches Processed:  160 / 203\n",
      "# Batches Processed:  180 / 203\n",
      "# Batches Processed:  200 / 203\n",
      "Time:  54.3019585609436\n",
      "---- Training ----\n",
      "Loss:  2.196978768104403\n",
      "Acc:  22.9064039408867\n",
      "---- Training-Dev ----\n",
      "Loss:  2.1900416407091865\n",
      "Acc:  23.16810344827586\n",
      "----Dev----\n",
      "Loss:  2.193347010119208\n",
      "Acc:  23.49137931034483\n",
      "====================\n",
      "Running epoch  1 / 20 :\n",
      "====================\n",
      "# Batches Processed:  0 / 203\n",
      "# Batches Processed:  20 / 203\n",
      "# Batches Processed:  40 / 203\n",
      "# Batches Processed:  60 / 203\n",
      "# Batches Processed:  80 / 203\n",
      "# Batches Processed:  100 / 203\n",
      "# Batches Processed:  120 / 203\n",
      "# Batches Processed:  140 / 203\n",
      "# Batches Processed:  160 / 203\n",
      "# Batches Processed:  180 / 203\n",
      "# Batches Processed:  200 / 203\n",
      "Time:  108.01672863960266\n",
      "---- Training ----\n",
      "Loss:  2.1754901244722564\n",
      "Acc:  23.676108374384235\n",
      "---- Training-Dev ----\n",
      "Loss:  2.179738344817326\n",
      "Acc:  23.275862068965516\n",
      "----Dev----\n",
      "Loss:  2.183801667443637\n",
      "Acc:  23.49137931034483\n",
      "====================\n",
      "Running epoch  2 / 20 :\n",
      "====================\n",
      "# Batches Processed:  0 / 203\n",
      "# Batches Processed:  20 / 203\n",
      "# Batches Processed:  40 / 203\n",
      "# Batches Processed:  60 / 203\n",
      "# Batches Processed:  80 / 203\n",
      "# Batches Processed:  100 / 203\n",
      "# Batches Processed:  120 / 203\n",
      "# Batches Processed:  140 / 203\n",
      "# Batches Processed:  160 / 203\n",
      "# Batches Processed:  180 / 203\n",
      "# Batches Processed:  200 / 203\n",
      "Time:  161.72431468963623\n",
      "---- Training ----\n",
      "Loss:  2.1787939752851213\n",
      "Acc:  23.845443349753694\n",
      "---- Training-Dev ----\n",
      "Loss:  2.178425122951639\n",
      "Acc:  22.95258620689655\n",
      "----Dev----\n",
      "Loss:  2.1858690894883255\n",
      "Acc:  23.599137931034484\n",
      "====================\n",
      "Running epoch  3 / 20 :\n",
      "====================\n",
      "# Batches Processed:  0 / 203\n",
      "# Batches Processed:  20 / 203\n",
      "# Batches Processed:  40 / 203\n",
      "# Batches Processed:  60 / 203\n",
      "# Batches Processed:  80 / 203\n",
      "# Batches Processed:  100 / 203\n",
      "# Batches Processed:  120 / 203\n",
      "# Batches Processed:  140 / 203\n",
      "# Batches Processed:  160 / 203\n",
      "# Batches Processed:  180 / 203\n",
      "# Batches Processed:  200 / 203\n",
      "Time:  215.58518815040588\n",
      "---- Training ----\n",
      "Loss:  2.167350431381188\n",
      "Acc:  23.830049261083744\n",
      "---- Training-Dev ----\n",
      "Loss:  2.1265335864034194\n",
      "Acc:  23.16810344827586\n",
      "----Dev----\n",
      "Loss:  2.133923855321161\n",
      "Acc:  23.38362068965517\n",
      "====================\n",
      "Running epoch  4 / 20 :\n",
      "====================\n",
      "# Batches Processed:  0 / 203\n",
      "# Batches Processed:  20 / 203\n",
      "# Batches Processed:  40 / 203\n",
      "# Batches Processed:  60 / 203\n",
      "# Batches Processed:  80 / 203\n",
      "# Batches Processed:  100 / 203\n",
      "# Batches Processed:  120 / 203\n",
      "# Batches Processed:  140 / 203\n",
      "# Batches Processed:  160 / 203\n",
      "# Batches Processed:  180 / 203\n",
      "# Batches Processed:  200 / 203\n",
      "Time:  269.41090869903564\n",
      "---- Training ----\n",
      "Loss:  2.0133693435509215\n",
      "Acc:  25.708128078817733\n",
      "---- Training-Dev ----\n",
      "Loss:  1.955960857457128\n",
      "Acc:  27.801724137931036\n",
      "----Dev----\n",
      "Loss:  1.9680321339903206\n",
      "Acc:  26.939655172413794\n",
      "====================\n",
      "Running epoch  5 / 20 :\n",
      "====================\n",
      "# Batches Processed:  0 / 203\n",
      "# Batches Processed:  20 / 203\n",
      "# Batches Processed:  40 / 203\n",
      "# Batches Processed:  60 / 203\n",
      "# Batches Processed:  80 / 203\n",
      "# Batches Processed:  100 / 203\n",
      "# Batches Processed:  120 / 203\n",
      "# Batches Processed:  140 / 203\n",
      "# Batches Processed:  160 / 203\n",
      "# Batches Processed:  180 / 203\n",
      "# Batches Processed:  200 / 203\n",
      "Time:  323.12654185295105\n",
      "---- Training ----\n",
      "Loss:  1.8962702569115926\n",
      "Acc:  29.81834975369458\n",
      "---- Training-Dev ----\n",
      "Loss:  1.9080437832865222\n",
      "Acc:  28.663793103448278\n",
      "----Dev----\n",
      "Loss:  1.9113879984822766\n",
      "Acc:  28.663793103448278\n",
      "====================\n",
      "Running epoch  6 / 20 :\n",
      "====================\n",
      "# Batches Processed:  0 / 203\n",
      "# Batches Processed:  20 / 203\n",
      "# Batches Processed:  40 / 203\n",
      "# Batches Processed:  60 / 203\n",
      "# Batches Processed:  80 / 203\n",
      "# Batches Processed:  100 / 203\n",
      "# Batches Processed:  120 / 203\n",
      "# Batches Processed:  140 / 203\n",
      "# Batches Processed:  160 / 203\n",
      "# Batches Processed:  180 / 203\n",
      "# Batches Processed:  200 / 203\n",
      "Time:  376.76203894615173\n",
      "---- Training ----\n",
      "Loss:  1.8146508016022556\n",
      "Acc:  32.589285714285715\n",
      "---- Training-Dev ----\n",
      "Loss:  1.8705092175253506\n",
      "Acc:  29.310344827586206\n",
      "----Dev----\n",
      "Loss:  1.9015081668722218\n",
      "Acc:  27.69396551724138\n",
      "====================\n",
      "Running epoch  7 / 20 :\n",
      "====================\n",
      "# Batches Processed:  0 / 203\n",
      "# Batches Processed:  20 / 203\n",
      "# Batches Processed:  40 / 203\n",
      "# Batches Processed:  60 / 203\n",
      "# Batches Processed:  80 / 203\n",
      "# Batches Processed:  100 / 203\n",
      "# Batches Processed:  120 / 203\n",
      "# Batches Processed:  140 / 203\n",
      "# Batches Processed:  160 / 203\n",
      "# Batches Processed:  180 / 203\n",
      "# Batches Processed:  200 / 203\n",
      "Time:  430.7465615272522\n",
      "---- Training ----\n",
      "Loss:  1.7007558163750935\n",
      "Acc:  36.89963054187192\n",
      "---- Training-Dev ----\n",
      "Loss:  1.9006335324254529\n",
      "Acc:  27.90948275862069\n",
      "----Dev----\n",
      "Loss:  1.873918052377372\n",
      "Acc:  31.25\n",
      "====================\n",
      "Running epoch  8 / 20 :\n",
      "====================\n",
      "# Batches Processed:  0 / 203\n",
      "# Batches Processed:  20 / 203\n",
      "# Batches Processed:  40 / 203\n",
      "# Batches Processed:  60 / 203\n",
      "# Batches Processed:  80 / 203\n",
      "# Batches Processed:  100 / 203\n",
      "# Batches Processed:  120 / 203\n",
      "# Batches Processed:  140 / 203\n",
      "# Batches Processed:  160 / 203\n",
      "# Batches Processed:  180 / 203\n",
      "# Batches Processed:  200 / 203\n",
      "Time:  484.7363631725311\n",
      "---- Training ----\n",
      "Loss:  1.5049585702971284\n",
      "Acc:  45.350985221674875\n",
      "---- Training-Dev ----\n",
      "Loss:  1.9759717275356423\n",
      "Acc:  26.724137931034484\n",
      "----Dev----\n",
      "Loss:  1.9783740002533485\n",
      "Acc:  27.370689655172413\n",
      "====================\n",
      "Running epoch  9 / 20 :\n",
      "====================\n",
      "# Batches Processed:  0 / 203\n",
      "# Batches Processed:  20 / 203\n",
      "# Batches Processed:  40 / 203\n",
      "# Batches Processed:  60 / 203\n",
      "# Batches Processed:  80 / 203\n",
      "# Batches Processed:  100 / 203\n",
      "# Batches Processed:  120 / 203\n",
      "# Batches Processed:  140 / 203\n",
      "# Batches Processed:  160 / 203\n",
      "# Batches Processed:  180 / 203\n",
      "# Batches Processed:  200 / 203\n",
      "Time:  538.7043256759644\n",
      "---- Training ----\n",
      "Loss:  1.1570031129080673\n",
      "Acc:  59.06711822660098\n",
      "---- Training-Dev ----\n",
      "Loss:  2.028320645463878\n",
      "Acc:  29.525862068965516\n",
      "----Dev----\n",
      "Loss:  2.109512551077481\n",
      "Acc:  27.155172413793103\n",
      "====================\n",
      "Running epoch  10 / 20 :\n",
      "====================\n",
      "# Batches Processed:  0 / 203\n",
      "# Batches Processed:  20 / 203\n",
      "# Batches Processed:  40 / 203\n",
      "# Batches Processed:  60 / 203\n",
      "# Batches Processed:  80 / 203\n",
      "# Batches Processed:  100 / 203\n",
      "# Batches Processed:  120 / 203\n",
      "# Batches Processed:  140 / 203\n",
      "# Batches Processed:  160 / 203\n",
      "# Batches Processed:  180 / 203\n",
      "# Batches Processed:  200 / 203\n",
      "Time:  592.7864546775818\n",
      "---- Training ----\n",
      "Loss:  0.7497908232247301\n",
      "Acc:  74.29187192118226\n",
      "---- Training-Dev ----\n",
      "Loss:  2.6365602838582007\n",
      "Acc:  27.04741379310345\n",
      "----Dev----\n",
      "Loss:  2.7188802012081803\n",
      "Acc:  27.155172413793103\n",
      "====================\n",
      "Running epoch  11 / 20 :\n",
      "====================\n",
      "# Batches Processed:  0 / 203\n",
      "# Batches Processed:  20 / 203\n",
      "# Batches Processed:  40 / 203\n",
      "# Batches Processed:  60 / 203\n",
      "# Batches Processed:  80 / 203\n",
      "# Batches Processed:  100 / 203\n",
      "# Batches Processed:  120 / 203\n",
      "# Batches Processed:  140 / 203\n",
      "# Batches Processed:  160 / 203\n",
      "# Batches Processed:  180 / 203\n",
      "# Batches Processed:  200 / 203\n",
      "Time:  646.6231966018677\n",
      "---- Training ----\n",
      "Loss:  0.518902479464491\n",
      "Acc:  83.14347290640394\n",
      "---- Training-Dev ----\n",
      "Loss:  2.9078434171347785\n",
      "Acc:  27.478448275862068\n",
      "----Dev----\n",
      "Loss:  3.0326959963502556\n",
      "Acc:  25.323275862068964\n",
      "====================\n",
      "Running epoch  12 / 20 :\n",
      "====================\n",
      "# Batches Processed:  0 / 203\n",
      "# Batches Processed:  20 / 203\n",
      "# Batches Processed:  40 / 203\n",
      "# Batches Processed:  60 / 203\n",
      "# Batches Processed:  80 / 203\n",
      "# Batches Processed:  100 / 203\n",
      "# Batches Processed:  120 / 203\n",
      "# Batches Processed:  140 / 203\n",
      "# Batches Processed:  160 / 203\n",
      "# Batches Processed:  180 / 203\n",
      "# Batches Processed:  200 / 203\n",
      "Time:  700.4767348766327\n",
      "---- Training ----\n",
      "Loss:  0.35912658637527173\n",
      "Acc:  88.48522167487685\n",
      "---- Training-Dev ----\n",
      "Loss:  3.1873188923145164\n",
      "Acc:  27.262931034482758\n",
      "----Dev----\n",
      "Loss:  3.3047774208003076\n",
      "Acc:  24.56896551724138\n",
      "====================\n",
      "Running epoch  13 / 20 :\n",
      "====================\n",
      "# Batches Processed:  0 / 203\n",
      "# Batches Processed:  20 / 203\n",
      "# Batches Processed:  40 / 203\n",
      "# Batches Processed:  60 / 203\n",
      "# Batches Processed:  80 / 203\n",
      "# Batches Processed:  100 / 203\n",
      "# Batches Processed:  120 / 203\n",
      "# Batches Processed:  140 / 203\n",
      "# Batches Processed:  160 / 203\n",
      "# Batches Processed:  180 / 203\n",
      "# Batches Processed:  200 / 203\n",
      "Time:  754.5421416759491\n",
      "---- Training ----\n",
      "Loss:  0.32027561114779834\n",
      "Acc:  89.4088669950739\n",
      "---- Training-Dev ----\n",
      "Loss:  3.187203357959616\n",
      "Acc:  25.21551724137931\n",
      "----Dev----\n",
      "Loss:  3.2721653149045746\n",
      "Acc:  25.754310344827587\n",
      "====================\n",
      "Running epoch  14 / 20 :\n",
      "====================\n",
      "# Batches Processed:  0 / 203\n",
      "# Batches Processed:  20 / 203\n",
      "# Batches Processed:  40 / 203\n",
      "# Batches Processed:  60 / 203\n",
      "# Batches Processed:  80 / 203\n",
      "# Batches Processed:  100 / 203\n",
      "# Batches Processed:  120 / 203\n",
      "# Batches Processed:  140 / 203\n",
      "# Batches Processed:  160 / 203\n",
      "# Batches Processed:  180 / 203\n",
      "# Batches Processed:  200 / 203\n",
      "Time:  808.3263337612152\n",
      "---- Training ----\n",
      "Loss:  0.2724103329730739\n",
      "Acc:  91.36391625615764\n",
      "---- Training-Dev ----\n",
      "Loss:  3.3179513092698723\n",
      "Acc:  24.892241379310345\n",
      "----Dev----\n",
      "Loss:  3.5336124403723357\n",
      "Acc:  25.646551724137932\n",
      "====================\n",
      "Running epoch  15 / 20 :\n",
      "====================\n",
      "# Batches Processed:  0 / 203\n",
      "# Batches Processed:  20 / 203\n",
      "# Batches Processed:  40 / 203\n",
      "# Batches Processed:  60 / 203\n",
      "# Batches Processed:  80 / 203\n",
      "# Batches Processed:  100 / 203\n",
      "# Batches Processed:  120 / 203\n",
      "# Batches Processed:  140 / 203\n",
      "# Batches Processed:  160 / 203\n",
      "# Batches Processed:  180 / 203\n",
      "# Batches Processed:  200 / 203\n",
      "Time:  862.4238526821136\n",
      "---- Training ----\n",
      "Loss:  0.24783928552871853\n",
      "Acc:  92.04125615763547\n",
      "---- Training-Dev ----\n",
      "Loss:  3.367922593807352\n",
      "Acc:  26.61637931034483\n",
      "----Dev----\n",
      "Loss:  3.601711684259875\n",
      "Acc:  26.185344827586206\n",
      "====================\n",
      "Running epoch  16 / 20 :\n",
      "====================\n",
      "# Batches Processed:  0 / 203\n",
      "# Batches Processed:  20 / 203\n",
      "# Batches Processed:  40 / 203\n",
      "# Batches Processed:  60 / 203\n",
      "# Batches Processed:  80 / 203\n",
      "# Batches Processed:  100 / 203\n",
      "# Batches Processed:  120 / 203\n",
      "# Batches Processed:  140 / 203\n",
      "# Batches Processed:  160 / 203\n",
      "# Batches Processed:  180 / 203\n",
      "# Batches Processed:  200 / 203\n",
      "Time:  916.4121041297913\n",
      "---- Training ----\n",
      "Loss:  0.2189116762960192\n",
      "Acc:  92.87253694581281\n",
      "---- Training-Dev ----\n",
      "Loss:  3.67176314057975\n",
      "Acc:  26.07758620689655\n",
      "----Dev----\n",
      "Loss:  3.8192699613242316\n",
      "Acc:  26.50862068965517\n",
      "====================\n",
      "Running epoch  17 / 20 :\n",
      "====================\n",
      "# Batches Processed:  0 / 203\n",
      "# Batches Processed:  20 / 203\n",
      "# Batches Processed:  40 / 203\n",
      "# Batches Processed:  60 / 203\n",
      "# Batches Processed:  80 / 203\n",
      "# Batches Processed:  100 / 203\n",
      "# Batches Processed:  120 / 203\n",
      "# Batches Processed:  140 / 203\n",
      "# Batches Processed:  160 / 203\n",
      "# Batches Processed:  180 / 203\n",
      "# Batches Processed:  200 / 203\n",
      "Time:  970.4169480800629\n",
      "---- Training ----\n",
      "Loss:  0.23052018535841862\n",
      "Acc:  92.78017241379311\n",
      "---- Training-Dev ----\n",
      "Loss:  3.43779967571127\n",
      "Acc:  26.29310344827586\n",
      "----Dev----\n",
      "Loss:  3.5543347391588935\n",
      "Acc:  25.862068965517242\n",
      "====================\n",
      "Running epoch  18 / 20 :\n",
      "====================\n",
      "# Batches Processed:  0 / 203\n",
      "# Batches Processed:  20 / 203\n",
      "# Batches Processed:  40 / 203\n",
      "# Batches Processed:  60 / 203\n",
      "# Batches Processed:  80 / 203\n",
      "# Batches Processed:  100 / 203\n",
      "# Batches Processed:  120 / 203\n",
      "# Batches Processed:  140 / 203\n",
      "# Batches Processed:  160 / 203\n",
      "# Batches Processed:  180 / 203\n",
      "# Batches Processed:  200 / 203\n",
      "Time:  1024.0331063270569\n",
      "---- Training ----\n",
      "Loss:  0.19421711103449313\n",
      "Acc:  93.6576354679803\n",
      "---- Training-Dev ----\n",
      "Loss:  3.7910754762846848\n",
      "Acc:  28.232758620689655\n",
      "----Dev----\n",
      "Loss:  3.943570317893193\n",
      "Acc:  26.400862068965516\n",
      "====================\n",
      "Running epoch  19 / 20 :\n",
      "====================\n",
      "# Batches Processed:  0 / 203\n",
      "# Batches Processed:  20 / 203\n",
      "# Batches Processed:  40 / 203\n",
      "# Batches Processed:  60 / 203\n",
      "# Batches Processed:  80 / 203\n",
      "# Batches Processed:  100 / 203\n",
      "# Batches Processed:  120 / 203\n",
      "# Batches Processed:  140 / 203\n",
      "# Batches Processed:  160 / 203\n",
      "# Batches Processed:  180 / 203\n",
      "# Batches Processed:  200 / 203\n",
      "Time:  1078.0042369365692\n",
      "---- Training ----\n",
      "Loss:  0.2157892883925015\n",
      "Acc:  93.6576354679803\n",
      "---- Training-Dev ----\n",
      "Loss:  3.2083959415041168\n",
      "Acc:  27.478448275862068\n",
      "----Dev----\n",
      "Loss:  3.5257384283789275\n",
      "Acc:  25.969827586206897\n",
      "====================\n",
      "Test results:\n",
      "====================\n",
      "Loss:  72.23832678794861\n",
      "Acc:  0.10775862068965517\n",
      "Behold!\n",
      "====================\n"
     ]
    }
   ],
   "source": [
    "\"\"\" Modified training loop, with test set evaluation included \"\"\"\n",
    "from time import time\n",
    "\n",
    "all_train_acc, all_td_acc, all_dev_acc = [], [], []\n",
    "begin_time = time()\n",
    "for epoch in range(n_epochs):\n",
    "  print(\"Running epoch \",epoch,\"/\",n_epochs,\":\")\n",
    "  print(\"====================\")\n",
    "\n",
    "  log_dict = train_one_epoch(test_model, device=device, criterion=criterion, optimizer=optimizer, dataloader=train_loader)\n",
    "  train_loss = log_dict['loss'] / len(train_loader)\n",
    "  train_acc = log_dict['acc']\n",
    "  all_train_acc.append(train_acc)\n",
    "\n",
    "  log_dict = eval_one_epoch(test_model, device=device, criterion=criterion, dataloader=train_dev_loader)\n",
    "  td_loss = log_dict['loss'] / len(train_dev_loader)\n",
    "  td_acc = log_dict['acc']\n",
    "  all_td_acc.append(td_acc)\n",
    "\n",
    "  log_dict = eval_one_epoch(test_model, device=device, criterion=criterion, dataloader=dev_loader)\n",
    "  dev_loss = log_dict['loss'] / len(dev_loader)\n",
    "  dev_acc = log_dict['acc']\n",
    "  all_dev_acc.append(dev_acc)\n",
    "\n",
    "  finish_time = time()\n",
    "  print(\"Time: \", finish_time-begin_time)\n",
    "  print(\"---- Training ----\")\n",
    "  print(\"Loss: \", train_loss)\n",
    "  print(\"Acc: \", train_acc)\n",
    "  print(\"---- Training-Dev ----\")\n",
    "  print(\"Loss: \", td_loss)\n",
    "  print(\"Acc: \", td_acc)\n",
    "  print(\"----Dev----\")\n",
    "  print(\"Loss: \", dev_loss)\n",
    "  print(\"Acc: \", dev_acc)\n",
    "  print(\"====================\")"
   ]
  },
  {
   "cell_type": "code",
   "execution_count": null,
   "metadata": {
    "colab": {
     "base_uri": "https://localhost:8080/",
     "height": 126
    },
    "colab_type": "code",
    "id": "SWhIWnBnyEM7",
    "outputId": "dd5624d2-5933-4ec7-aa81-921eafbfbec0"
   },
   "outputs": [
    {
     "name": "stdout",
     "output_type": "stream",
     "text": [
      "Test results:\n",
      "====================\n",
      "Loss:  97.63326644897461\n",
      "Acc:  26.07758620689655\n",
      "Behold!\n",
      "====================\n"
     ]
    }
   ],
   "source": [
    "log_dict = eval_one_epoch(test_model, device, criterion, dataloader=test_loader)\n",
    "test_loss = log_dict['loss']\n",
    "test_acc = log_dict['acc']\n",
    "print(\"Test results:\")\n",
    "print(\"====================\")\n",
    "print(\"Loss: \", test_loss)\n",
    "print(\"Acc: \", test_acc)\n",
    "print(\"Behold!\")\n",
    "print(\"====================\")"
   ]
  },
  {
   "cell_type": "code",
   "execution_count": null,
   "metadata": {
    "colab": {
     "base_uri": "https://localhost:8080/",
     "height": 295
    },
    "colab_type": "code",
    "id": "vO1PTiblrbBW",
    "outputId": "f34721a3-6bfd-4f2e-f51b-62be56a1c199"
   },
   "outputs": [
    {
     "data": {
      "image/png": "[encoded data removed]",
      "text/plain": [
       "<Figure size 432x288 with 1 Axes>"
      ]
     },
     "metadata": {
      "needs_background": "light",
      "tags": []
     },
     "output_type": "display_data"
    }
   ],
   "source": [
    "\"\"\" Visualization: Accuracies against time \"\"\"\n",
    "import matplotlib.pyplot as plt\n",
    "%matplotlib inline\n",
    "\n",
    "fig, ax = plt.subplots()\n",
    "plt.title(\"Interim Prototype Model: Custom CNN Accuracy\")\n",
    "ax.plot(all_train_acc, label=\"Training\")\n",
    "ax.plot(all_td_acc, label=\"Training-Dev\")\n",
    "ax.plot(all_dev_acc, label=\"Dev\")\n",
    "plt.hlines(test_acc, xmin=0, xmax=n_epochs-1, label=\"Test\", linestyles='dashed')\n",
    "\n",
    "plt.grid()\n",
    "plt.xlabel('Epochs')\n",
    "plt.ylabel('Acc')\n",
    "plt.legend(loc='lower right')\n",
    "plt.show()"
   ]
  },
  {
   "cell_type": "markdown",
   "metadata": {
    "colab_type": "text",
    "id": "1JaKfy8msqNE"
   },
   "source": [
    "Results (accuracy scores) from the first run of the above code on 24 April:\n",
    "\n",
    "Training|Training-Dev|Dev|Test\n",
    "---|---|---|---\n",
    "93.657|27.478|25.969|26.077\n",
    "\n",
    "![alt text](https://drive.google.com/uc?id=1WhJoDwZyQIr0m_aC3Y1qbgm7GU70L9GH)\n",
    "\n",
    "Needless to say, this is exact proof that the model is overfitting to the training set, even with a bit of L2 regularization introduced. There are many ways we can handle it, googling for 30 seconds gave us:\n",
    "\n",
    "* **Using more data**: \n",
    "  It happens that Prof. Kitamoto has replied on 23 April, giving us access to his 40GB large dataset. Although the image has a different representation (exact cloud top temperatures instead of colour-enhanced infrared image), this should not be a big deal, as Prof. Kitamoto is also worried that learning BD images might be difficult. Whatever the case, we now have access to a gigantic dataset, so extra data is secured.\n",
    "* **Data augmentation**:\n",
    "  This can be used to add more variation to the images, but we would see whether we can make do with Prof. Kitamoto's dataset first.\n",
    "* **Regularization**:\n",
    "  We have included numerous dropout layers in the model, but the Internet suggests gradually increasing dropout rate as we near the output layer, so it may be worth a try. In addition, regularization rates can be increased. But this latter option might be taken into consideration when we finally figure out how to do grid search.\n"
   ]
  },
  {
   "cell_type": "markdown",
   "metadata": {
    "colab_type": "text",
    "id": "xvIpmKLvkKuU"
   },
   "source": [
    "---"
   ]
  },
  {
   "cell_type": "code",
   "execution_count": null,
   "metadata": {
    "colab": {},
    "colab_type": "code",
    "id": "YKX2DYFSVPCq"
   },
   "outputs": [],
   "source": [
    "\"\"\" For CV later \"\"\"\n",
    "from skorch import NeuralNetClassifier\n",
    "from skorch.dataset import CVSplit\n",
    "from sklearn.model_selection import GridSearchCV, cross_val_score\n",
    "\n",
    "begin_time = time()\n",
    "test_net = NeuralNetClassifier(\n",
    "    # PyTorch model\n",
    "    module = interim_model_1,\n",
    "    max_epochs = n_epochs,\n",
    "    lr = learning_rate,\n",
    "    device = 'cuda',\n",
    "    criterion = nn.CrossEntropyLoss,\n",
    "    optimizer = optim.Adam,\n",
    "    optimizer__lr = learning_rate,\n",
    "    batch_size = batch_size,\n",
    "    # internal train/validation split by skorch\n",
    "    # use pytorch dataset is ok, auto-wrapped\n",
    "    # here validated against dev set\n",
    "    train_split = predefined_split(dev_ds), \n",
    ")\n",
    "\n",
    "# Directly fitting the model\n",
    "test_net.fit(train_ds)\n",
    "finish_time = time()\n",
    "\n",
    "# Test set validate\n",
    "test_score = test_net.score(test_ds)\n",
    "print(\"Raw test accuracy: \", test_score)\n",
    "# 5-fold CV scores\n",
    "cv_scores = cross_val_score(test_net, train_ds, cv=5, scoring='accuracy')\n",
    "print(\"5-Fold CV scores: \", cv_scores)\n",
    "print(\"Mean: \", cv_scores.mean())"
   ]
  }
 ],
 "metadata": {
  "accelerator": "GPU",
  "colab": {
   "collapsed_sections": [],
   "machine_shape": "hm",
   "name": " [New Dataset] COMP3359 group 28.ipynb",
   "provenance": []
  },
  "kernelspec": {
   "display_name": "Python 3",
   "language": "python",
   "name": "python3"
  },
  "language_info": {
   "codemirror_mode": {
    "name": "ipython",
    "version": 3
   },
   "file_extension": ".py",
   "mimetype": "text/x-python",
   "name": "python",
   "nbconvert_exporter": "python",
   "pygments_lexer": "ipython3",
   "version": "3.7.6"
  }
 },
 "nbformat": 4,
 "nbformat_minor": 4
}
