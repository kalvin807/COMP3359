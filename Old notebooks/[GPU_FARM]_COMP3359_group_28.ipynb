{
  "nbformat": 4,
  "nbformat_minor": 0,
  "metadata": {
    "accelerator": "GPU",
    "colab": {
      "name": "[Latest][GPU_FARM] COMP3359_group_28.ipynb",
      "provenance": [],
      "collapsed_sections": [],
      "toc_visible": true,
      "machine_shape": "hm",
      "include_colab_link": true
    },
    "kernelspec": {
      "display_name": "Python 3",
      "language": "python",
      "name": "python3"
    },
    "language_info": {
      "codemirror_mode": {
        "name": "ipython",
        "version": 3
      },
      "file_extension": ".py",
      "mimetype": "text/x-python",
      "name": "python",
      "nbconvert_exporter": "python",
      "pygments_lexer": "ipython3",
      "version": "3.7.6"
    }
  },
  "cells": [
    {
      "cell_type": "markdown",
      "metadata": {
        "id": "view-in-github",
        "colab_type": "text"
      },
      "source": [
        "<a href=\"https://colab.research.google.com/github/kalvin807/COMP3359/blob/master/%5BGPU_FARM%5D_COMP3359_group_28.ipynb\" target=\"_parent\"><img src=\"https://colab.research.google.com/assets/colab-badge.svg\" alt=\"Open In Colab\"/></a>"
      ]
    },
    {
      "cell_type": "markdown",
      "metadata": {
        "colab_type": "text",
        "id": "GwtOT4QGHQ6-"
      },
      "source": [
        "# COMP3359 Project\n",
        "## Group 28: Classification of Tropical Cyclone Satellite Image by Intensity\n",
        "\n",
        "---\n",
        "\n",
        "### Introduction\n",
        "In this project, we intend to develop a CNN-based model that accepts a satellite image of a tropical cyclone as input and\n",
        "predicts a label the appropriate Dvorak T-number (a measure of tropical cyclone intensity) for it.\n",
        "The T-number is derived using a manual method known as the Dvorak Technique (Dvorak,\n",
        "1975; Dvorak, 1984) and we intend to let an AI model perform it without knowing the exact rules\n",
        "and features to look for.\n",
        "\n",
        "The dataset used is obtained from the website “Digital Typhoon”, a platform that\n",
        "provides historical data (including satellite images) of tropical cyclones, provided by Prof. A. Kitamoto of\n",
        "National Institute of Informatics (Japan), to whom we are highly indebted for his kind permission to use his data.\n",
        "\n",
        "This notebook will be the implementation of our methodology, which is essentially a CNN multi-class image classifier.\n",
        "\n",
        "References used:\n",
        "- Dvorak, V.F. (1975, 5) Tropical Cyclone Intensity Analysis and Forecasting From\n",
        "Satellite Imagery. Monthly Weather Review , Volume 3, pp.420-430.\n",
        "- Dvorak, V.F. (1984) Tropical Cyclone Intensity Analysis Using Satellite Data. National\n",
        "Oceanic and Atmospheric Administration. Washington D.C.: National Oceanic and\n",
        "Atmospheric Administration."
      ]
    },
    {
      "cell_type": "markdown",
      "metadata": {
        "colab_type": "text",
        "id": "i50VmC1eNZ5z"
      },
      "source": [
        "### Table of Content\n",
        "\n",
        "\n",
        "---\n",
        "- Preperation\n",
        "- Prerequisite\n",
        "- Data Exploration and Preprocesssing\n",
        "- [Interim Prototype] Building and Training a Model - Take 1: Pre-trained Net\n",
        "- [Interim Prototype] Building and Training a Model - Take 2: Custom CNN\n",
        "- [Interim Prototype] Conclusions about the two models\n",
        "\n"
      ]
    },
    {
      "cell_type": "markdown",
      "metadata": {
        "id": "Y8Vk6w2qjozP",
        "colab_type": "text"
      },
      "source": [
        "### Preperation\n",
        "\n",
        "> This notebook designs to run un HKU GPU Farm, running it in colab will not work.\n",
        "\n",
        "#### About data format\n",
        "1. Why do we change the raw data to hdf5 file?  \n",
        "    Due to limited size in both colab and HKU gpu farm, we are unable to load all pickel file to VM's disk. Accessing them from google drive also super slow and unstable. Therefore, we merge them into once single hdf5 file with compression, which is 20% of orginial size. Also, hdf5 supports concurrent read which further speed up loading speed.\n",
        "2. Why we compress images from float32 to uint8 images\n",
        "    It also due to the disk limitation and we also found there is no big different in terms of quality."
      ]
    },
    {
      "cell_type": "code",
      "metadata": {
        "id": "HPWpD2pjjozV",
        "colab_type": "code",
        "colab": {},
        "outputId": "c0f289af-3257-457c-d9d6-32f333cac6e9"
      },
      "source": [
        "\"\"\" Install correct pytorch version \"\"\"\n",
        "# Uncomment % ... to see your CUDA version\n",
        "# !/usr/local/cuda/bin/nvcc --version\n",
        "\n",
        "# If you are using CUDA 10.0 (HKU GPU Phrase 1)\n",
        "# !pip install pytorch==1.2.0 torchvision==0.4.0 cudatoolkit==10.0 Pillow==6.1\n",
        "\n",
        "# If you have CUDA 10.1\n",
        "# !pip install torch==1.5.0+cu101 torchvision==0.6.0+cu101 -f https://download.pytorch.org/whl/torch_stable.html\n",
        "\n",
        "# If you have CUDA 10.2\n",
        "# !pip install pytorch torchvision"
      ],
      "execution_count": 0,
      "outputs": [
        {
          "output_type": "execute_result",
          "data": {
            "text/plain": [
              "' If you are CUDA > 10.0 '"
            ]
          },
          "metadata": {
            "tags": []
          },
          "execution_count": 1
        }
      ]
    },
    {
      "cell_type": "code",
      "metadata": {
        "id": "yhMi8DIDjozw",
        "colab_type": "code",
        "colab": {},
        "outputId": "81212344-267c-48e9-f80d-f3baf8980480"
      },
      "source": [
        "\"\"\" Python packages you might need \"\"\"\n",
        "# !pip install h5py opencv-python\n",
        "# !pip install efficientnet-pytorch"
      ],
      "execution_count": 0,
      "outputs": [
        {
          "output_type": "execute_result",
          "data": {
            "text/plain": [
              "' Python packages you might need '"
            ]
          },
          "metadata": {
            "tags": []
          },
          "execution_count": 2
        }
      ]
    },
    {
      "cell_type": "code",
      "metadata": {
        "id": "L8GATHTPjoz-",
        "colab_type": "code",
        "colab": {}
      },
      "source": [
        "\"\"\" Import packages \"\"\"\n",
        "import os\n",
        "import sys\n",
        "import numpy as np\n",
        "import pandas as pd\n",
        "import glob\n",
        "import h5py\n",
        "import torch"
      ],
      "execution_count": 0,
      "outputs": []
    },
    {
      "cell_type": "code",
      "metadata": {
        "colab_type": "code",
        "id": "OXlUH1nAJmE0",
        "colab": {}
      },
      "source": [
        "\"\"\" Set path to data: \"\"\"\n",
        "# WE dumped everything at root, so yeah.\n",
        "dataset_dir = '.'\n",
        "sys.path.append(dataset_dir)\n",
        "IMAGES_H5 = 'images.hdf5'"
      ],
      "execution_count": 0,
      "outputs": []
    },
    {
      "cell_type": "code",
      "metadata": {
        "colab_type": "code",
        "id": "UlfyJNu9Y7q6",
        "outputId": "5ba78b59-620d-475c-f33a-e404cb0df2e1",
        "colab": {
          "base_uri": "https://localhost:8080/",
          "height": 34
        }
      },
      "source": [
        "# Know more about your machine\n",
        "print(torch.cuda.get_device_name() if torch.cuda.is_available() else \"No GPU\")\n",
        "print(os.cpu_count())"
      ],
      "execution_count": 0,
      "outputs": [
        {
          "output_type": "stream",
          "text": [
            "GeForce GTX 1080 Ti\n",
            "16\n"
          ],
          "name": "stdout"
        }
      ]
    },
    {
      "cell_type": "code",
      "metadata": {
        "colab_type": "code",
        "id": "3s3j8cc_O3P-",
        "colab": {},
        "outputId": "cb3e715d-2c26-4e64-bb87-f6fb50333ef5"
      },
      "source": [
        "# Load attribute of images from csv\n",
        "labels = pd.read_csv(f\"{dataset_dir}/labels_with_images.csv\")\n",
        "len(labels)"
      ],
      "execution_count": 0,
      "outputs": [
        {
          "output_type": "execute_result",
          "data": {
            "text/plain": [
              "163665"
            ]
          },
          "metadata": {
            "tags": []
          },
          "execution_count": 6
        }
      ]
    },
    {
      "cell_type": "code",
      "metadata": {
        "colab_type": "code",
        "id": "pTM_QaxU1vwz",
        "outputId": "9250f417-80d1-4081-d279-18011dac183c",
        "colab": {
          "base_uri": "https://localhost:8080/",
          "height": 773
        }
      },
      "source": [
        "# Append few extra column of data for later use\n",
        "labels = labels[['sequence','raw_index','datetime', 'class', 'latitude', 'longitude','pressure', 'TCxETC']]\n",
        "labels['year'] = pd.to_datetime(labels['datetime'], format='%Y-%m-%d %X').dt.year\n",
        "labels['month'] = pd.to_datetime(labels['datetime'], format='%Y-%m-%d %X').dt.month\n",
        "labels['day'] = pd.to_datetime(labels['datetime'], format='%Y-%m-%d %X').dt.day\n",
        "labels.info()"
      ],
      "execution_count": 0,
      "outputs": [
        {
          "output_type": "stream",
          "text": [
            "<class 'pandas.core.frame.DataFrame'>\n",
            "RangeIndex: 163665 entries, 0 to 163664\n",
            "Data columns (total 11 columns):\n",
            " #   Column     Non-Null Count   Dtype  \n",
            "---  ------     --------------   -----  \n",
            " 0   sequence   163665 non-null  int64  \n",
            " 1   raw_index  163665 non-null  int64  \n",
            " 2   datetime   163665 non-null  object \n",
            " 3   class      163665 non-null  int64  \n",
            " 4   latitude   163665 non-null  float64\n",
            " 5   longitude  163665 non-null  float64\n",
            " 6   pressure   163665 non-null  float64\n",
            " 7   TCxETC     163665 non-null  int64  \n",
            " 8   year       163665 non-null  int64  \n",
            " 9   month      163665 non-null  int64  \n",
            " 10  day        163665 non-null  int64  \n",
            "dtypes: float64(3), int64(7), object(1)\n",
            "memory usage: 13.7+ MB\n"
          ],
          "name": "stdout"
        }
      ]
    },
    {
      "cell_type": "code",
      "metadata": {
        "id": "GA_xZo2gj4vL",
        "colab_type": "code",
        "colab": {}
      },
      "source": [
        "# If your instance have ##50GB## free memory, you can load everything into memory (Super Fast)\n",
        "# This will take a while (5 mins + depending on your disk io)\n",
        "def loadImgToRAM():\n",
        "  with h5py.File(f\"{dataset_dir}/{IMAGES_H5}\", \"r\") as h5:\n",
        "    return {label:h5[label][()] for label in h5.keys()}\n",
        "IMGS_DICT = loadImgToRAM()"
      ],
      "execution_count": 0,
      "outputs": []
    },
    {
      "cell_type": "code",
      "metadata": {
        "id": "9csq2eN9oq3C",
        "colab_type": "code",
        "colab": {}
      },
      "source": [
        "# Helper function to get a image from dict\n",
        "def getImageFromDict(imgs_dict, row):\n",
        "  img_name = f\"{row['sequence']}{row['raw_index']}\"\n",
        "  return imgs_dict[img_name]"
      ],
      "execution_count": 0,
      "outputs": []
    },
    {
      "cell_type": "code",
      "metadata": {
        "id": "rHJwKJVBjo0r",
        "colab_type": "code",
        "colab": {}
      },
      "source": [
        "# Alternatively you can load a particular image directly from disk (Slow)\n",
        "# Helper function to get a image array from HDF5 file\n",
        "def getImageFromH5(h5, row):\n",
        "        img_name = f\"{row['sequence']}{row['raw_index']}\"\n",
        "        return h5[img_name][()]"
      ],
      "execution_count": 0,
      "outputs": []
    },
    {
      "cell_type": "markdown",
      "metadata": {
        "colab_type": "text",
        "id": "f25gznODIdST"
      },
      "source": [
        "## Data Exploration and Preprocessing\n",
        "\n",
        "As mentioned in the proposal, we intend to use the dataset by Prof. A. Kitamoto of the National Institute of Informatics (Japan). Via his website “Digital Typhoon”, a platform that provides historical data (including satellite images) of tropical cyclones, we would likely obtain his research dataset for the use of this project. However Prof. Kitamoto only replied to us on 17 April evening and as a result, we proceeded to obtain training data by means of web scraping, in order to get hands-on experience about how the data would be like. \n",
        "\n",
        "The dataset we obtained consists of over 9000 images. Here are some code to look into the overall statistics of the dataset."
      ]
    },
    {
      "cell_type": "markdown",
      "metadata": {
        "colab_type": "text",
        "id": "3YdGnYb6LNHz"
      },
      "source": [
        "#### Exploring the data [Needs Update]\n",
        "Organisation of dataset folder:\n",
        "\n",
        "\n",
        "```\n",
        "dataset_combined/      #root folder\n",
        "|-- csvs               #contains csv files for each typhoon\n",
        "|-- images             #monstrously huge folder of images\n",
        "|-- typhoon_labels.csv #csv containing paths to images and all other data\n",
        "```\n",
        "\n",
        "Content of the dataset _as of now (15 April, 2020)_:\n",
        "* 9317 images of 260 tropical cyclones (TCs) in the Northwestern Pacific basin between 2009 and 2019 inclusive\n",
        "  * Each image is 512x512 monochrome, already centered on the TC.\n",
        "  * More precisely, they are BD-enhanced (coloured) infrared images, the kind of infrared images human analysts would use to perform the Dvorak Technique.\n",
        "* Other data included for each image: \n",
        "  * an identifier (id): year + number (e.g. 200901) as assigned by the JMA\n",
        "  * name of the tropical cyclone\n",
        "  * date (Y,M,D) and time (hour, 24h system) of the image\n",
        "  * latitude and longitude of the TC in the image\n",
        "  * central pressure (hectopascals/hPa) and wind speed (knots/kt)\n",
        "  * class: intensity of the TC, as classified by the website. Not useful for our cause, as the classification systems are different.\n",
        "  * img: file name of the image in the images folder\n",
        "  * chart: a link to the track chart on the source website\n",
        "\n",
        "Some of the above are going to be unused and would be dropped in due course.\n"
      ]
    },
    {
      "cell_type": "code",
      "metadata": {
        "colab_type": "code",
        "id": "CTxXtWoiZo9E",
        "colab": {}
      },
      "source": [
        "# Lets go with import as usual\n",
        "import matplotlib.pyplot as plt\n",
        "import seaborn as sns\n",
        "%matplotlib inline"
      ],
      "execution_count": 0,
      "outputs": []
    },
    {
      "cell_type": "code",
      "metadata": {
        "colab_type": "code",
        "id": "12wI5xPiOnuI",
        "outputId": "0311ce7a-4ffc-4793-91e1-add9516e747b",
        "colab": {
          "base_uri": "https://localhost:8080/",
          "height": 144
        }
      },
      "source": [
        "# Let's look at some sample images\n",
        "plt.figure(figsize=(10,10))\n",
        "print(\"Sample data:\")\n",
        "fig, ax = plt.subplots(1,5)\n",
        "with h5py.File(f\"{dataset_dir}/{IMAGES_H5}\", 'r') as h5:\n",
        "    for i in range(5):\n",
        "      img = getImageFromH5(h5, labels.loc[i])\n",
        "      ax[i].imshow(img, cmap='gray')\n",
        "plt.show()"
      ],
      "execution_count": 0,
      "outputs": [
        {
          "output_type": "stream",
          "text": [
            "Sample data:\n"
          ],
          "name": "stdout"
        },
        {
          "output_type": "display_data",
          "data": {
            "text/plain": [
              "<Figure size 720x720 with 0 Axes>"
            ]
          },
          "metadata": {
            "tags": []
          }
        },
        {
          "output_type": "display_data",
          "data": {
            "image/png": "[encoded data removed]",
            "text/plain": [
              "<Figure size 432x288 with 5 Axes>"
            ]
          },
          "metadata": {
            "tags": [],
            "needs_background": "light"
          }
        }
      ]
    },
    {
      "cell_type": "code",
      "metadata": {
        "colab_type": "code",
        "id": "yaLIUuriSLH8",
        "outputId": "5d3e9d7a-75d7-4c8b-dc3a-b9bdd0b12bef",
        "colab": {
          "base_uri": "https://localhost:8080/",
          "height": 207
        }
      },
      "source": [
        "# Labels of each row\n",
        "list(labels.columns.values)"
      ],
      "execution_count": 0,
      "outputs": [
        {
          "output_type": "execute_result",
          "data": {
            "text/plain": [
              "['sequence',\n",
              " 'raw_index',\n",
              " 'datetime',\n",
              " 'class',\n",
              " 'latitude',\n",
              " 'longitude',\n",
              " 'pressure',\n",
              " 'TCxETC',\n",
              " 'year',\n",
              " 'month',\n",
              " 'day']"
            ]
          },
          "metadata": {
            "tags": []
          },
          "execution_count": 11
        }
      ]
    },
    {
      "cell_type": "code",
      "metadata": {
        "colab_type": "code",
        "id": "qsO_zp6BVmDj",
        "outputId": "be602e9e-4c61-43aa-b699-1d476b656ec1",
        "colab": {
          "base_uri": "https://localhost:8080/",
          "height": 438
        }
      },
      "source": [
        "# Class\n",
        "classes = np.sort(labels['class'].unique())\n",
        "print(\"Classes:\", classes)\n",
        "print(\"Distribution \")\n",
        "dist = labels['class'].value_counts()\n",
        "print(dist)\n",
        "sns.barplot(dist.index, dist)"
      ],
      "execution_count": 0,
      "outputs": [
        {
          "output_type": "stream",
          "text": [
            "Classes: [0 1 2 3 4 5]\n",
            "Distribution \n",
            "0    42312\n",
            "3    40694\n",
            "1    36358\n",
            "2    25703\n",
            "4    18447\n",
            "5      151\n",
            "Name: class, dtype: int64\n"
          ],
          "name": "stdout"
        },
        {
          "output_type": "execute_result",
          "data": {
            "text/plain": [
              "<matplotlib.axes._subplots.AxesSubplot at 0x15017d0f7710>"
            ]
          },
          "metadata": {
            "tags": []
          },
          "execution_count": 12
        },
        {
          "output_type": "display_data",
          "data": {
            "image/png": "[encoded data removed]",
            "text/plain": [
              "<Figure size 432x288 with 1 Axes>"
            ]
          },
          "metadata": {
            "tags": [],
            "needs_background": "light"
          }
        }
      ]
    },
    {
      "cell_type": "code",
      "metadata": {
        "colab_type": "code",
        "id": "bKu26ra5XWKJ",
        "outputId": "88b944ec-4653-4878-f11a-8a6d42e8424e",
        "colab": {
          "base_uri": "https://localhost:8080/",
          "height": 296
        }
      },
      "source": [
        "# Pressure distribution\n",
        "pressure = labels['pressure']\n",
        "sns.distplot(pressure)"
      ],
      "execution_count": 0,
      "outputs": [
        {
          "output_type": "execute_result",
          "data": {
            "text/plain": [
              "<matplotlib.axes._subplots.AxesSubplot at 0x1500ef75b7d0>"
            ]
          },
          "metadata": {
            "tags": []
          },
          "execution_count": 13
        },
        {
          "output_type": "display_data",
          "data": {
            "image/png": "[encoded data removed]",
            "text/plain": [
              "<Figure size 432x288 with 1 Axes>"
            ]
          },
          "metadata": {
            "tags": [],
            "needs_background": "light"
          }
        }
      ]
    },
    {
      "cell_type": "code",
      "metadata": {
        "colab_type": "code",
        "id": "2jFhsdc4azSm",
        "outputId": "a0bcfdb8-09fe-4e7e-f79f-b691be4248ef",
        "colab": {
          "base_uri": "https://localhost:8080/",
          "height": 415
        }
      },
      "source": [
        "# Pressure decile\n",
        "decile = [.1, .2, .3, .4, .5, .6, .7, .8, .9]\n",
        "cutoff = pressure.quantile(decile)\n",
        "print(\"Median of each quantile\")\n",
        "print(cutoff)\n",
        "qcutted = pd.qcut(pressure, 10, labels=False)\n",
        "print(\"Number of image in each bin\")\n",
        "qcutted.value_counts().sort_index()"
      ],
      "execution_count": 0,
      "outputs": [
        {
          "output_type": "stream",
          "text": [
            "Median of each quantile\n",
            "0.1     950.000000\n",
            "0.2     965.000000\n",
            "0.3     977.000000\n",
            "0.4     985.000000\n",
            "0.5     990.666667\n",
            "0.6     995.000000\n",
            "0.7     998.000000\n",
            "0.8    1002.000000\n",
            "0.9    1004.000000\n",
            "Name: pressure, dtype: float64\n",
            "Number of image in each bin\n"
          ],
          "name": "stdout"
        },
        {
          "output_type": "execute_result",
          "data": {
            "text/plain": [
              "0    18833\n",
              "1    14951\n",
              "2    15325\n",
              "3    19252\n",
              "4    13710\n",
              "5    16662\n",
              "6    16263\n",
              "7    20964\n",
              "8    12134\n",
              "9    15571\n",
              "Name: pressure, dtype: int64"
            ]
          },
          "metadata": {
            "tags": []
          },
          "execution_count": 14
        }
      ]
    },
    {
      "cell_type": "code",
      "metadata": {
        "colab_type": "code",
        "id": "r8H6axKqdqwf",
        "outputId": "d2950920-2eff-4952-da21-55a22eebb991",
        "colab": {
          "base_uri": "https://localhost:8080/",
          "height": 214
        }
      },
      "source": [
        "# By Year\n",
        "years = labels['year']\n",
        "count_years = years.value_counts()\n",
        "plt.figure(figsize=(18,5))\n",
        "sns.barplot(count_years.index, count_years)"
      ],
      "execution_count": 0,
      "outputs": [
        {
          "output_type": "execute_result",
          "data": {
            "text/plain": [
              "<matplotlib.axes._subplots.AxesSubplot at 0x1500ef7c7b90>"
            ]
          },
          "metadata": {
            "tags": []
          },
          "execution_count": 15
        },
        {
          "output_type": "display_data",
          "data": {
            "image/png": "[encoded data removed]",
            "text/plain": [
              "<Figure size 1296x360 with 1 Axes>"
            ]
          },
          "metadata": {
            "tags": [],
            "needs_background": "light"
          }
        }
      ]
    },
    {
      "cell_type": "markdown",
      "metadata": {
        "colab_type": "text",
        "id": "pJUIWmZjRfT5"
      },
      "source": [
        "#### Observations [Needs Update]\n",
        "There are some observations we made about the dataset.\n",
        "* The images do not zoom closely to the TC and sometimes capture a nearby TC.\n",
        "  * This is an issue with the data source.\n",
        "  * We would bear with it for now and observe what is going to happen.\n",
        "* There is a very obvious surplus of images of weaker TCs.\n",
        "  * The weakest class has 1615 images, but the strongest 32 only.\n",
        "  * We would bear with it for now and observe what is going to happen.\n",
        "  * Potential solutions are: **(To be finalized)**\n",
        "    * rotate some images to make up for the numbers, but the images would be similar\n",
        "    * go further back and obtain images from before 2009, until there aren't even such satellite images available\n",
        "    * for these stronger TCs, we include satellite images taken every (for example) 3 hours instead of 6, thereby getting more (but similar) images\n",
        "    * check other sources for images, but the images would have different dimensions/zooming levels or may require other preprocessing"
      ]
    },
    {
      "cell_type": "markdown",
      "metadata": {
        "colab_type": "text",
        "id": "V80v0i6MsTOs"
      },
      "source": [
        "## Preprocessing\n",
        "\n",
        "This part is rather straightforward. Based on the criteria stated above, we drop unnecessary columns and bin the pressure values into labels (just using numbers 1-12 should be ok). Next the dataset is separated into train, dev and test sets. After that each set gets its own PyTorch DataLoader pipeline."
      ]
    },
    {
      "cell_type": "code",
      "metadata": {
        "colab_type": "code",
        "id": "vLw_gBVgOhPG",
        "colab": {}
      },
      "source": [
        "# Import \n",
        "from sklearn.model_selection import train_test_split"
      ],
      "execution_count": 0,
      "outputs": []
    },
    {
      "cell_type": "code",
      "metadata": {
        "colab_type": "code",
        "id": "gNQXGL6ug-Ca",
        "colab": {}
      },
      "source": [
        "# Pick useful label attributes only\n",
        "processed_labels = labels[['class','sequence','raw_index','year']]"
      ],
      "execution_count": 0,
      "outputs": []
    },
    {
      "cell_type": "code",
      "metadata": {
        "colab_type": "code",
        "id": "q8z8GpH2gkkh",
        "outputId": "3a08f84a-23c1-4b95-c028-66ca8d9797c0",
        "colab": {
          "base_uri": "https://localhost:8080/",
          "height": 34
        }
      },
      "source": [
        "\"\"\" Group data into Train, Dev, Test set \"\"\"\n",
        "# To prevent Data leak, we seperate test data by year\n",
        "\n",
        "train_ratio = 0.8\n",
        "test_after_year = 2012\n",
        "test_set = processed_labels[processed_labels['year'] >= 2012]\n",
        "traindev_set = processed_labels[processed_labels['year'] < 2012]\n",
        "train_set, dev_set = train_test_split(traindev_set, train_size=train_ratio, shuffle=True)\n",
        "print(\"[Test Size {}] [Train Size {}] [Dev Size {}]\".format(len(test_set),len(train_set),len(dev_set)))"
      ],
      "execution_count": 0,
      "outputs": [
        {
          "output_type": "stream",
          "text": [
            "[Test Size 30738] [Train Size 106341] [Dev Size 26586]\n"
          ],
          "name": "stdout"
        }
      ]
    },
    {
      "cell_type": "code",
      "metadata": {
        "colab_type": "code",
        "id": "sYS2K_H0BziP",
        "colab": {}
      },
      "source": [
        "# Import pytorch and packages gonna use\n",
        "import torch\n",
        "from torch.utils.data import Dataset, DataLoader\n",
        "from torchvision import transforms\n",
        "import torch.nn as nn\n",
        "import torch.optim as optim\n",
        "from PIL import Image"
      ],
      "execution_count": 0,
      "outputs": []
    },
    {
      "cell_type": "code",
      "metadata": {
        "colab_type": "code",
        "id": "-xjSDA6tr2vu",
        "colab": {}
      },
      "source": [
        "\"\"\" Custom PyTorch Dataset \"\"\"\n",
        "class TyDataset(Dataset):\n",
        "  def __init__(self, df):\n",
        "    if IMGS_DICT:\n",
        "      self.img_dict = IMGS_DICT\n",
        "    self.df = df\n",
        "    self.transform = transforms.Compose([\n",
        "      transforms.RandomResizedCrop(224),  \n",
        "      transforms.ToTensor(),\n",
        "      transforms.Normalize(mean=[0.5], std=[0.5])\n",
        "  ])\n",
        "  \n",
        "  def __len__(self):\n",
        "    return len(self.df)\n",
        "  \n",
        "  def getImg(self, idx):\n",
        "    if self.img_dict:\n",
        "      return getImageFromDict(self.img_dict, self.df.iloc[idx])\n",
        "    else:\n",
        "      with h5py.File(f\"{dataset_dir}/images.hdf5\", 'r') as h5:\n",
        "        return getImageFromH5(h5, self.df.iloc[idx])\n",
        "\n",
        "  def __getitem__(self, idx):\n",
        "    img = Image.fromarray(getImg(idx)).convert('RGB')\n",
        "    label = self.df.iloc[idx]['class']\n",
        "    image = self.transform(img)\n",
        "    return image, label"
      ],
      "execution_count": 0,
      "outputs": []
    },
    {
      "cell_type": "markdown",
      "metadata": {
        "id": "VXuP0J1ErD7l",
        "colab_type": "text"
      },
      "source": [
        "## Models"
      ]
    },
    {
      "cell_type": "markdown",
      "metadata": {
        "colab_type": "text",
        "id": "qq56ulfPrw31"
      },
      "source": [
        "### Building and Training a Model - Take 1: Pre-trained Net\n",
        "\n",
        "After the preprocessing is complete, a model is developed as baseline.\n",
        "\n",
        "Firstly we try to use a pre-trained CNN \"densenet161\" and see how it performs with our data.\n",
        "\n",
        "For loss function we chose cross entropy loss and optimizer is Adam."
      ]
    },
    {
      "cell_type": "code",
      "metadata": {
        "colab_type": "code",
        "id": "93hS1TxRlVPk",
        "colab": {}
      },
      "source": [
        "# DEBUG: Get one batch\n",
        "# next(iter(train_loader))"
      ],
      "execution_count": 0,
      "outputs": []
    },
    {
      "cell_type": "code",
      "metadata": {
        "colab_type": "code",
        "id": "w3M9Grkos1ex",
        "colab": {}
      },
      "source": [
        "\"\"\" Pre-trained CNN Model \"\"\"\n",
        "import torchvision.models as models\n",
        "# from efficientnet_pytorch import EfficientNet\n",
        "\n",
        "class PretrainNet(nn.Module):\n",
        "  def __init__(self):\n",
        "    super(PretrainNet, self).__init__()\n",
        "    ## Define layers\n",
        "    # Input shape: (Batch size, 1, 512, 512)\n",
        "    # Convolution layer(s)\n",
        "    self.conv = self.densenet()\n",
        "    # FC layer(s)\n",
        "    self.fc = nn.Sequential(\n",
        "          nn.Linear(1000, 512), # 1000 is the default output size in densenet\n",
        "          nn.Dropout(0.2),\n",
        "          nn.ReLU(),\n",
        "          nn.Linear(512, 6)\n",
        "        )\n",
        "  \n",
        "  def densenet(self):\n",
        "    model = models.densenet161(pretrained=True) \n",
        "    for param in model.parameters():\n",
        "      param.requires_grad = False\n",
        "    return model\n",
        "\n",
        "  def forward(self, x):\n",
        "    x = self.conv(x)\n",
        "    x = self.fc(x)\n",
        "    return x"
      ],
      "execution_count": 0,
      "outputs": []
    },
    {
      "cell_type": "markdown",
      "metadata": {
        "colab_type": "text",
        "id": "vmgzdXdDOlYl"
      },
      "source": [
        "Now with the preparation complete, the following performs the training process."
      ]
    },
    {
      "cell_type": "markdown",
      "metadata": {
        "colab_type": "text",
        "id": "zj5oT67DSfIA"
      },
      "source": [
        "The following are obtained from the first successful (i.e. no runtime error) test run of the said model:\n",
        "\n",
        "||Training|Dev|Test|\n",
        "---|---|---|---\n",
        "Acc:| 0.001 | 0.002 | 0.0018\n",
        "\n",
        "Running time: 1745s = ca. 29 minutes\n",
        "\n",
        "![Image: performance plot](https://drive.google.com/uc?id=1bRPjaNC97slYTRQZ6wNJHt5GdhO9YaMV)\n",
        "\n",
        "The performance is not satisfactory at all. We assumed that the pre-trained model is trained on RGB images of other uses/sources, therefore it does not adapt well, if at all, to this new situation. \n",
        "\n",
        "However, after fixing an issue with accuracy calculation, the performance improved greatly, except we observe overfitting:\n",
        "\n",
        "||Training|Dev|Test|\n",
        "---|---|---|---\n",
        "Acc:| 85.829 | 31.034 | 30.388\n",
        "\n",
        "Running time: 2181s = ca. 36 minutes\n",
        "\n",
        "![alt text](https://drive.google.com/uc?id=14tvApO6KbhSAcDUdzYUD7ZOvtQMQw-Qx)"
      ]
    },
    {
      "cell_type": "markdown",
      "metadata": {
        "colab_type": "text",
        "id": "VjfPVGHEoiDf"
      },
      "source": [
        "### [Interim Prototype] Building and Training a Model - Take 2: Custom CNN\n",
        "\n",
        "This time, we construct our own model from scratch. The structure is as follows:\n",
        "* Conv2D with 16 filters and kernel size 3, followed by a ReLU\n",
        "* Conv2D with 16 filters and kernel size 3, followed by a ReLU, average pooling (kernel size 2) and dropout (0.2)\n",
        "* Conv2D with 16 filters and kernel size 3, followed by a ReLU, average pooling (kernel size 2) and dropout (0.2)\n",
        "* Conv2D with 16 filters and kernel size 3, followed by a ReLU, average pooling (kernel size 2) and dropout (0.2)\n",
        "* Flattening and Linear layer (65536 neurons -> 4096) with ReLU and dropout (0.2)\n",
        "* Linear (4096 -> 1024) with ReLU\n",
        "* Linear (1024 -> 32) with Sigmoid\n",
        "\n",
        "For optimizer and loss function choices, we stick to Adam and Cross Entropy respectively as before."
      ]
    },
    {
      "cell_type": "code",
      "metadata": {
        "colab_type": "code",
        "id": "ZQH9qgKHqXDV",
        "colab": {}
      },
      "source": [
        "\"\"\" New Model \"\"\"\n",
        "\n",
        "class interim_prototype_take2(nn.Module):\n",
        "  def __init__(self):\n",
        "    super(interim_prototype_take2, self).__init__()\n",
        "    # CNN Model layers\n",
        "    # Input shape: Batch size B, 1 channel, 512, 512\n",
        "    \n",
        "    # conv. layers\n",
        "    # uncomment to use\n",
        "    self.conv = nn.Sequential(\n",
        "        # After 1st conv: (B, 1, 512, 512) -> (B, 16, 512, 512)\n",
        "        nn.Conv2d(1, 16, kernel_size=3, stride=1, padding=1, bias=False),\n",
        "        nn.ReLU(True),\n",
        "        # After 2nd conv: (B, 16, 512, 512) -> (B, 16, 512, 512)\n",
        "        nn.Conv2d(16, 16, kernel_size=3, stride=1, padding=1, bias=False),\n",
        "        nn.ReLU(True),\n",
        "        # After AvgPool2d: (B, 16, 512, 512) -> (B, 16, 256, 256)\n",
        "        nn.AvgPool2d(kernel_size=2),  #stride = 1?\n",
        "        nn.Dropout(0.20),\n",
        "        # After 3rd conv: (B, 16, 256, 256) -> (B, 16, 256, 256)\n",
        "        nn.Conv2d(16, 16, kernel_size=3, stride=1, padding=1, bias=False),\n",
        "        nn.ReLU(True),\n",
        "        # After AvgPool2d: (B, 16, 256, 256) -> (B, 16, 128, 128)\n",
        "        nn.AvgPool2d(kernel_size=2),\n",
        "        nn.Dropout(0.20),\n",
        "        # After 4th conv: (B, 16, 128, 128) -> (B, 16, 128, 128)\n",
        "        nn.Conv2d(16, 16, kernel_size=3, stride=1, padding=1, bias=False),\n",
        "        nn.ReLU(True),\n",
        "        # After AvgPool2d: (B, 16, 128, 128) -> (B, 16, 64, 64)\n",
        "        nn.AvgPool2d(kernel_size=2),\n",
        "        nn.Dropout(0.20),\n",
        "    )\n",
        "\n",
        "    # The following is the version of the conv. layers used to ease visualization\n",
        "    # and is essentially identical as above. However, this somehow crashes the accuracy.\n",
        "    '''self.conv1 = nn.Sequential(\n",
        "        nn.Conv2d(1, 16, kernel_size=3, stride=1, padding=1, bias=False),\n",
        "        nn.ReLU(True),\n",
        "    )\n",
        "    self.conv2 = nn.Sequential(\n",
        "        nn.Conv2d(16, 16, kernel_size=3, stride=1, padding=1, bias=False),\n",
        "        nn.ReLU(True),\n",
        "        nn.AvgPool2d(kernel_size=2),\n",
        "        nn.Dropout(0.20),\n",
        "    )\n",
        "    self.conv3 = nn.Sequential(\n",
        "        nn.Conv2d(16, 16, kernel_size=3, stride=1, padding=1, bias=False),\n",
        "        nn.ReLU(True),\n",
        "        nn.AvgPool2d(kernel_size=2),\n",
        "        nn.Dropout(0.20),\n",
        "    )\n",
        "    self.conv4 = nn.Sequential(\n",
        "        nn.Conv2d(16, 16, kernel_size=3, stride=1, padding=1, bias=False),\n",
        "        nn.ReLU(True),\n",
        "        nn.AvgPool2d(kernel_size=2),\n",
        "        nn.Dropout(0.20),\n",
        "    )'''\n",
        "\n",
        "    # FC layers\n",
        "    self.fc = nn.Sequential(\n",
        "        # After flattening: (B, 16, 64, 64) -> (B, 16*64*64) (65,536 neurons)\n",
        "        nn.Flatten(),\n",
        "        nn.Linear(16*64*64,1024),\n",
        "        nn.ReLU(True),\n",
        "        nn.Dropout(0.20),\n",
        "        nn.Linear(1024, 12), #fix output shape to (B, B)\n",
        "        #nn.Sigmoid(), #potentially problematic\n",
        "    )\n",
        "  \n",
        "  def forward(self,x):\n",
        "    x = self.conv(x)\n",
        "    '''self.x1 = self.conv1(x)       #added code to save intermediate result\n",
        "    self.x2 = self.conv2(self.x1)\n",
        "    self.x3 = self.conv3(self.x2)\n",
        "    self.x4 = self.conv4(self.x3)\n",
        "    self.x5 = self.fc(self.x4)'''\n",
        "    x = self.fc(x)\n",
        "    return x\n"
      ],
      "execution_count": 0,
      "outputs": []
    },
    {
      "cell_type": "markdown",
      "metadata": {
        "colab_type": "text",
        "id": "1a70KVbyvzPZ"
      },
      "source": [
        "The following are obtained from a run on 18th April, without the sigmoid:\n",
        "\n",
        "||Training|Dev|Test|\n",
        "---|---|---|---\n",
        "Acc:| 99.232 | 29.418 | 26.616\n",
        "\n",
        "Running time: 1630s ~= 27 minutes. Below are code to visualize the model's performance. Some plots on 18 April, during the development of an interim prototype are as follows:\n",
        "\n",
        "Accuracy against epoch:\n",
        "\n",
        "![alt text](https://drive.google.com/uc?id=1xzzGNCI5p3CSlL8zr4sj5SCfjF86OqRE)\n",
        "\n",
        "Confusion matrix with training set:\n",
        "\n",
        "![alt text](https://drive.google.com/uc?id=1-_N4JtQRbe4Arwi2jqgs61iAxms1enKA)\n",
        "\n",
        "Confusion matrix with testing set:\n",
        "\n",
        "![alt text](https://drive.google.com/uc?id=1tAYiB30VnzweryEvAHDbfMSmKnFZPH-E)"
      ]
    },
    {
      "cell_type": "code",
      "metadata": {
        "colab_type": "code",
        "id": "riu4PdqTvkWg",
        "colab": {}
      },
      "source": [
        "\"\"\" Visualization: Accuracy over epoch graph \"\"\"\n",
        "import matplotlib.pyplot as plt\n",
        "%matplotlib inline\n",
        "\n",
        "fig, ax = plt.subplots()\n",
        "plt.title(\"Interim Prototype Model: Custom CNN Accuracy\")\n",
        "ax.plot(all_train_acc, label=\"Training\")\n",
        "ax.plot(all_dev_acc, label=\"Dev\")\n",
        "plt.hlines(test_acc, xmin=0, xmax=n_epochs-1, label=\"Test\", linestyles='dashed')\n",
        "\n",
        "plt.grid()\n",
        "plt.xlabel('Epochs')\n",
        "plt.ylabel('Acc')\n",
        "plt.legend(loc='upper left')\n",
        "plt.show()"
      ],
      "execution_count": 0,
      "outputs": []
    },
    {
      "cell_type": "code",
      "metadata": {
        "colab_type": "code",
        "id": "Szb0En_Iy-YJ",
        "colab": {}
      },
      "source": [
        "\"\"\" Visualization: Confusion Matrix with training data \"\"\"\n",
        "# Adapted from https://www.kaggle.com/agungor2/various-confusion-matrix-plots\n",
        "import seaborn as sn\n",
        "from sklearn.metrics import confusion_matrix\n",
        "\n",
        "def get_all_preds(model, loader, device):\n",
        "  all_preds = []\n",
        "  all_labels = []\n",
        "  model.eval()\n",
        "  with torch.no_grad():\n",
        "    for i, (images, labels) in enumerate(loader):\n",
        "      images, labels = images.to(device), labels.to(device)\n",
        "      output = model(images)\n",
        "      preds = torch.argmax(output.data, 1)\n",
        "      all_preds.extend(preds) #torch.cat((all_preds, preds), dim=0)\n",
        "      all_labels.extend(labels)# = torch.cat((all_labels, labels), dim=0)\n",
        "      if (i%20 == 0):\n",
        "        print(\"# Batches evaluated: \",i,\"/\",len(loader))\n",
        "  return all_preds, all_labels\n",
        "\n",
        "train_preds, train_truth = get_all_preds(interim_model_1, train_loader, device)\n",
        "train_preds, train_truth = torch.FloatTensor(train_preds), torch.FloatTensor(train_truth)\n",
        "print(\"Shapes:\",train_preds.size(),\";\",train_truth.size())\n",
        "data = confusion_matrix(train_truth, train_preds)\n",
        "df_cm = pd.DataFrame(data, columns=np.unique(train_truth), index = np.unique(train_truth))\n",
        "df_cm.index.name = 'Actual'\n",
        "df_cm.columns.name = 'Predicted'\n",
        "plt.figure(figsize = (10,7))\n",
        "sn.set(font_scale=1.4)\n",
        "sn.heatmap(df_cm, cmap=\"Blues\", annot=True,annot_kws={\"size\": 16}, fmt='d')"
      ],
      "execution_count": 0,
      "outputs": []
    },
    {
      "cell_type": "code",
      "metadata": {
        "colab_type": "code",
        "id": "W-6SNhu4uGVj",
        "colab": {}
      },
      "source": [
        "\"\"\" Visualization: Confusion Matrix with Test Set\"\"\"\n",
        "test_preds, test_truth = get_all_preds(interim_model_1, test_loader, device)\n",
        "test_preds, test_truth = torch.FloatTensor(test_preds), torch.FloatTensor(test_truth)\n",
        "print(\"Shapes:\",test_preds.size(),\";\",test_truth.size())\n",
        "data = confusion_matrix(test_truth, test_preds)\n",
        "df_cm = pd.DataFrame(data, columns=np.unique(test_truth), index = np.unique(test_truth))\n",
        "df_cm.index.name = 'Actual'\n",
        "df_cm.columns.name = 'Predicted'\n",
        "plt.figure(figsize = (10,7))\n",
        "sn.set(font_scale=1.4)\n",
        "sn.heatmap(df_cm, cmap=\"Blues\", annot=True,annot_kws={\"size\": 16}, fmt='d')"
      ],
      "execution_count": 0,
      "outputs": []
    },
    {
      "cell_type": "markdown",
      "metadata": {
        "colab_type": "text",
        "id": "RjLp0SZy1faS"
      },
      "source": [
        "### [Interim Prototype] Conclusions about the two models\n",
        "\n",
        "Both models have shown overfitting to the training data and yielded similar results when they were evaluated with the test set. We hypothesize that they have overfitted and failed to extract the key features from the images, leading to ridiculous results.\n",
        "\n",
        "There are many ways that we can improve the outcome. In the upcoming week (since 20 April), we would soon be granted access to Prof. Kitamoto's dataset, which may provide useful insights; in addition thereto, visualizing the convolution network weights, introducing cross validation and modifying model architecture (esp. its depth, dropout rate and choice of activation functions) are also viable ways to improve."
      ]
    },
    {
      "cell_type": "markdown",
      "metadata": {
        "id": "6rarGHoIjo6K",
        "colab_type": "text"
      },
      "source": [
        "## Train, Vaildate, Test"
      ]
    },
    {
      "cell_type": "markdown",
      "metadata": {
        "id": "HPjQGdbjjo53",
        "colab_type": "text"
      },
      "source": [
        "### Functions for training use"
      ]
    },
    {
      "cell_type": "code",
      "metadata": {
        "id": "J9_7LkyZjo54",
        "colab_type": "code",
        "colab": {}
      },
      "source": [
        "class AverageMeter(object):\n",
        "    \"\"\"Computes and stores the average and current value\"\"\"\n",
        "    def __init__(self, name, fmt=':f'):\n",
        "        self.name = name\n",
        "        self.fmt = fmt\n",
        "        self.reset()\n",
        "\n",
        "    def reset(self):\n",
        "        self.val = 0\n",
        "        self.avg = 0\n",
        "        self.sum = 0\n",
        "        self.count = 0\n",
        "\n",
        "    def update(self, val, n=1):\n",
        "        self.val = val\n",
        "        self.sum += val * n\n",
        "        self.count += n\n",
        "        self.avg = self.sum / self.count\n",
        "\n",
        "    def __str__(self):\n",
        "        fmtstr = '{name} {val' + self.fmt + '} ({avg' + self.fmt + '})'\n",
        "        return fmtstr.format(**self.__dict__)\n",
        "\n",
        "\n",
        "class ProgressMeter(object):\n",
        "    def __init__(self, num_batches, *meters, prefix=\"\"):\n",
        "        self.batch_fmtstr = self._get_batch_fmtstr(num_batches)\n",
        "        self.meters = meters\n",
        "        self.prefix = prefix\n",
        "\n",
        "    def print(self, batch):\n",
        "        entries = [self.prefix + self.batch_fmtstr.format(batch)]\n",
        "        entries += [str(meter) for meter in self.meters]\n",
        "        print('\\t'.join(entries))\n",
        "\n",
        "    def _get_batch_fmtstr(self, num_batches):\n",
        "        num_digits = len(str(num_batches // 1))\n",
        "        fmt = '{:' + str(num_digits) + 'd}'\n",
        "        return '[' + fmt + '/' + fmt.format(num_batches) + ']'"
      ],
      "execution_count": 0,
      "outputs": []
    },
    {
      "cell_type": "code",
      "metadata": {
        "id": "5d76Dxlrjo5_",
        "colab_type": "code",
        "colab": {}
      },
      "source": [
        "def adjust_learning_rate(optimizer, epoch, lr):\n",
        "    \"\"\"Sets the learning rate to the initial LR decayed by 10 every 30 epochs\"\"\"\n",
        "    lr = lr * (0.1 ** (epoch // 30))\n",
        "    for param_group in optimizer.param_groups:\n",
        "        param_group['lr'] = lr\n",
        "\n",
        "\n",
        "def accuracy(output, target, topk=(1,)):\n",
        "    \"\"\"Computes the accuracy over the k top predictions for the specified values of k\"\"\"\n",
        "    with torch.no_grad():\n",
        "        maxk = max(topk)\n",
        "        batch_size = target.size(0)\n",
        "\n",
        "        _, pred = output.topk(maxk, 1, True, True)\n",
        "        pred = pred.t()\n",
        "        correct = pred.eq(target.view(1, -1).expand_as(pred))\n",
        "\n",
        "        res = []\n",
        "        for k in topk:\n",
        "            correct_k = correct[:k].view(-1).float().sum(0, keepdim=True)\n",
        "            res.append(correct_k.mul_(100.0 / batch_size))\n",
        "        return res"
      ],
      "execution_count": 0,
      "outputs": []
    },
    {
      "cell_type": "code",
      "metadata": {
        "id": "juBC4qOUjo6L",
        "colab_type": "code",
        "colab": {}
      },
      "source": [
        "def train(train_loader, model, criterion, optimizer, epoch, freq):\n",
        "    batch_time = AverageMeter('Time', ':6.3f')\n",
        "    data_time = AverageMeter('Data', ':6.3f')\n",
        "    losses = AverageMeter('Loss', ':.4e')\n",
        "    top1 = AverageMeter('Acc@1', ':6.2f')\n",
        "    top3 = AverageMeter('Acc@3', ':6.2f')\n",
        "    progress = ProgressMeter(len(train_loader), batch_time, data_time, losses, top1,\n",
        "                             top3, prefix=\"Epoch: [{}]\".format(epoch))\n",
        "\n",
        "    # switch to train mode\n",
        "    model.train()\n",
        "\n",
        "    end = time.time()\n",
        "    for i, (input, target) in enumerate(train_loader):\n",
        "        # measure data loading time\n",
        "        data_time.update(time.time() - end)\n",
        "\n",
        "        input = input.cuda(non_blocking=True)\n",
        "        target = target.cuda(non_blocking=True)\n",
        "\n",
        "        # compute output\n",
        "        output = model(input)\n",
        "        loss = criterion(output, target)\n",
        "\n",
        "        # measure accuracy and record loss\n",
        "        acc1, acc3 = accuracy(output, target, topk=(1, 3))\n",
        "        losses.update(loss.item(), input.size(0))\n",
        "        top1.update(acc1[0], input.size(0))\n",
        "        top3.update(acc3[0], input.size(0))\n",
        "\n",
        "        # compute gradient and do SGD step\n",
        "        optimizer.zero_grad()\n",
        "        loss.backward()\n",
        "        optimizer.step()\n",
        "\n",
        "        # measure elapsed time\n",
        "        batch_time.update(time.time() - end)\n",
        "        end = time.time()\n",
        "\n",
        "        if i % freq == 0:\n",
        "            progress.print(i)"
      ],
      "execution_count": 0,
      "outputs": []
    },
    {
      "cell_type": "code",
      "metadata": {
        "id": "fjSa_Frcjo6Y",
        "colab_type": "code",
        "colab": {}
      },
      "source": [
        "def validate(val_loader, model, criterion, freq):\n",
        "    batch_time = AverageMeter('Time', ':6.3f')\n",
        "    losses = AverageMeter('Loss', ':.4e')\n",
        "    top1 = AverageMeter('Acc@1', ':6.2f')\n",
        "    top3 = AverageMeter('Acc@3', ':6.2f')\n",
        "    progress = ProgressMeter(len(val_loader), batch_time, losses, top1, top3,\n",
        "                             prefix='Test: ')\n",
        "\n",
        "    # switch to evaluate mode\n",
        "    model.eval()\n",
        "\n",
        "    with torch.no_grad():\n",
        "        end = time.time()\n",
        "        for i, (input, target) in enumerate(val_loader):\n",
        "            input = input.cuda(non_blocking=True)\n",
        "            target = target.cuda(non_blocking=True)\n",
        "\n",
        "            # compute output\n",
        "            output = model(input)\n",
        "            loss = criterion(output, target)\n",
        "\n",
        "            # measure accuracy and record loss\n",
        "            acc1, acc3 = accuracy(output, target, topk=(1, 3))\n",
        "            losses.update(loss.item(), input.size(0))\n",
        "            top1.update(acc1[0], input.size(0))\n",
        "            top3.update(acc3[0], input.size(0))\n",
        "\n",
        "            # measure elapsed time\n",
        "            batch_time.update(time.time() - end)\n",
        "            end = time.time()\n",
        "\n",
        "            if i % freq == 0:\n",
        "                progress.print(i)\n",
        "\n",
        "        print(' * Acc@1 {top1.avg:.3f} Acc@3 {top3.avg:.3f}'\n",
        "              .format(top1=top1, top3=top3))\n",
        "\n",
        "    return top1.avg"
      ],
      "execution_count": 0,
      "outputs": []
    },
    {
      "cell_type": "markdown",
      "metadata": {
        "id": "mTCOGsJ1qibN",
        "colab_type": "text"
      },
      "source": [
        "### Main Loop"
      ]
    },
    {
      "cell_type": "code",
      "metadata": {
        "id": "ATQXStmIjo6j",
        "colab_type": "code",
        "colab": {}
      },
      "source": [
        "import time\n",
        "def main(model, train_loader, val_loader, epochs):\n",
        "    global best_acc1\n",
        "    \n",
        "    best_acc1 = 0\n",
        "    \n",
        "    if torch.cuda.device_count() > 1:\n",
        "        model = nn.DataParallel(model)\n",
        "\n",
        "    if torch.cuda.is_available():\n",
        "        model = model.cuda()\n",
        "    \n",
        "    lr = 0.01\n",
        "    print_freq = 500\n",
        "    # define loss function (criterion) and optimizer\n",
        "    criterion = nn.CrossEntropyLoss().cuda()\n",
        "\n",
        "    optimizer = torch.optim.Adam(model.parameters(), lr)\n",
        "\n",
        "    torch.backends.cudnn.benchmark = True\n",
        "    for epoch in range(0, epochs):\n",
        "        adjust_learning_rate(optimizer, epoch, lr)\n",
        "\n",
        "        # train for one epoch\n",
        "        train(train_loader, model, criterion, optimizer, epoch, print_freq)\n",
        "\n",
        "        # evaluate on validation set\n",
        "        acc1 = validate(val_loader, model, criterion, print_freq)\n",
        "\n",
        "        # remember best acc@1 and save checkpoint\n",
        "        best_acc1 = max(acc1, best_acc1)"
      ],
      "execution_count": 0,
      "outputs": []
    },
    {
      "cell_type": "code",
      "metadata": {
        "colab_type": "code",
        "id": "wLzDLW_Iv1iU",
        "outputId": "0c5ba09b-4c00-4a68-fefb-0b7e69a5123a",
        "colab": {
          "base_uri": "https://localhost:8080/",
          "height": 69
        }
      },
      "source": [
        "\"\"\" Creating DataLoader instances \"\"\"\n",
        "# DataLoader for training set\n",
        "batch_size = 128\n",
        "num_workers=32\n",
        "pin_memory=True # True when we use GPU to train\n",
        "\n",
        "train_ds = TyDataset(train_set)\n",
        "train_loader = DataLoader(train_ds, batch_size = batch_size, shuffle=True, num_workers=num_workers, drop_last=True, pin_memory=pin_memory)\n",
        "print(\"Training set size (after DataLoader processing):\", len(train_ds))\n",
        "\n",
        "# DataLoader for dev set\n",
        "dev_batch_size = batch_size\n",
        "dev_ds = TyDataset(dev_set)\n",
        "dev_loader = DataLoader(dev_ds, batch_size = batch_size, shuffle=True, num_workers=num_workers, drop_last=True, pin_memory=pin_memory)\n",
        "print(\"Dev set size (after DataLoader processing):\", len(dev_ds))\n",
        "\n",
        "# DataLoader for test set\n",
        "test_batch_size = batch_size\n",
        "test_ds = TyDataset(test_set)\n",
        "test_loader = DataLoader(test_ds, batch_size = batch_size, shuffle=True, num_workers=num_workers, drop_last=True, pin_memory=pin_memory)\n",
        "print(\"Test set size (after DataLoader processing):\", len(test_ds))"
      ],
      "execution_count": 0,
      "outputs": [
        {
          "output_type": "stream",
          "text": [
            "Training set size (after DataLoader processing): 106341\n",
            "Dev set size (after DataLoader processing): 26586\n",
            "Test set size (after DataLoader processing): 30738\n"
          ],
          "name": "stdout"
        }
      ]
    },
    {
      "cell_type": "code",
      "metadata": {
        "id": "2g5BMDf0jo65",
        "colab_type": "code",
        "colab": {}
      },
      "source": [
        "model = PretrainNet()\n",
        "main(model, train_loader, dev_loader, epochs=30)"
      ],
      "execution_count": 0,
      "outputs": []
    },
    {
      "cell_type": "code",
      "metadata": {
        "id": "05-Ml5MCjo6_",
        "colab_type": "code",
        "colab": {}
      },
      "source": [
        ""
      ],
      "execution_count": 0,
      "outputs": []
    },
    {
      "cell_type": "markdown",
      "metadata": {
        "colab_type": "text",
        "id": "6W-lDdYMPYfc"
      },
      "source": [
        "## Error Analysis\n",
        "\n",
        "After obtaining the results above, we decided to start tackling with the issue that there is an outrageously wide gap between train and dev/test accuracies. The first thing we tried was to visualize CNN convolution results."
      ]
    },
    {
      "cell_type": "markdown",
      "metadata": {
        "colab_type": "text",
        "id": "90Fp0Yqhrspm"
      },
      "source": [
        "### Feature map visualization\n",
        "\n",
        "To implement the code that makes visualization work, the model itself has to be edited a bit, such that `torch.nn.Sequential` is not used to wrap the  convolution layers in one and intermediate layers are accessible."
      ]
    },
    {
      "cell_type": "code",
      "metadata": {
        "colab_type": "code",
        "id": "jxKs0FF5PcHr",
        "colab": {}
      },
      "source": [
        "\"\"\" \n",
        "Visualizing conv feature maps with PyTorch\n",
        "Code modified from https://discuss.pytorch.org/t/visualize-feature-map/29597/2\n",
        "See also: https://github.com/utkuozbulak/pytorch-cnn-visualizations/blob/master/src/cnn_layer_visualization.py\n",
        "\"\"\"\n",
        "\n",
        "# Visualize activations\n",
        "activation = {}\n",
        "def get_activation(name):\n",
        "  def hook(model, input, output):\n",
        "    activation[name] = output.detach()\n",
        "  return hook\n",
        "\n",
        "# access intermediate layers: remove last 4 layers of conv part\n",
        "#module = nn.Sequential(*list(test_model.conv.children())[:-4])\n",
        "\n",
        "test_model.conv.register_forward_hook(get_activation('conv'))\n",
        "data, _ = next(iter(test_loader)) #obtain random image from dataloader\n",
        "data = data[0]\n",
        "data.unsqueeze_(0)\n",
        "model_cpu = test_model.cpu()\n",
        "output = model_cpu(data)  # it handles a batch each time...\n",
        "\n",
        "act = activation['conv'].squeeze() \n",
        "print(act.size(0))\n",
        "fig, axarr = plt.subplots(4,4, figsize=(10,10))\n",
        "for i in range(4):\n",
        "  for j in range(4):\n",
        "    axarr[i][j].imshow(act[i*4+j])"
      ],
      "execution_count": 0,
      "outputs": []
    },
    {
      "cell_type": "markdown",
      "metadata": {
        "colab_type": "text",
        "id": "ZXVUNWlhTj6m"
      },
      "source": [
        "### Training-Dev set\n",
        "\n",
        "The second thing we tried was to add a training-dev set and observe the model's behaviour. A bit of L2 regulatization is also introduced at this point."
      ]
    },
    {
      "cell_type": "code",
      "metadata": {
        "colab_type": "code",
        "id": "HsyPDO0AjsNd",
        "colab": {}
      },
      "source": [
        "\"\"\" Creating four datasets \"\"\"\n",
        "dataset = shuffle(dataset)\n",
        "train_set_ratio = 0.8\n",
        "dev_set_ratio = 0.1\n",
        "test_dev_ratio = 0.1\n",
        "\n",
        "temp, test_set = train_test_split(dataset, test_size = 1 - train_set_ratio)\n",
        "test_set, dev_set = train_test_split(test_set, test_size = dev_set_ratio/(1-train_set_ratio))\n",
        "train_set, train_dev_set = train_test_split(temp, test_size = test_dev_ratio/(train_set_ratio))\n",
        "\n",
        "print(\"train set:\")\n",
        "train_set.info()\n",
        "print(\"train-dev set:\")\n",
        "train_dev_set.info()\n",
        "print(\"dev set:\")\n",
        "dev_set.info()\n",
        "print(\"test set:\")\n",
        "test_set.info()"
      ],
      "execution_count": 0,
      "outputs": []
    },
    {
      "cell_type": "code",
      "metadata": {
        "colab_type": "code",
        "id": "TXXVWxeMkERS",
        "colab": {}
      },
      "source": [
        "\"\"\" Dataset and DataLoader \"\"\"\n",
        "# DataLoader for training set\n",
        "train_batch_size = batch_size\n",
        "train_ds = TyDataset(train_set)\n",
        "train_loader = DataLoader(train_ds, batch_size = train_batch_size, shuffle=True, num_workers=8, drop_last=True)\n",
        "print(\"Training set size (after DataLoader processing):\", len(train_ds))\n",
        "\n",
        "# DataLoader for training-dev set\n",
        "train_dev_batch_size = batch_size\n",
        "train_dev_ds = TyDataset(train_dev_set)\n",
        "train_dev_loader = DataLoader(train_dev_ds, batch_size = train_dev_batch_size, shuffle=True, num_workers=8, drop_last=True)\n",
        "print(\"Training-dev set size (after DataLoader processing):\", len(train_dev_ds))\n",
        "\n",
        "# DataLoader for dev set\n",
        "dev_batch_size = batch_size\n",
        "dev_ds = TyDataset(dev_set)\n",
        "dev_loader = DataLoader(dev_ds, batch_size = dev_batch_size, shuffle=True, num_workers=8, drop_last=True)\n",
        "print(\"Dev set size (after DataLoader processing):\", len(dev_ds))\n",
        "\n",
        "# DataLoader for test set\n",
        "test_batch_size = batch_size\n",
        "test_ds = TyDataset(test_set)\n",
        "test_loader = DataLoader(test_ds, batch_size = test_batch_size, shuffle=True, num_workers=8, drop_last=True)\n",
        "print(\"Training set size (after DataLoader processing):\", len(test_ds))"
      ],
      "execution_count": 0,
      "outputs": []
    },
    {
      "cell_type": "code",
      "metadata": {
        "colab_type": "code",
        "id": "_cKIHSfwpATf",
        "colab": {}
      },
      "source": [
        "\"\"\" Device, Criterion and Other Stuff \"\"\"\n",
        "# Get device\n",
        "device = torch.device('cuda' if torch.cuda.is_available() else 'cpu')\n",
        "print(\"Device:\",device)\n",
        "if not torch.cuda.is_available():\n",
        "  print(\"Suggest you use GPU\")\n",
        "\n",
        "# Get model\n",
        "test_model = interim_prototype_take2()\n",
        "test_model = test_model.to(device)\n",
        "print(test_model)\n",
        "\n",
        "# Criterion and Optimizer\n",
        "L2_decay = 0.001  #set up L2 regularization\n",
        "criterion = nn.CrossEntropyLoss()\n",
        "optimizer = optim.Adam(test_model.parameters(), lr=learning_rate, weight_decay=L2_decay)"
      ],
      "execution_count": 0,
      "outputs": []
    },
    {
      "cell_type": "code",
      "metadata": {
        "colab_type": "code",
        "id": "4E6KHMYEkWx5",
        "colab": {}
      },
      "source": [
        "\"\"\" Modified training loop, with test set evaluation included \"\"\"\n",
        "from time import time\n",
        "\n",
        "all_train_acc, all_td_acc, all_dev_acc = [], [], []\n",
        "begin_time = time()\n",
        "for epoch in range(n_epochs):\n",
        "  print(\"Running epoch \",epoch,\"/\",n_epochs,\":\")\n",
        "  print(\"====================\")\n",
        "\n",
        "  log_dict = train_one_epoch(test_model, device=device, criterion=criterion, optimizer=optimizer, dataloader=train_loader)\n",
        "  train_loss = log_dict['loss'] / len(train_loader)\n",
        "  train_acc = log_dict['acc']\n",
        "  all_train_acc.append(train_acc)\n",
        "\n",
        "  log_dict = eval_one_epoch(test_model, device=device, criterion=criterion, dataloader=train_dev_loader)\n",
        "  td_loss = log_dict['loss'] / len(train_dev_loader)\n",
        "  td_acc = log_dict['acc']\n",
        "  all_td_acc.append(td_acc)\n",
        "\n",
        "  log_dict = eval_one_epoch(test_model, device=device, criterion=criterion, dataloader=dev_loader)\n",
        "  dev_loss = log_dict['loss'] / len(dev_loader)\n",
        "  dev_acc = log_dict['acc']\n",
        "  all_dev_acc.append(dev_acc)\n",
        "\n",
        "  finish_time = time()\n",
        "  print(\"Time: \", finish_time-begin_time)\n",
        "  print(\"---- Training ----\")\n",
        "  print(\"Loss: \", train_loss)\n",
        "  print(\"Acc: \", train_acc)\n",
        "  print(\"---- Training-Dev ----\")\n",
        "  print(\"Loss: \", td_loss)\n",
        "  print(\"Acc: \", td_acc)\n",
        "  print(\"----Dev----\")\n",
        "  print(\"Loss: \", dev_loss)\n",
        "  print(\"Acc: \", dev_acc)\n",
        "  print(\"====================\")"
      ],
      "execution_count": 0,
      "outputs": []
    },
    {
      "cell_type": "code",
      "metadata": {
        "colab_type": "code",
        "id": "SWhIWnBnyEM7",
        "colab": {}
      },
      "source": [
        "log_dict = eval_one_epoch(test_model, device, criterion, dataloader=test_loader)\n",
        "test_loss = log_dict['loss']\n",
        "test_acc = log_dict['acc']\n",
        "print(\"Test results:\")\n",
        "print(\"====================\")\n",
        "print(\"Loss: \", test_loss)\n",
        "print(\"Acc: \", test_acc)\n",
        "print(\"Behold!\")\n",
        "print(\"====================\")"
      ],
      "execution_count": 0,
      "outputs": []
    },
    {
      "cell_type": "code",
      "metadata": {
        "colab_type": "code",
        "id": "vO1PTiblrbBW",
        "colab": {}
      },
      "source": [
        "\"\"\" Visualization: Accuracies against time \"\"\"\n",
        "import matplotlib.pyplot as plt\n",
        "%matplotlib inline\n",
        "\n",
        "fig, ax = plt.subplots()\n",
        "plt.title(\"Interim Prototype Model: Custom CNN Accuracy\")\n",
        "ax.plot(all_train_acc, label=\"Training\")\n",
        "ax.plot(all_td_acc, label=\"Training-Dev\")\n",
        "ax.plot(all_dev_acc, label=\"Dev\")\n",
        "plt.hlines(test_acc, xmin=0, xmax=n_epochs-1, label=\"Test\", linestyles='dashed')\n",
        "\n",
        "plt.grid()\n",
        "plt.xlabel('Epochs')\n",
        "plt.ylabel('Acc')\n",
        "plt.legend(loc='lower right')\n",
        "plt.show()"
      ],
      "execution_count": 0,
      "outputs": []
    },
    {
      "cell_type": "markdown",
      "metadata": {
        "colab_type": "text",
        "id": "1JaKfy8msqNE"
      },
      "source": [
        "Results (accuracy scores) from the first run of the above code on 24 April:\n",
        "\n",
        "Training|Training-Dev|Dev|Test\n",
        "---|---|---|---\n",
        "93.657|27.478|25.969|26.077\n",
        "\n",
        "![alt text](https://drive.google.com/uc?id=1WhJoDwZyQIr0m_aC3Y1qbgm7GU70L9GH)\n",
        "\n",
        "Needless to say, this is exact proof that the model is overfitting to the training set, even with a bit of L2 regularization introduced. There are many ways we can handle it, googling for 30 seconds gave us:\n",
        "\n",
        "* **Using more data**: \n",
        "  It happens that Prof. Kitamoto has replied on 23 April, giving us access to his 40GB large dataset. Although the image has a different representation (exact cloud top temperatures instead of colour-enhanced infrared image), this should not be a big deal, as Prof. Kitamoto is also worried that learning BD images might be difficult. Whatever the case, we now have access to a gigantic dataset, so extra data is secured.\n",
        "* **Data augmentation**:\n",
        "  This can be used to add more variation to the images, but we would see whether we can make do with Prof. Kitamoto's dataset first.\n",
        "* **Regularization**:\n",
        "  We have included numerous dropout layers in the model, but the Internet suggests gradually increasing dropout rate as we near the output layer, so it may be worth a try. In addition, regularization rates can be increased. But this latter option might be taken into consideration when we finally figure out how to do grid search.\n"
      ]
    },
    {
      "cell_type": "markdown",
      "metadata": {
        "colab_type": "text",
        "id": "xvIpmKLvkKuU"
      },
      "source": [
        "---"
      ]
    },
    {
      "cell_type": "code",
      "metadata": {
        "colab_type": "code",
        "id": "YKX2DYFSVPCq",
        "colab": {}
      },
      "source": [
        "\"\"\" For CV later \"\"\"\n",
        "from skorch import NeuralNetClassifier\n",
        "from skorch.dataset import CVSplit\n",
        "from sklearn.model_selection import GridSearchCV, cross_val_score\n",
        "\n",
        "begin_time = time()\n",
        "test_net = NeuralNetClassifier(\n",
        "    # PyTorch model\n",
        "    module = interim_model_1,\n",
        "    max_epochs = n_epochs,\n",
        "    lr = learning_rate,\n",
        "    device = 'cuda',\n",
        "    criterion = nn.CrossEntropyLoss,\n",
        "    optimizer = optim.Adam,\n",
        "    optimizer__lr = learning_rate,\n",
        "    batch_size = batch_size,\n",
        "    # internal train/validation split by skorch\n",
        "    # use pytorch dataset is ok, auto-wrapped\n",
        "    # here validated against dev set\n",
        "    train_split = predefined_split(dev_ds), \n",
        ")\n",
        "\n",
        "# Directly fitting the model\n",
        "test_net.fit(train_ds)\n",
        "finish_time = time()\n",
        "\n",
        "# Test set validate\n",
        "test_score = test_net.score(test_ds)\n",
        "print(\"Raw test accuracy: \", test_score)\n",
        "# 5-fold CV scores\n",
        "cv_scores = cross_val_score(test_net, train_ds, cv=5, scoring='accuracy')\n",
        "print(\"5-Fold CV scores: \", cv_scores)\n",
        "print(\"Mean: \", cv_scores.mean())"
      ],
      "execution_count": 0,
      "outputs": []
    },
    {
      "cell_type": "markdown",
      "metadata": {
        "colab_type": "text",
        "id": "ZF5YwvEaZQv4"
      },
      "source": [
        "## Demo of current model\n",
        "\n",
        "Lets give a typhoon picture to our current model to see how the models perform!\n"
      ]
    },
    {
      "cell_type": "code",
      "metadata": {
        "colab_type": "code",
        "id": "QiBGlJzsZn8_",
        "colab": {}
      },
      "source": [
        "from PIL import Image\n",
        "import requests\n",
        "from io import BytesIO\n",
        "%pylab inline\n",
        "import matplotlib.pyplot as plt\n",
        "import matplotlib.image as mpimg\n",
        "\n",
        "\n",
        "response = requests.get('http://agora.ex.nii.ac.jp/digital-typhoon/wsp/by-name/201822/bd/512x512/HMW818032312.201822.jpg')\n",
        "img = Image.open(BytesIO(response.content))\n",
        "imgplot = plt.imshow(img, cmap='gray')\n",
        "plt.show()"
      ],
      "execution_count": 0,
      "outputs": []
    },
    {
      "cell_type": "code",
      "metadata": {
        "colab_type": "code",
        "id": "1xJJIouvmb94",
        "colab": {}
      },
      "source": [
        "transform = transforms.Compose([\n",
        "    transforms.ToTensor()\n",
        "    ]\n",
        ")\n",
        "t = transform(img).unsqueeze(0).cuda()\n",
        "with torch.no_grad():\n",
        "  outputs = interim_model_1(t)\n",
        "  _, predicted = torch.max(outputs.data, 1)\n",
        "  print(predicted)\n",
        "  "
      ],
      "execution_count": 0,
      "outputs": []
    },
    {
      "cell_type": "code",
      "metadata": {
        "colab_type": "code",
        "id": "9l6oHfCZtXG5",
        "colab": {}
      },
      "source": [
        "transform = transforms.Compose([\n",
        "      transforms.Resize(256),\n",
        "      transforms.CenterCrop(224),  \n",
        "      transforms.ToTensor(),\n",
        "      transforms.Normalize(mean=[0.485, 0.456, 0.406], std=[0.229, 0.224, 0.225])\n",
        "  ])\n",
        "\n",
        "t = transform(img.convert('RGB')).unsqueeze(0).cuda()\n",
        "\n",
        "with torch.no_grad():\n",
        "  outputs = interim_model(t)\n",
        "  _, predicted = torch.max(outputs.data, 1)\n",
        "  print(predicted)"
      ],
      "execution_count": 0,
      "outputs": []
    }
  ]
}